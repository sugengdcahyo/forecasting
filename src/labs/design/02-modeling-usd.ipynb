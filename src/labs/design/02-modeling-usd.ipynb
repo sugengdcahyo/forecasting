{
 "cells": [
  {
   "cell_type": "code",
   "execution_count": 1,
   "id": "ab005933-3609-40ae-a392-df0148b43fb8",
   "metadata": {},
   "outputs": [
    {
     "name": "stderr",
     "output_type": "stream",
     "text": [
      "Using TensorFlow backend.\n"
     ]
    }
   ],
   "source": [
    "import os\n",
    "import math\n",
    "import matplotlib.pyplot as plt\n",
    "import keras\n",
    "import pandas as pd\n",
    "import numpy as np\n",
    "\n",
    "from keras.models import Sequential\n",
    "from keras.layers import (\n",
    "    Dense, LSTM, LSTMCell, Dropout\n",
    ")\n",
    "from keras.callbacks import EarlyStopping\n",
    "from keras.utils.vis_utils import plot_model\n",
    "from keras.optimizers import Adam, SGD\n",
    "\n",
    "from sklearn.preprocessing import MinMaxScaler\n",
    "from sklearn.metrics import (\n",
    "    mean_squared_error as mse,\n",
    "    mean_absolute_error as mae\n",
    ")\n",
    "from sklearn.model_selection import train_test_split\n",
    "\n",
    "from bunch import bunchify\n",
    "\n",
    "from helpers.model_adam import Model"
   ]
  },
  {
   "cell_type": "code",
   "execution_count": 16,
   "id": "b72a3c01-c279-478c-b5f9-e8df253d7907",
   "metadata": {},
   "outputs": [],
   "source": [
    "currency = 'usd'"
   ]
  },
  {
   "cell_type": "code",
   "execution_count": 2,
   "id": "ecc45bf8-3717-4c5d-961e-536ed4bef23c",
   "metadata": {},
   "outputs": [
    {
     "data": {
      "text/html": [
       "<div>\n",
       "<style scoped>\n",
       "    .dataframe tbody tr th:only-of-type {\n",
       "        vertical-align: middle;\n",
       "    }\n",
       "\n",
       "    .dataframe tbody tr th {\n",
       "        vertical-align: top;\n",
       "    }\n",
       "\n",
       "    .dataframe thead th {\n",
       "        text-align: right;\n",
       "    }\n",
       "</style>\n",
       "<table border=\"1\" class=\"dataframe\">\n",
       "  <thead>\n",
       "    <tr style=\"text-align: right;\">\n",
       "      <th></th>\n",
       "      <th>Price</th>\n",
       "      <th>Open</th>\n",
       "      <th>High</th>\n",
       "      <th>Low</th>\n",
       "    </tr>\n",
       "    <tr>\n",
       "      <th>Date</th>\n",
       "      <th></th>\n",
       "      <th></th>\n",
       "      <th></th>\n",
       "      <th></th>\n",
       "    </tr>\n",
       "  </thead>\n",
       "  <tbody>\n",
       "    <tr>\n",
       "      <th>2014-01-01</th>\n",
       "      <td>12170.0</td>\n",
       "      <td>12170.0</td>\n",
       "      <td>12170.0</td>\n",
       "      <td>12170.0</td>\n",
       "    </tr>\n",
       "    <tr>\n",
       "      <th>2014-01-02</th>\n",
       "      <td>12160.0</td>\n",
       "      <td>12195.0</td>\n",
       "      <td>12260.0</td>\n",
       "      <td>12150.0</td>\n",
       "    </tr>\n",
       "    <tr>\n",
       "      <th>2014-01-03</th>\n",
       "      <td>12170.0</td>\n",
       "      <td>12160.0</td>\n",
       "      <td>12245.0</td>\n",
       "      <td>12160.0</td>\n",
       "    </tr>\n",
       "    <tr>\n",
       "      <th>2014-01-06</th>\n",
       "      <td>12180.0</td>\n",
       "      <td>12195.0</td>\n",
       "      <td>12245.0</td>\n",
       "      <td>12180.0</td>\n",
       "    </tr>\n",
       "    <tr>\n",
       "      <th>2014-01-07</th>\n",
       "      <td>12237.5</td>\n",
       "      <td>12197.5</td>\n",
       "      <td>12277.5</td>\n",
       "      <td>12197.5</td>\n",
       "    </tr>\n",
       "  </tbody>\n",
       "</table>\n",
       "</div>"
      ],
      "text/plain": [
       "              Price     Open     High      Low\n",
       "Date                                          \n",
       "2014-01-01  12170.0  12170.0  12170.0  12170.0\n",
       "2014-01-02  12160.0  12195.0  12260.0  12150.0\n",
       "2014-01-03  12170.0  12160.0  12245.0  12160.0\n",
       "2014-01-06  12180.0  12195.0  12245.0  12180.0\n",
       "2014-01-07  12237.5  12197.5  12277.5  12197.5"
      ]
     },
     "execution_count": 2,
     "metadata": {},
     "output_type": "execute_result"
    }
   ],
   "source": [
    "usd = pd.read_csv('datasets-usd.csv', index_col='Date')\n",
    "usd.head()"
   ]
  },
  {
   "cell_type": "markdown",
   "id": "a01b2531-7eb1-48cb-b4c4-48e3ba04d018",
   "metadata": {},
   "source": [
    "# Data Single Fitur Configuration\n",
    "\n",
    "Pada tahap ini data yang diproses hanya fitur data ***Price*** saja. fitur  ***Open***, ***High***, dan ***Low*** diabaikan.\n",
    "\n",
    "> **Notes**\n",
    ">\n",
    "> perform the process of sharing training and test data, then the data will be normalized in standard form. "
   ]
  },
  {
   "cell_type": "markdown",
   "id": "d250b4f1-6f4d-4ff6-b367-8717754ac88d",
   "metadata": {},
   "source": [
    "## Data spliting (training & testing)\n",
    "\n",
    "> **Notes**\n",
    "> Pembagian data training dan testing menggunakan rasio 80% awal untuk training dan 20% terakhir sebagai testing"
   ]
  },
  {
   "cell_type": "code",
   "execution_count": 3,
   "id": "85b3a93f-33fe-443a-890e-a7216d857736",
   "metadata": {},
   "outputs": [],
   "source": [
    "# split function\n",
    "\n",
    "def split(data, n_train=0.8, n_test=0.2):\n",
    "    train_set = data.Price.iloc[:round(n_train*len(data))].values\n",
    "    test_set = data.Price.iloc[round( n_train*len(data) ):].values\n",
    "    return train_set, test_set"
   ]
  },
  {
   "cell_type": "code",
   "execution_count": 4,
   "id": "869dfbc0-096f-4eed-8b6c-da23dd7e11f0",
   "metadata": {},
   "outputs": [],
   "source": [
    "dataset={}\n",
    "dataset['train_set'], dataset['test_set'] = split(usd)"
   ]
  },
  {
   "cell_type": "markdown",
   "id": "973926d1-a8ab-4aab-93fa-d08009c26a5a",
   "metadata": {},
   "source": [
    "## Scaling data with MinMaxFunction [-1, 1]\n",
    "\n",
    "\\begin{equation}\n",
    "X\\_std = \\frac{({X} - {X.min(axis=0)})} {(X.max(axis=0) - X.min(axis=0))}\\\\\n",
    "\\\\\n",
    "X\\_scaled = X\\_std * (max - min) + min\\\\\n",
    "\\end{equation}\n"
   ]
  },
  {
   "cell_type": "code",
   "execution_count": 5,
   "id": "198e607f-01de-482c-a79e-2ef6dd2ec2d1",
   "metadata": {},
   "outputs": [],
   "source": [
    "# define scaler parameter\n",
    "scaler = MinMaxScaler(feature_range=(-1, 1))"
   ]
  },
  {
   "cell_type": "code",
   "execution_count": 6,
   "id": "8e5e3d70-7698-4de0-8ff2-d66a9d290e32",
   "metadata": {},
   "outputs": [],
   "source": [
    "# data set transformation to metric shape (n_data, 1)\n",
    "dataset['train_set'] = dataset['train_set'].reshape(\n",
    "    len(dataset['train_set']), 1\n",
    ")\n",
    "dataset['test_set'] = dataset['test_set'].reshape(\n",
    "    len(dataset['test_set']), 1\n",
    ")"
   ]
  },
  {
   "cell_type": "code",
   "execution_count": 7,
   "id": "11ee9be7-4eaa-4313-91a1-2a887b97d6a0",
   "metadata": {},
   "outputs": [
    {
     "data": {
      "text/plain": [
       "((1447, 1), (362, 1))"
      ]
     },
     "execution_count": 7,
     "metadata": {},
     "output_type": "execute_result"
    }
   ],
   "source": [
    "dataset['train_set'].shape, dataset['test_set'].shape"
   ]
  },
  {
   "cell_type": "code",
   "execution_count": 8,
   "id": "f93ef20c-2d55-4c76-998e-1235b8c2e105",
   "metadata": {},
   "outputs": [],
   "source": [
    "# data transformation\n",
    "dataset['train_set_scaled'] = scaler.fit_transform(dataset['train_set'])\n",
    "dataset['test_set_scaled'] = scaler.fit_transform(dataset['test_set'])"
   ]
  },
  {
   "cell_type": "code",
   "execution_count": 9,
   "id": "b53860fd-8019-442d-8c33-b85915c81599",
   "metadata": {},
   "outputs": [],
   "source": [
    "# convert dict to object\n",
    "\n",
    "class dict2obj(object):\n",
    "    def __init__(self, d):\n",
    "        for a, b in d.items():\n",
    "            if isinstance(b, (list, tuple)):\n",
    "                setattr(self, a, [dict2obj(x) if isinstance(x, dict) else x for x in b])\n",
    "            else:\n",
    "                setattr(self, a, dict2obj(b) if isinstance(b, dict) else b)"
   ]
  },
  {
   "cell_type": "code",
   "execution_count": 10,
   "id": "a9bd17dd-c997-48a0-aa1a-de6c7b683b09",
   "metadata": {},
   "outputs": [],
   "source": [
    "data = dict2obj(dataset)"
   ]
  },
  {
   "cell_type": "markdown",
   "id": "6821a9ca-6011-42d2-b517-a98990c242d6",
   "metadata": {},
   "source": [
    "# Sliding dataset"
   ]
  },
  {
   "cell_type": "code",
   "execution_count": 11,
   "id": "9b1f2624-084c-4836-9451-69589014179e",
   "metadata": {},
   "outputs": [],
   "source": [
    "def sliding_window(data, window, step_size=1):\n",
    "    X_train=[]\n",
    "    y_train=[]\n",
    "    \n",
    "    for i in range(window, data.shape[0]):\n",
    "        X_train.append(data[i-window:i])\n",
    "        y_train.append(data[i])\n",
    "    X_train, y_train = np.array(X_train), np.array(y_train)\n",
    "    return X_train, y_train"
   ]
  },
  {
   "cell_type": "code",
   "execution_count": 12,
   "id": "32930b82-1b77-4868-8d51-733d747137da",
   "metadata": {},
   "outputs": [],
   "source": [
    "data.windows={}"
   ]
  },
  {
   "cell_type": "code",
   "execution_count": 13,
   "id": "7bff9f1d-8e6b-4150-a09e-a6c2a440196f",
   "metadata": {},
   "outputs": [],
   "source": [
    "inputs = [7,8,9,10]\n",
    "\n",
    "for window in inputs:\n",
    "    data.windows[f'X_train{window}'], data.windows[f'y_train{window}'] = sliding_window(\n",
    "        data=data.train_set_scaled,\n",
    "        window=window\n",
    "    )\n",
    "    data.windows[f'X_test{window}'], data.windows[f'y_test{window}'] = sliding_window(\n",
    "        data=data.test_set_scaled,\n",
    "        window=window\n",
    "    )"
   ]
  },
  {
   "cell_type": "code",
   "execution_count": 14,
   "id": "2ac056e4-acc2-469d-8002-0c5501914d48",
   "metadata": {},
   "outputs": [],
   "source": [
    "data.windows=dict2obj(data.windows)"
   ]
  },
  {
   "cell_type": "code",
   "execution_count": 15,
   "id": "32007e63-bdeb-415b-8b01-76a212b58da3",
   "metadata": {},
   "outputs": [
    {
     "data": {
      "text/plain": [
       "(1439, 8, 1)"
      ]
     },
     "execution_count": 15,
     "metadata": {},
     "output_type": "execute_result"
    }
   ],
   "source": [
    "data.windows.X_train8.shape"
   ]
  },
  {
   "cell_type": "markdown",
   "id": "428777de-5c17-4f2c-a9a2-a99a8fd8eda4",
   "metadata": {},
   "source": [
    "# Proposed model design and Experiment design\n",
    "| No. | Hyperparameters | Accuracy |\n",
    "| :- | -: | :-: |\n",
    "| 1* | Unit input/Sliding Window | [7,8,9,10] |\n",
    "| 2* | Unit Neuron/Block LSTM | [1,2,3,4] |\n",
    "| 3 | Unit Output/Target | 1 |\n",
    "| 4 | Epochs | 100 |\n",
    "| 5 | Hidden Layer (Stacked) | 3 |\n",
    "| 6* | Optimizer | SGD, Adam |\n",
    "| 7 | Beta Value | B1 = 0,9 & B2 = 0,99 |\n",
    "| 8* | Learning Rate | 0,1; 0,01; 0,001; 0,0001 |\n",
    "| 9 | Batch Size | 32 |\n",
    "| 10* | Dropout | 0%, 20% |\n",
    "| 11 | Activate Func | sigmoid & tanh |"
   ]
  },
  {
   "cell_type": "markdown",
   "id": "ae00f10c-3645-4a20-8103-b68a2709bcc9",
   "metadata": {},
   "source": [
    "# Learning Rate \n",
    "- eksperimen dilakukan dengan cara mencari learning rate paling sesuai. pengujian dilakukan dengan nilai 1, 0,1, 0,01 dan 0,001 untuk nilai Learning Rate. Parameter lain akan diatur secara konstan, yaitu sliding window sebesar 1, 2 unit neuron pada hidden layer dan epoch maksimum 1000."
   ]
  },
  {
   "cell_type": "code",
   "execution_count": 17,
   "id": "40357ac6-e652-4d23-a2d2-d21cd3b45876",
   "metadata": {},
   "outputs": [],
   "source": [
    "data.lr={}\n",
    "data.lr['X_train'], data.lr['y_train'] = sliding_window(\n",
    "    data=data.train_set_scaled,\n",
    "    window=1\n",
    ")\n",
    "data.lr['X_test'], data.lr['y_test'] = sliding_window(\n",
    "    data=data.test_set_scaled,\n",
    "    window=1\n",
    ")"
   ]
  },
  {
   "cell_type": "code",
   "execution_count": 18,
   "id": "6c553547-5c8f-4796-978d-52826d4c7b54",
   "metadata": {},
   "outputs": [],
   "source": [
    "data.lr = dict2obj(data.lr)"
   ]
  },
  {
   "cell_type": "code",
   "execution_count": 19,
   "id": "5f923031-2069-4382-93ae-bac6286192c8",
   "metadata": {},
   "outputs": [],
   "source": [
    "n_data = data.lr.X_train.shape[0]\n",
    "X_train = data.lr.X_train[:round(n_data*.8)]\n",
    "y_train = data.lr.y_train[:round(n_data*.8)]\n",
    "X_validation = data.lr.X_train[round(n_data*.8):]\n",
    "y_validation = data.lr.y_train[round(n_data*.8):]"
   ]
  },
  {
   "cell_type": "markdown",
   "id": "02946459-53c0-45d4-9473-c24d8ca29aab",
   "metadata": {},
   "source": [
    "## LR = 1"
   ]
  },
  {
   "cell_type": "code",
   "execution_count": 20,
   "id": "52f07cbe-3c93-4e79-8eaa-3f943652933d",
   "metadata": {
    "tags": []
   },
   "outputs": [
    {
     "name": "stdout",
     "output_type": "stream",
     "text": [
      "WARNING:tensorflow:From /home/sg/gawean/dlstm/forecasting/lib/python3.6/site-packages/tensorflow_core/python/ops/resource_variable_ops.py:1630: calling BaseResourceVariable.__init__ (from tensorflow.python.ops.resource_variable_ops) with constraint is deprecated and will be removed in a future version.\n",
      "Instructions for updating:\n",
      "If using Keras pass *_constraint arguments to layers.\n",
      "Model: \"sequential_1\"\n",
      "_________________________________________________________________\n",
      "Layer (type)                 Output Shape              Param #   \n",
      "=================================================================\n",
      "lstm_1 (LSTM)                (None, 2)                 32        \n",
      "_________________________________________________________________\n",
      "dense_1 (Dense)              (None, 1)                 3         \n",
      "=================================================================\n",
      "Total params: 35\n",
      "Trainable params: 35\n",
      "Non-trainable params: 0\n",
      "_________________________________________________________________\n",
      "None\n"
     ]
    }
   ],
   "source": [
    "lr1 = Model()\n",
    "lr1.set_model(\n",
    "    name_opt='Adam', \n",
    "    input_shape=data.lr.X_train.shape[1],\n",
    "    neuron_shape=2,\n",
    "    lr=1\n",
    ")"
   ]
  },
  {
   "cell_type": "code",
   "execution_count": 21,
   "id": "8b4ce511-a294-4daf-86ea-766bab8bc928",
   "metadata": {
    "collapsed": true,
    "jupyter": {
     "outputs_hidden": true
    },
    "tags": []
   },
   "outputs": [
    {
     "name": "stdout",
     "output_type": "stream",
     "text": [
      "WARNING:tensorflow:From /home/sg/gawean/dlstm/forecasting/lib/python3.6/site-packages/keras/backend/tensorflow_backend.py:422: The name tf.global_variables is deprecated. Please use tf.compat.v1.global_variables instead.\n",
      "\n",
      "Train on 1157 samples, validate on 289 samples\n",
      "Epoch 1/100\n",
      "1157/1157 [==============================] - 0s 418us/step - loss: 0.2429 - mean_squared_error: 0.2429 - val_loss: 0.4691 - val_mean_squared_error: 0.4691\n",
      "Epoch 2/100\n",
      "1157/1157 [==============================] - 0s 86us/step - loss: 0.1416 - mean_squared_error: 0.1416 - val_loss: 0.2568 - val_mean_squared_error: 0.2568\n",
      "Epoch 3/100\n",
      "1157/1157 [==============================] - 0s 91us/step - loss: 0.1506 - mean_squared_error: 0.1506 - val_loss: 0.6872 - val_mean_squared_error: 0.6872\n",
      "Epoch 4/100\n",
      "1157/1157 [==============================] - 0s 87us/step - loss: 0.1412 - mean_squared_error: 0.1412 - val_loss: 0.6555 - val_mean_squared_error: 0.6555\n",
      "Epoch 5/100\n",
      "1157/1157 [==============================] - 0s 84us/step - loss: 0.1430 - mean_squared_error: 0.1430 - val_loss: 0.4608 - val_mean_squared_error: 0.4608\n",
      "Epoch 6/100\n",
      "1157/1157 [==============================] - 0s 88us/step - loss: 0.1422 - mean_squared_error: 0.1422 - val_loss: 0.4589 - val_mean_squared_error: 0.4589\n",
      "Epoch 7/100\n",
      "1157/1157 [==============================] - 0s 85us/step - loss: 0.1595 - mean_squared_error: 0.1595 - val_loss: 0.7575 - val_mean_squared_error: 0.7575\n",
      "Epoch 8/100\n",
      "1157/1157 [==============================] - 0s 90us/step - loss: 0.1559 - mean_squared_error: 0.1559 - val_loss: 0.4403 - val_mean_squared_error: 0.4403\n",
      "Epoch 9/100\n",
      "1157/1157 [==============================] - 0s 88us/step - loss: 0.1555 - mean_squared_error: 0.1555 - val_loss: 0.5770 - val_mean_squared_error: 0.5770\n",
      "Epoch 10/100\n",
      "1157/1157 [==============================] - 0s 84us/step - loss: 0.1479 - mean_squared_error: 0.1479 - val_loss: 0.8862 - val_mean_squared_error: 0.8862\n",
      "Epoch 11/100\n",
      "1157/1157 [==============================] - 0s 91us/step - loss: 0.1682 - mean_squared_error: 0.1682 - val_loss: 0.5103 - val_mean_squared_error: 0.5103\n",
      "Epoch 12/100\n",
      "1157/1157 [==============================] - 0s 86us/step - loss: 0.1403 - mean_squared_error: 0.1403 - val_loss: 1.2710 - val_mean_squared_error: 1.2710\n",
      "Epoch 13/100\n",
      "1157/1157 [==============================] - 0s 92us/step - loss: 0.1801 - mean_squared_error: 0.1801 - val_loss: 0.9726 - val_mean_squared_error: 0.9726\n",
      "Epoch 14/100\n",
      "1157/1157 [==============================] - 0s 84us/step - loss: 0.1745 - mean_squared_error: 0.1745 - val_loss: 0.6380 - val_mean_squared_error: 0.6380\n",
      "Epoch 15/100\n",
      "1157/1157 [==============================] - 0s 90us/step - loss: 0.1430 - mean_squared_error: 0.1430 - val_loss: 0.2611 - val_mean_squared_error: 0.2611\n",
      "Epoch 16/100\n",
      "1157/1157 [==============================] - 0s 93us/step - loss: 0.1412 - mean_squared_error: 0.1412 - val_loss: 0.3661 - val_mean_squared_error: 0.3661\n",
      "Epoch 17/100\n",
      "1157/1157 [==============================] - 0s 89us/step - loss: 0.1465 - mean_squared_error: 0.1465 - val_loss: 0.5638 - val_mean_squared_error: 0.5638\n",
      "Epoch 18/100\n",
      "1157/1157 [==============================] - 0s 86us/step - loss: 0.1598 - mean_squared_error: 0.1598 - val_loss: 0.5799 - val_mean_squared_error: 0.5799\n",
      "Epoch 19/100\n",
      "1157/1157 [==============================] - 0s 86us/step - loss: 0.1490 - mean_squared_error: 0.1490 - val_loss: 0.5225 - val_mean_squared_error: 0.5225\n",
      "Epoch 20/100\n",
      "1157/1157 [==============================] - 0s 96us/step - loss: 0.1480 - mean_squared_error: 0.1480 - val_loss: 0.6740 - val_mean_squared_error: 0.6740\n",
      "Epoch 21/100\n",
      "1157/1157 [==============================] - 0s 101us/step - loss: 0.1468 - mean_squared_error: 0.1468 - val_loss: 0.5918 - val_mean_squared_error: 0.5918\n",
      "Epoch 22/100\n",
      "1157/1157 [==============================] - 0s 95us/step - loss: 0.1554 - mean_squared_error: 0.1554 - val_loss: 0.6560 - val_mean_squared_error: 0.6560\n",
      "Epoch 23/100\n",
      "1157/1157 [==============================] - 0s 99us/step - loss: 0.1516 - mean_squared_error: 0.1516 - val_loss: 0.1641 - val_mean_squared_error: 0.1641\n",
      "Epoch 24/100\n",
      "1157/1157 [==============================] - 0s 93us/step - loss: 0.1818 - mean_squared_error: 0.1818 - val_loss: 0.3191 - val_mean_squared_error: 0.3191\n",
      "Epoch 25/100\n",
      "1157/1157 [==============================] - 0s 90us/step - loss: 0.1641 - mean_squared_error: 0.1641 - val_loss: 0.4363 - val_mean_squared_error: 0.4363\n",
      "Epoch 26/100\n",
      "1157/1157 [==============================] - 0s 94us/step - loss: 0.1556 - mean_squared_error: 0.1556 - val_loss: 1.0791 - val_mean_squared_error: 1.0791\n",
      "Epoch 27/100\n",
      "1157/1157 [==============================] - 0s 96us/step - loss: 0.1696 - mean_squared_error: 0.1696 - val_loss: 0.9094 - val_mean_squared_error: 0.9094\n",
      "Epoch 28/100\n",
      "1157/1157 [==============================] - 0s 93us/step - loss: 0.1608 - mean_squared_error: 0.1608 - val_loss: 0.4555 - val_mean_squared_error: 0.4555\n",
      "Epoch 29/100\n",
      "1157/1157 [==============================] - 0s 93us/step - loss: 0.1467 - mean_squared_error: 0.1467 - val_loss: 0.8276 - val_mean_squared_error: 0.8276\n",
      "Epoch 30/100\n",
      "1157/1157 [==============================] - 0s 95us/step - loss: 0.1613 - mean_squared_error: 0.1613 - val_loss: 0.8295 - val_mean_squared_error: 0.8295\n",
      "Epoch 31/100\n",
      "1157/1157 [==============================] - 0s 85us/step - loss: 0.1485 - mean_squared_error: 0.1485 - val_loss: 0.1506 - val_mean_squared_error: 0.1506\n",
      "Epoch 32/100\n",
      "1157/1157 [==============================] - 0s 88us/step - loss: 0.1627 - mean_squared_error: 0.1627 - val_loss: 0.3960 - val_mean_squared_error: 0.3960\n",
      "Epoch 33/100\n",
      "1157/1157 [==============================] - 0s 91us/step - loss: 0.1684 - mean_squared_error: 0.1684 - val_loss: 0.6246 - val_mean_squared_error: 0.6246\n",
      "Epoch 34/100\n",
      "1157/1157 [==============================] - 0s 88us/step - loss: 0.1556 - mean_squared_error: 0.1556 - val_loss: 0.5276 - val_mean_squared_error: 0.5276\n",
      "Epoch 35/100\n",
      "1157/1157 [==============================] - 0s 95us/step - loss: 0.0670 - mean_squared_error: 0.0670 - val_loss: 0.3264 - val_mean_squared_error: 0.3264\n",
      "Epoch 36/100\n",
      "1157/1157 [==============================] - 0s 90us/step - loss: 0.0251 - mean_squared_error: 0.0251 - val_loss: 0.1886 - val_mean_squared_error: 0.1886\n",
      "Epoch 37/100\n",
      "1157/1157 [==============================] - 0s 86us/step - loss: 0.0086 - mean_squared_error: 0.0086 - val_loss: 0.0786 - val_mean_squared_error: 0.0786\n",
      "Epoch 38/100\n",
      "1157/1157 [==============================] - 0s 94us/step - loss: 0.0168 - mean_squared_error: 0.0168 - val_loss: 0.1535 - val_mean_squared_error: 0.1535\n",
      "Epoch 39/100\n",
      "1157/1157 [==============================] - 0s 85us/step - loss: 0.0046 - mean_squared_error: 0.0046 - val_loss: 0.0527 - val_mean_squared_error: 0.0527\n",
      "Epoch 40/100\n",
      "1157/1157 [==============================] - 0s 93us/step - loss: 0.0032 - mean_squared_error: 0.0032 - val_loss: 0.0292 - val_mean_squared_error: 0.0292\n",
      "Epoch 41/100\n",
      "1157/1157 [==============================] - 0s 92us/step - loss: 0.0062 - mean_squared_error: 0.0062 - val_loss: 0.0456 - val_mean_squared_error: 0.0456\n",
      "Epoch 42/100\n",
      "1157/1157 [==============================] - 0s 96us/step - loss: 0.0081 - mean_squared_error: 0.0081 - val_loss: 0.0425 - val_mean_squared_error: 0.0425\n",
      "Epoch 43/100\n",
      "1157/1157 [==============================] - 0s 92us/step - loss: 0.0033 - mean_squared_error: 0.0033 - val_loss: 0.0269 - val_mean_squared_error: 0.0269\n",
      "Epoch 44/100\n",
      "1157/1157 [==============================] - 0s 87us/step - loss: 0.0047 - mean_squared_error: 0.0047 - val_loss: 0.0383 - val_mean_squared_error: 0.0383\n",
      "Epoch 45/100\n",
      "1157/1157 [==============================] - 0s 82us/step - loss: 0.0050 - mean_squared_error: 0.0050 - val_loss: 0.0794 - val_mean_squared_error: 0.0794\n",
      "Epoch 46/100\n",
      "1157/1157 [==============================] - 0s 92us/step - loss: 0.0077 - mean_squared_error: 0.0077 - val_loss: 0.0414 - val_mean_squared_error: 0.0414\n",
      "Epoch 47/100\n",
      "1157/1157 [==============================] - 0s 100us/step - loss: 0.0030 - mean_squared_error: 0.0030 - val_loss: 0.0302 - val_mean_squared_error: 0.0302\n",
      "Epoch 48/100\n",
      "1157/1157 [==============================] - 0s 86us/step - loss: 0.0023 - mean_squared_error: 0.0023 - val_loss: 0.0219 - val_mean_squared_error: 0.0219\n",
      "Epoch 49/100\n",
      "1157/1157 [==============================] - 0s 89us/step - loss: 0.0024 - mean_squared_error: 0.0024 - val_loss: 0.0194 - val_mean_squared_error: 0.0194\n",
      "Epoch 50/100\n",
      "1157/1157 [==============================] - 0s 88us/step - loss: 0.0062 - mean_squared_error: 0.0062 - val_loss: 0.0443 - val_mean_squared_error: 0.0443\n",
      "Epoch 51/100\n",
      "1157/1157 [==============================] - 0s 97us/step - loss: 0.0023 - mean_squared_error: 0.0023 - val_loss: 0.0255 - val_mean_squared_error: 0.0255\n",
      "Epoch 52/100\n",
      "1157/1157 [==============================] - 0s 94us/step - loss: 0.0023 - mean_squared_error: 0.0023 - val_loss: 0.0210 - val_mean_squared_error: 0.0210\n",
      "Epoch 53/100\n",
      "1157/1157 [==============================] - 0s 87us/step - loss: 0.0037 - mean_squared_error: 0.0037 - val_loss: 0.0239 - val_mean_squared_error: 0.0239\n",
      "Epoch 54/100\n",
      "1157/1157 [==============================] - 0s 127us/step - loss: 0.0026 - mean_squared_error: 0.0026 - val_loss: 0.0240 - val_mean_squared_error: 0.0240\n",
      "Epoch 55/100\n",
      "1157/1157 [==============================] - 0s 104us/step - loss: 0.0036 - mean_squared_error: 0.0036 - val_loss: 0.0424 - val_mean_squared_error: 0.0424\n",
      "Epoch 56/100\n",
      "1157/1157 [==============================] - 0s 108us/step - loss: 0.0043 - mean_squared_error: 0.0043 - val_loss: 0.0312 - val_mean_squared_error: 0.0312\n",
      "Epoch 57/100\n",
      "1157/1157 [==============================] - 0s 95us/step - loss: 0.0036 - mean_squared_error: 0.0036 - val_loss: 0.0354 - val_mean_squared_error: 0.0354\n",
      "Epoch 58/100\n",
      "1157/1157 [==============================] - 0s 97us/step - loss: 0.0017 - mean_squared_error: 0.0017 - val_loss: 0.0150 - val_mean_squared_error: 0.0150\n",
      "Epoch 59/100\n",
      "1157/1157 [==============================] - 0s 97us/step - loss: 0.0056 - mean_squared_error: 0.0056 - val_loss: 0.0298 - val_mean_squared_error: 0.0298\n",
      "Epoch 60/100\n",
      "1157/1157 [==============================] - 0s 94us/step - loss: 0.0042 - mean_squared_error: 0.0042 - val_loss: 0.0273 - val_mean_squared_error: 0.0273\n",
      "Epoch 61/100\n",
      "1157/1157 [==============================] - 0s 96us/step - loss: 0.0017 - mean_squared_error: 0.0017 - val_loss: 0.0161 - val_mean_squared_error: 0.0161\n",
      "Epoch 62/100\n",
      "1157/1157 [==============================] - 0s 93us/step - loss: 0.0024 - mean_squared_error: 0.0024 - val_loss: 0.0177 - val_mean_squared_error: 0.0177\n",
      "Epoch 63/100\n",
      "1157/1157 [==============================] - 0s 102us/step - loss: 0.0031 - mean_squared_error: 0.0031 - val_loss: 0.0189 - val_mean_squared_error: 0.0189\n",
      "Epoch 64/100\n",
      "1157/1157 [==============================] - 0s 98us/step - loss: 0.0022 - mean_squared_error: 0.0022 - val_loss: 0.0134 - val_mean_squared_error: 0.0134\n",
      "Epoch 65/100\n",
      "1157/1157 [==============================] - 0s 97us/step - loss: 0.0133 - mean_squared_error: 0.0133 - val_loss: 0.0724 - val_mean_squared_error: 0.0724\n",
      "Epoch 66/100\n",
      "1157/1157 [==============================] - 0s 99us/step - loss: 0.0021 - mean_squared_error: 0.0021 - val_loss: 0.0170 - val_mean_squared_error: 0.0170\n",
      "Epoch 67/100\n",
      "1157/1157 [==============================] - 0s 95us/step - loss: 0.0023 - mean_squared_error: 0.0023 - val_loss: 0.0142 - val_mean_squared_error: 0.0142\n",
      "Epoch 68/100\n",
      "1157/1157 [==============================] - 0s 97us/step - loss: 0.0062 - mean_squared_error: 0.0062 - val_loss: 0.0353 - val_mean_squared_error: 0.0353\n",
      "Epoch 69/100\n",
      "1157/1157 [==============================] - 0s 103us/step - loss: 0.0039 - mean_squared_error: 0.0039 - val_loss: 0.0235 - val_mean_squared_error: 0.0235\n",
      "Epoch 70/100\n",
      "1157/1157 [==============================] - 0s 99us/step - loss: 0.0041 - mean_squared_error: 0.0041 - val_loss: 0.0306 - val_mean_squared_error: 0.0306\n",
      "Epoch 71/100\n",
      "1157/1157 [==============================] - 0s 98us/step - loss: 0.0027 - mean_squared_error: 0.0027 - val_loss: 0.0199 - val_mean_squared_error: 0.0199\n",
      "Epoch 72/100\n",
      "1157/1157 [==============================] - 0s 89us/step - loss: 0.0024 - mean_squared_error: 0.0024 - val_loss: 0.0222 - val_mean_squared_error: 0.0222\n",
      "Epoch 73/100\n",
      "1157/1157 [==============================] - 0s 94us/step - loss: 0.0018 - mean_squared_error: 0.0018 - val_loss: 0.0170 - val_mean_squared_error: 0.0170\n",
      "Epoch 74/100\n",
      "1157/1157 [==============================] - 0s 97us/step - loss: 0.0040 - mean_squared_error: 0.0040 - val_loss: 0.0234 - val_mean_squared_error: 0.0234\n",
      "Epoch 75/100\n",
      "1157/1157 [==============================] - 0s 92us/step - loss: 0.0021 - mean_squared_error: 0.0021 - val_loss: 0.0149 - val_mean_squared_error: 0.0149\n",
      "Epoch 76/100\n",
      "1157/1157 [==============================] - 0s 91us/step - loss: 0.0038 - mean_squared_error: 0.0038 - val_loss: 0.0191 - val_mean_squared_error: 0.0191\n",
      "Epoch 77/100\n",
      "1157/1157 [==============================] - 0s 97us/step - loss: 0.0035 - mean_squared_error: 0.0035 - val_loss: 0.0175 - val_mean_squared_error: 0.0175\n",
      "Epoch 78/100\n",
      "1157/1157 [==============================] - 0s 90us/step - loss: 0.0023 - mean_squared_error: 0.0023 - val_loss: 0.0276 - val_mean_squared_error: 0.0276\n",
      "Epoch 79/100\n",
      "1157/1157 [==============================] - 0s 92us/step - loss: 0.0062 - mean_squared_error: 0.0062 - val_loss: 0.0311 - val_mean_squared_error: 0.0311\n",
      "Epoch 80/100\n",
      "1157/1157 [==============================] - 0s 94us/step - loss: 0.0040 - mean_squared_error: 0.0040 - val_loss: 0.0296 - val_mean_squared_error: 0.0296\n",
      "Epoch 81/100\n",
      "1157/1157 [==============================] - 0s 89us/step - loss: 0.0050 - mean_squared_error: 0.0050 - val_loss: 0.0243 - val_mean_squared_error: 0.0243\n",
      "Epoch 82/100\n",
      "1157/1157 [==============================] - 0s 102us/step - loss: 0.0030 - mean_squared_error: 0.0030 - val_loss: 0.0185 - val_mean_squared_error: 0.0185\n",
      "Epoch 83/100\n",
      "1157/1157 [==============================] - 0s 96us/step - loss: 0.0164 - mean_squared_error: 0.0164 - val_loss: 0.0757 - val_mean_squared_error: 0.0757\n",
      "Epoch 84/100\n",
      "1157/1157 [==============================] - 0s 95us/step - loss: 0.0039 - mean_squared_error: 0.0039 - val_loss: 0.0253 - val_mean_squared_error: 0.0253\n",
      "Epoch 85/100\n",
      "1157/1157 [==============================] - 0s 90us/step - loss: 0.0028 - mean_squared_error: 0.0028 - val_loss: 0.0181 - val_mean_squared_error: 0.0181\n",
      "Epoch 86/100\n",
      "1157/1157 [==============================] - 0s 92us/step - loss: 0.0043 - mean_squared_error: 0.0043 - val_loss: 0.0234 - val_mean_squared_error: 0.0234\n",
      "Epoch 87/100\n",
      "1157/1157 [==============================] - 0s 96us/step - loss: 0.0032 - mean_squared_error: 0.0032 - val_loss: 0.0181 - val_mean_squared_error: 0.0181\n",
      "Epoch 88/100\n",
      "1157/1157 [==============================] - 0s 89us/step - loss: 0.0097 - mean_squared_error: 0.0097 - val_loss: 0.0550 - val_mean_squared_error: 0.0550\n",
      "Epoch 89/100\n",
      "1157/1157 [==============================] - 0s 95us/step - loss: 0.0032 - mean_squared_error: 0.0032 - val_loss: 0.0232 - val_mean_squared_error: 0.0232\n",
      "Epoch 90/100\n",
      "1157/1157 [==============================] - 0s 100us/step - loss: 0.0019 - mean_squared_error: 0.0019 - val_loss: 0.0159 - val_mean_squared_error: 0.0159\n",
      "Epoch 91/100\n",
      "1157/1157 [==============================] - 0s 95us/step - loss: 0.0039 - mean_squared_error: 0.0039 - val_loss: 0.0218 - val_mean_squared_error: 0.0218\n",
      "Epoch 92/100\n",
      "1157/1157 [==============================] - 0s 90us/step - loss: 0.0023 - mean_squared_error: 0.0023 - val_loss: 0.0237 - val_mean_squared_error: 0.0237\n",
      "Epoch 93/100\n",
      "1157/1157 [==============================] - 0s 96us/step - loss: 0.0110 - mean_squared_error: 0.0110 - val_loss: 0.0843 - val_mean_squared_error: 0.0843\n",
      "Epoch 94/100\n",
      "1157/1157 [==============================] - 0s 93us/step - loss: 0.0025 - mean_squared_error: 0.0025 - val_loss: 0.0156 - val_mean_squared_error: 0.0156\n",
      "Epoch 95/100\n",
      "1157/1157 [==============================] - 0s 95us/step - loss: 0.0048 - mean_squared_error: 0.0048 - val_loss: 0.0411 - val_mean_squared_error: 0.0411\n",
      "Epoch 96/100\n",
      "1157/1157 [==============================] - 0s 93us/step - loss: 0.0030 - mean_squared_error: 0.0030 - val_loss: 0.0183 - val_mean_squared_error: 0.0183\n",
      "Epoch 97/100\n",
      "1157/1157 [==============================] - 0s 110us/step - loss: 0.0235 - mean_squared_error: 0.0235 - val_loss: 0.0663 - val_mean_squared_error: 0.0663\n",
      "Epoch 98/100\n",
      "1157/1157 [==============================] - ETA: 0s - loss: 0.0045 - mean_squared_error: 0.00 - 0s 107us/step - loss: 0.0033 - mean_squared_error: 0.0033 - val_loss: 0.0148 - val_mean_squared_error: 0.0148\n",
      "Epoch 99/100\n",
      "1157/1157 [==============================] - 0s 85us/step - loss: 0.0057 - mean_squared_error: 0.0057 - val_loss: 0.0441 - val_mean_squared_error: 0.0441\n",
      "Epoch 100/100\n",
      "1157/1157 [==============================] - 0s 90us/step - loss: 0.0021 - mean_squared_error: 0.0021 - val_loss: 0.0200 - val_mean_squared_error: 0.0200\n",
      "fitting successfully.\n"
     ]
    }
   ],
   "source": [
    "lr1.fitting(\n",
    "    input_set=X_train,\n",
    "    target_set=y_train,\n",
    "    val_input=X_validation,\n",
    "    val_target=y_validation,\n",
    "    val_epoch=100\n",
    ")"
   ]
  },
  {
   "cell_type": "code",
   "execution_count": 22,
   "id": "c5e8b11f-f23d-4b10-b618-b8c72503dd47",
   "metadata": {},
   "outputs": [
    {
     "name": "stdout",
     "output_type": "stream",
     "text": [
      "model saved!\n"
     ]
    }
   ],
   "source": [
    "model_json = lr1.regressor.to_json()\n",
    "with open(f\"models/{currency}/lr1.json\", \"w\") as json_file:\n",
    "    json_file.write(model_json)\n",
    "    \n",
    "lr1.regressor.save_weights(f\"models/{currency}/lr1.h5\")\n",
    "print(\"model saved!\")"
   ]
  },
  {
   "cell_type": "code",
   "execution_count": 23,
   "id": "4b828ae3-89cd-48e1-8d9c-7383f1b8e357",
   "metadata": {
    "tags": []
   },
   "outputs": [
    {
     "data": {
      "image/png": "[encoded data removed]",
      "text/plain": [
       "<Figure size 432x288 with 1 Axes>"
      ]
     },
     "metadata": {
      "needs_background": "light"
     },
     "output_type": "display_data"
    }
   ],
   "source": [
    "plt.plot(lr1.temp_history.history[\"mean_squared_error\"])\n",
    "plt.plot(lr1.temp_history.history[\"val_mean_squared_error\"])\n",
    "\n",
    "plt.title(f'Model dengan LR=1 ({currency}/idr)')\n",
    "plt.ylabel('mse')\n",
    "plt.xlabel('epoch')\n",
    "plt.legend(['train', 'test'], loc='upper right')\n",
    "\n",
    "plt.savefig(f\"images/{currency}/lr1.png\")"
   ]
  },
  {
   "cell_type": "markdown",
   "id": "13d5ae08-41d2-4dc7-9b1b-44cea6183f8a",
   "metadata": {},
   "source": [
    "## LR = 0.1"
   ]
  },
  {
   "cell_type": "code",
   "execution_count": 24,
   "id": "b08c741e-4e4f-4c4b-a583-ab45a354f8cf",
   "metadata": {
    "tags": []
   },
   "outputs": [
    {
     "name": "stdout",
     "output_type": "stream",
     "text": [
      "Model: \"sequential_2\"\n",
      "_________________________________________________________________\n",
      "Layer (type)                 Output Shape              Param #   \n",
      "=================================================================\n",
      "lstm_2 (LSTM)                (None, 2)                 32        \n",
      "_________________________________________________________________\n",
      "dense_2 (Dense)              (None, 1)                 3         \n",
      "=================================================================\n",
      "Total params: 35\n",
      "Trainable params: 35\n",
      "Non-trainable params: 0\n",
      "_________________________________________________________________\n",
      "None\n"
     ]
    }
   ],
   "source": [
    "lr01 = Model()\n",
    "lr01.set_model(\n",
    "    name_opt='Adam', \n",
    "    input_shape=data.lr.X_train.shape[1],\n",
    "    neuron_shape=2,\n",
    "    lr=0.1\n",
    ")"
   ]
  },
  {
   "cell_type": "code",
   "execution_count": 25,
   "id": "8ae8ccef-19e5-46a7-97f3-cb8378b50527",
   "metadata": {
    "collapsed": true,
    "jupyter": {
     "outputs_hidden": true
    },
    "tags": []
   },
   "outputs": [
    {
     "name": "stdout",
     "output_type": "stream",
     "text": [
      "Train on 1157 samples, validate on 289 samples\n",
      "Epoch 1/100\n",
      "1157/1157 [==============================] - 1s 525us/step - loss: 0.0142 - mean_squared_error: 0.0142 - val_loss: 0.0272 - val_mean_squared_error: 0.0272\n",
      "Epoch 2/100\n",
      "1157/1157 [==============================] - 0s 99us/step - loss: 0.0022 - mean_squared_error: 0.0022 - val_loss: 0.0260 - val_mean_squared_error: 0.0260\n",
      "Epoch 3/100\n",
      "1157/1157 [==============================] - 0s 89us/step - loss: 0.0015 - mean_squared_error: 0.0015 - val_loss: 0.0126 - val_mean_squared_error: 0.0126\n",
      "Epoch 4/100\n",
      "1157/1157 [==============================] - 0s 96us/step - loss: 0.0012 - mean_squared_error: 0.0012 - val_loss: 0.0067 - val_mean_squared_error: 0.0067\n",
      "Epoch 5/100\n",
      "1157/1157 [==============================] - 0s 96us/step - loss: 0.0013 - mean_squared_error: 0.0013 - val_loss: 0.0074 - val_mean_squared_error: 0.0074\n",
      "Epoch 6/100\n",
      "1157/1157 [==============================] - 0s 102us/step - loss: 0.0012 - mean_squared_error: 0.0012 - val_loss: 0.0065 - val_mean_squared_error: 0.0065\n",
      "Epoch 7/100\n",
      "1157/1157 [==============================] - 0s 97us/step - loss: 0.0013 - mean_squared_error: 0.0013 - val_loss: 0.0038 - val_mean_squared_error: 0.0038\n",
      "Epoch 8/100\n",
      "1157/1157 [==============================] - 0s 92us/step - loss: 0.0014 - mean_squared_error: 0.0014 - val_loss: 0.0028 - val_mean_squared_error: 0.0028\n",
      "Epoch 9/100\n",
      "1157/1157 [==============================] - 0s 103us/step - loss: 0.0012 - mean_squared_error: 0.0012 - val_loss: 0.0032 - val_mean_squared_error: 0.0032\n",
      "Epoch 10/100\n",
      "1157/1157 [==============================] - 0s 93us/step - loss: 0.0012 - mean_squared_error: 0.0012 - val_loss: 0.0069 - val_mean_squared_error: 0.0069\n",
      "Epoch 11/100\n",
      "1157/1157 [==============================] - 0s 96us/step - loss: 0.0013 - mean_squared_error: 0.0013 - val_loss: 0.0119 - val_mean_squared_error: 0.0119\n",
      "Epoch 12/100\n",
      "1157/1157 [==============================] - 0s 101us/step - loss: 0.0014 - mean_squared_error: 0.0014 - val_loss: 0.0058 - val_mean_squared_error: 0.0058\n",
      "Epoch 13/100\n",
      "1157/1157 [==============================] - 0s 96us/step - loss: 0.0010 - mean_squared_error: 0.0010 - val_loss: 0.0070 - val_mean_squared_error: 0.0070\n",
      "Epoch 14/100\n",
      "1157/1157 [==============================] - 0s 100us/step - loss: 0.0013 - mean_squared_error: 0.0013 - val_loss: 0.0319 - val_mean_squared_error: 0.0319\n",
      "Epoch 15/100\n",
      "1157/1157 [==============================] - 0s 90us/step - loss: 0.0019 - mean_squared_error: 0.0019 - val_loss: 0.0062 - val_mean_squared_error: 0.0062\n",
      "Epoch 16/100\n",
      "1157/1157 [==============================] - 0s 97us/step - loss: 0.0012 - mean_squared_error: 0.0012 - val_loss: 0.0066 - val_mean_squared_error: 0.0066\n",
      "Epoch 17/100\n",
      "1157/1157 [==============================] - 0s 100us/step - loss: 0.0011 - mean_squared_error: 0.0011 - val_loss: 0.0173 - val_mean_squared_error: 0.0173\n",
      "Epoch 18/100\n",
      "1157/1157 [==============================] - 0s 89us/step - loss: 0.0013 - mean_squared_error: 0.0013 - val_loss: 0.0056 - val_mean_squared_error: 0.0056\n",
      "Epoch 19/100\n",
      "1157/1157 [==============================] - 0s 99us/step - loss: 0.0014 - mean_squared_error: 0.0014 - val_loss: 0.0047 - val_mean_squared_error: 0.0047\n",
      "Epoch 20/100\n",
      "1157/1157 [==============================] - 0s 101us/step - loss: 0.0011 - mean_squared_error: 0.0011 - val_loss: 0.0051 - val_mean_squared_error: 0.0051\n",
      "Epoch 21/100\n",
      "1157/1157 [==============================] - 0s 93us/step - loss: 0.0014 - mean_squared_error: 0.0014 - val_loss: 0.0097 - val_mean_squared_error: 0.0097\n",
      "Epoch 22/100\n",
      "1157/1157 [==============================] - 0s 93us/step - loss: 0.0021 - mean_squared_error: 0.0021 - val_loss: 0.0040 - val_mean_squared_error: 0.0040\n",
      "Epoch 23/100\n",
      "1157/1157 [==============================] - 0s 94us/step - loss: 0.0012 - mean_squared_error: 0.0012 - val_loss: 0.0029 - val_mean_squared_error: 0.0029\n",
      "Epoch 24/100\n",
      "1157/1157 [==============================] - 0s 90us/step - loss: 0.0011 - mean_squared_error: 0.0011 - val_loss: 0.0059 - val_mean_squared_error: 0.0059\n",
      "Epoch 25/100\n",
      "1157/1157 [==============================] - 0s 93us/step - loss: 0.0014 - mean_squared_error: 0.0014 - val_loss: 0.0170 - val_mean_squared_error: 0.0170\n",
      "Epoch 26/100\n",
      "1157/1157 [==============================] - 0s 103us/step - loss: 0.0015 - mean_squared_error: 0.0015 - val_loss: 0.0038 - val_mean_squared_error: 0.0038\n",
      "Epoch 27/100\n",
      "1157/1157 [==============================] - 0s 105us/step - loss: 0.0026 - mean_squared_error: 0.0026 - val_loss: 0.0188 - val_mean_squared_error: 0.0188\n",
      "Epoch 28/100\n",
      "1157/1157 [==============================] - 0s 100us/step - loss: 0.0012 - mean_squared_error: 0.0012 - val_loss: 0.0123 - val_mean_squared_error: 0.0123\n",
      "Epoch 29/100\n",
      "1157/1157 [==============================] - 0s 94us/step - loss: 0.0011 - mean_squared_error: 0.0011 - val_loss: 0.0035 - val_mean_squared_error: 0.0035\n",
      "Epoch 30/100\n",
      "1157/1157 [==============================] - 0s 92us/step - loss: 0.0012 - mean_squared_error: 0.0012 - val_loss: 0.0027 - val_mean_squared_error: 0.0027\n",
      "Epoch 31/100\n",
      "1157/1157 [==============================] - 0s 91us/step - loss: 0.0011 - mean_squared_error: 0.0011 - val_loss: 0.0057 - val_mean_squared_error: 0.0057\n",
      "Epoch 32/100\n",
      "1157/1157 [==============================] - 0s 93us/step - loss: 9.6152e-04 - mean_squared_error: 9.6152e-04 - val_loss: 0.0032 - val_mean_squared_error: 0.0032\n",
      "Epoch 33/100\n",
      "1157/1157 [==============================] - 0s 101us/step - loss: 8.7461e-04 - mean_squared_error: 8.7461e-04 - val_loss: 0.0056 - val_mean_squared_error: 0.0056\n",
      "Epoch 34/100\n",
      "1157/1157 [==============================] - 0s 102us/step - loss: 8.7679e-04 - mean_squared_error: 8.7679e-04 - val_loss: 0.0031 - val_mean_squared_error: 0.0031\n",
      "Epoch 35/100\n",
      "1157/1157 [==============================] - 0s 95us/step - loss: 9.6464e-04 - mean_squared_error: 9.6464e-04 - val_loss: 0.0021 - val_mean_squared_error: 0.0021\n",
      "Epoch 36/100\n",
      "1157/1157 [==============================] - 0s 90us/step - loss: 9.1967e-04 - mean_squared_error: 9.1967e-04 - val_loss: 0.0034 - val_mean_squared_error: 0.0034\n",
      "Epoch 37/100\n",
      "1157/1157 [==============================] - 0s 81us/step - loss: 8.9758e-04 - mean_squared_error: 8.9758e-04 - val_loss: 0.0043 - val_mean_squared_error: 0.0043\n",
      "Epoch 38/100\n",
      "1157/1157 [==============================] - 0s 99us/step - loss: 9.4411e-04 - mean_squared_error: 9.4411e-04 - val_loss: 0.0034 - val_mean_squared_error: 0.0034\n",
      "Epoch 39/100\n",
      "1157/1157 [==============================] - 0s 92us/step - loss: 9.1864e-04 - mean_squared_error: 9.1864e-04 - val_loss: 0.0037 - val_mean_squared_error: 0.0037\n",
      "Epoch 40/100\n",
      "1157/1157 [==============================] - 0s 105us/step - loss: 9.2073e-04 - mean_squared_error: 9.2073e-04 - val_loss: 0.0032 - val_mean_squared_error: 0.0032\n",
      "Epoch 41/100\n",
      "1157/1157 [==============================] - 0s 92us/step - loss: 0.0011 - mean_squared_error: 0.0011 - val_loss: 0.0016 - val_mean_squared_error: 0.0016\n",
      "Epoch 42/100\n",
      "1157/1157 [==============================] - 0s 90us/step - loss: 8.7072e-04 - mean_squared_error: 8.7072e-04 - val_loss: 0.0069 - val_mean_squared_error: 0.0069\n",
      "Epoch 43/100\n",
      "1157/1157 [==============================] - 0s 113us/step - loss: 0.0011 - mean_squared_error: 0.0011 - val_loss: 0.0017 - val_mean_squared_error: 0.0017\n",
      "Epoch 44/100\n",
      "1157/1157 [==============================] - 0s 95us/step - loss: 8.4694e-04 - mean_squared_error: 8.4694e-04 - val_loss: 0.0017 - val_mean_squared_error: 0.0017\n",
      "Epoch 45/100\n",
      "1157/1157 [==============================] - 0s 106us/step - loss: 8.1302e-04 - mean_squared_error: 8.1302e-04 - val_loss: 0.0014 - val_mean_squared_error: 0.0014\n",
      "Epoch 46/100\n",
      "1157/1157 [==============================] - 0s 105us/step - loss: 9.5983e-04 - mean_squared_error: 9.5983e-04 - val_loss: 0.0017 - val_mean_squared_error: 0.0017\n",
      "Epoch 47/100\n",
      "1157/1157 [==============================] - 0s 106us/step - loss: 8.4598e-04 - mean_squared_error: 8.4598e-04 - val_loss: 0.0025 - val_mean_squared_error: 0.0025\n",
      "Epoch 48/100\n",
      "1157/1157 [==============================] - 0s 94us/step - loss: 8.1479e-04 - mean_squared_error: 8.1479e-04 - val_loss: 0.0114 - val_mean_squared_error: 0.0114\n",
      "Epoch 49/100\n",
      "1157/1157 [==============================] - 0s 90us/step - loss: 0.0014 - mean_squared_error: 0.0014 - val_loss: 0.0030 - val_mean_squared_error: 0.0030\n",
      "Epoch 50/100\n",
      "1157/1157 [==============================] - 0s 91us/step - loss: 0.0011 - mean_squared_error: 0.0011 - val_loss: 0.0019 - val_mean_squared_error: 0.0019\n",
      "Epoch 51/100\n",
      "1157/1157 [==============================] - 0s 102us/step - loss: 7.7153e-04 - mean_squared_error: 7.7153e-04 - val_loss: 0.0022 - val_mean_squared_error: 0.0022\n",
      "Epoch 52/100\n",
      "1157/1157 [==============================] - 0s 101us/step - loss: 8.0218e-04 - mean_squared_error: 8.0218e-04 - val_loss: 0.0046 - val_mean_squared_error: 0.0046\n",
      "Epoch 53/100\n",
      "1157/1157 [==============================] - 0s 97us/step - loss: 0.0013 - mean_squared_error: 0.0013 - val_loss: 0.0022 - val_mean_squared_error: 0.0022\n",
      "Epoch 54/100\n",
      "1157/1157 [==============================] - 0s 104us/step - loss: 0.0011 - mean_squared_error: 0.0011 - val_loss: 0.0038 - val_mean_squared_error: 0.0038\n",
      "Epoch 55/100\n",
      "1157/1157 [==============================] - 0s 99us/step - loss: 8.7276e-04 - mean_squared_error: 8.7276e-04 - val_loss: 0.0036 - val_mean_squared_error: 0.0036\n",
      "Epoch 56/100\n",
      "1157/1157 [==============================] - 0s 94us/step - loss: 0.0015 - mean_squared_error: 0.0015 - val_loss: 0.0026 - val_mean_squared_error: 0.0026\n",
      "Epoch 57/100\n",
      "1157/1157 [==============================] - 0s 96us/step - loss: 7.9195e-04 - mean_squared_error: 7.9195e-04 - val_loss: 0.0023 - val_mean_squared_error: 0.0023\n",
      "Epoch 58/100\n",
      "1157/1157 [==============================] - 0s 93us/step - loss: 0.0012 - mean_squared_error: 0.0012 - val_loss: 0.0065 - val_mean_squared_error: 0.0065\n",
      "Epoch 59/100\n",
      "1157/1157 [==============================] - 0s 89us/step - loss: 8.8294e-04 - mean_squared_error: 8.8294e-04 - val_loss: 0.0027 - val_mean_squared_error: 0.0027\n",
      "Epoch 60/100\n",
      "1157/1157 [==============================] - 0s 88us/step - loss: 8.2179e-04 - mean_squared_error: 8.2179e-04 - val_loss: 0.0019 - val_mean_squared_error: 0.0019\n",
      "Epoch 61/100\n",
      "1157/1157 [==============================] - 0s 94us/step - loss: 9.5818e-04 - mean_squared_error: 9.5818e-04 - val_loss: 0.0022 - val_mean_squared_error: 0.0022\n",
      "Epoch 62/100\n",
      "1157/1157 [==============================] - 0s 97us/step - loss: 0.0012 - mean_squared_error: 0.0012 - val_loss: 0.0019 - val_mean_squared_error: 0.0019\n",
      "Epoch 63/100\n",
      "1157/1157 [==============================] - 0s 92us/step - loss: 0.0012 - mean_squared_error: 0.0012 - val_loss: 0.0017 - val_mean_squared_error: 0.0017\n",
      "Epoch 64/100\n",
      "1157/1157 [==============================] - 0s 94us/step - loss: 8.4616e-04 - mean_squared_error: 8.4616e-04 - val_loss: 0.0022 - val_mean_squared_error: 0.0022\n",
      "Epoch 65/100\n",
      "1157/1157 [==============================] - 0s 102us/step - loss: 0.0012 - mean_squared_error: 0.0012 - val_loss: 0.0021 - val_mean_squared_error: 0.0021\n",
      "Epoch 66/100\n",
      "1157/1157 [==============================] - 0s 96us/step - loss: 8.5224e-04 - mean_squared_error: 8.5224e-04 - val_loss: 0.0020 - val_mean_squared_error: 0.0020\n",
      "Epoch 67/100\n",
      "1157/1157 [==============================] - 0s 97us/step - loss: 7.5071e-04 - mean_squared_error: 7.5071e-04 - val_loss: 0.0023 - val_mean_squared_error: 0.0023\n",
      "Epoch 68/100\n",
      "1157/1157 [==============================] - 0s 97us/step - loss: 7.2175e-04 - mean_squared_error: 7.2175e-04 - val_loss: 0.0019 - val_mean_squared_error: 0.0019\n",
      "Epoch 69/100\n",
      "1157/1157 [==============================] - 0s 103us/step - loss: 8.1232e-04 - mean_squared_error: 8.1232e-04 - val_loss: 0.0050 - val_mean_squared_error: 0.0050\n",
      "Epoch 70/100\n",
      "1157/1157 [==============================] - 0s 97us/step - loss: 0.0010 - mean_squared_error: 0.0010 - val_loss: 0.0095 - val_mean_squared_error: 0.0095\n",
      "Epoch 71/100\n",
      "1157/1157 [==============================] - 0s 92us/step - loss: 0.0013 - mean_squared_error: 0.0013 - val_loss: 0.0021 - val_mean_squared_error: 0.0021\n",
      "Epoch 72/100\n",
      "1157/1157 [==============================] - 0s 109us/step - loss: 8.1227e-04 - mean_squared_error: 8.1227e-04 - val_loss: 0.0017 - val_mean_squared_error: 0.0017\n",
      "Epoch 73/100\n",
      "1157/1157 [==============================] - 0s 96us/step - loss: 8.7506e-04 - mean_squared_error: 8.7506e-04 - val_loss: 0.0017 - val_mean_squared_error: 0.0017\n",
      "Epoch 74/100\n",
      "1157/1157 [==============================] - 0s 98us/step - loss: 0.0011 - mean_squared_error: 0.0011 - val_loss: 0.0065 - val_mean_squared_error: 0.0065\n",
      "Epoch 75/100\n",
      "1157/1157 [==============================] - 0s 102us/step - loss: 8.6354e-04 - mean_squared_error: 8.6354e-04 - val_loss: 0.0047 - val_mean_squared_error: 0.0047\n",
      "Epoch 76/100\n",
      "1157/1157 [==============================] - 0s 92us/step - loss: 9.5701e-04 - mean_squared_error: 9.5701e-04 - val_loss: 0.0032 - val_mean_squared_error: 0.0032\n",
      "Epoch 77/100\n",
      "1157/1157 [==============================] - 0s 89us/step - loss: 0.0011 - mean_squared_error: 0.0011 - val_loss: 0.0018 - val_mean_squared_error: 0.0018\n",
      "Epoch 78/100\n",
      "1157/1157 [==============================] - 0s 97us/step - loss: 8.5630e-04 - mean_squared_error: 8.5630e-04 - val_loss: 0.0017 - val_mean_squared_error: 0.0017\n",
      "Epoch 79/100\n",
      "1157/1157 [==============================] - 0s 103us/step - loss: 8.2875e-04 - mean_squared_error: 8.2875e-04 - val_loss: 0.0014 - val_mean_squared_error: 0.0014\n",
      "Epoch 80/100\n",
      "1157/1157 [==============================] - 0s 93us/step - loss: 8.7134e-04 - mean_squared_error: 8.7134e-04 - val_loss: 0.0015 - val_mean_squared_error: 0.0015\n",
      "Epoch 81/100\n",
      "1157/1157 [==============================] - 0s 95us/step - loss: 8.9666e-04 - mean_squared_error: 8.9666e-04 - val_loss: 0.0069 - val_mean_squared_error: 0.0069\n",
      "Epoch 82/100\n",
      "1157/1157 [==============================] - 0s 94us/step - loss: 0.0013 - mean_squared_error: 0.0013 - val_loss: 0.0016 - val_mean_squared_error: 0.0016\n",
      "Epoch 83/100\n",
      "1157/1157 [==============================] - 0s 94us/step - loss: 9.6077e-04 - mean_squared_error: 9.6077e-04 - val_loss: 0.0016 - val_mean_squared_error: 0.0016\n",
      "Epoch 84/100\n",
      "1157/1157 [==============================] - 0s 93us/step - loss: 8.6242e-04 - mean_squared_error: 8.6242e-04 - val_loss: 0.0015 - val_mean_squared_error: 0.0015\n",
      "Epoch 85/100\n",
      "1157/1157 [==============================] - 0s 85us/step - loss: 0.0010 - mean_squared_error: 0.0010 - val_loss: 0.0018 - val_mean_squared_error: 0.0018\n",
      "Epoch 86/100\n",
      "1157/1157 [==============================] - 0s 94us/step - loss: 8.7618e-04 - mean_squared_error: 8.7618e-04 - val_loss: 0.0031 - val_mean_squared_error: 0.0031\n",
      "Epoch 87/100\n",
      "1157/1157 [==============================] - 0s 89us/step - loss: 7.7838e-04 - mean_squared_error: 7.7838e-04 - val_loss: 0.0019 - val_mean_squared_error: 0.0019\n",
      "Epoch 88/100\n",
      "1157/1157 [==============================] - 0s 93us/step - loss: 0.0010 - mean_squared_error: 0.0010 - val_loss: 0.0081 - val_mean_squared_error: 0.0081\n",
      "Epoch 89/100\n",
      "1157/1157 [==============================] - 0s 90us/step - loss: 0.0010 - mean_squared_error: 0.0010 - val_loss: 0.0020 - val_mean_squared_error: 0.0020\n",
      "Epoch 90/100\n",
      "1157/1157 [==============================] - 0s 99us/step - loss: 7.5005e-04 - mean_squared_error: 7.5005e-04 - val_loss: 0.0022 - val_mean_squared_error: 0.0022\n",
      "Epoch 91/100\n",
      "1157/1157 [==============================] - 0s 101us/step - loss: 9.5020e-04 - mean_squared_error: 9.5020e-04 - val_loss: 0.0025 - val_mean_squared_error: 0.0025\n",
      "Epoch 92/100\n",
      "1157/1157 [==============================] - 0s 96us/step - loss: 0.0011 - mean_squared_error: 0.0011 - val_loss: 0.0015 - val_mean_squared_error: 0.0015\n",
      "Epoch 93/100\n",
      "1157/1157 [==============================] - 0s 89us/step - loss: 9.2984e-04 - mean_squared_error: 9.2984e-04 - val_loss: 0.0015 - val_mean_squared_error: 0.0015\n",
      "Epoch 94/100\n",
      "1157/1157 [==============================] - 0s 102us/step - loss: 7.3520e-04 - mean_squared_error: 7.3520e-04 - val_loss: 0.0017 - val_mean_squared_error: 0.0017\n",
      "Epoch 95/100\n",
      "1157/1157 [==============================] - 0s 100us/step - loss: 8.6551e-04 - mean_squared_error: 8.6551e-04 - val_loss: 0.0013 - val_mean_squared_error: 0.0013\n",
      "Epoch 96/100\n",
      "1157/1157 [==============================] - 0s 118us/step - loss: 8.3095e-04 - mean_squared_error: 8.3095e-04 - val_loss: 0.0019 - val_mean_squared_error: 0.0019\n",
      "Epoch 97/100\n",
      "1157/1157 [==============================] - 0s 104us/step - loss: 8.3912e-04 - mean_squared_error: 8.3912e-04 - val_loss: 0.0014 - val_mean_squared_error: 0.0014\n",
      "Epoch 98/100\n",
      "1157/1157 [==============================] - 0s 95us/step - loss: 8.3347e-04 - mean_squared_error: 8.3347e-04 - val_loss: 0.0025 - val_mean_squared_error: 0.0025\n",
      "Epoch 99/100\n",
      "1157/1157 [==============================] - 0s 98us/step - loss: 9.9327e-04 - mean_squared_error: 9.9327e-04 - val_loss: 0.0016 - val_mean_squared_error: 0.0016\n",
      "Epoch 100/100\n",
      "1157/1157 [==============================] - 0s 94us/step - loss: 9.2932e-04 - mean_squared_error: 9.2932e-04 - val_loss: 0.0048 - val_mean_squared_error: 0.0048\n",
      "fitting successfully.\n"
     ]
    }
   ],
   "source": [
    "lr01.fitting(\n",
    "    input_set=X_train,\n",
    "    target_set=y_train,\n",
    "    val_input=X_validation,\n",
    "    val_target=y_validation,\n",
    "    val_epoch=100\n",
    ")"
   ]
  },
  {
   "cell_type": "code",
   "execution_count": 26,
   "id": "eaba8022-58d7-4367-be1a-66589c3a6b8f",
   "metadata": {},
   "outputs": [
    {
     "name": "stdout",
     "output_type": "stream",
     "text": [
      "model saved!\n"
     ]
    }
   ],
   "source": [
    "model_json = lr01.regressor.to_json()\n",
    "with open(f\"models/{currency}/lr01.json\", \"w\") as json_file:\n",
    "    json_file.write(model_json)\n",
    "    \n",
    "lr01.regressor.save_weights(f\"models/{currency}/lr01.h5\")\n",
    "print(\"model saved!\")"
   ]
  },
  {
   "cell_type": "code",
   "execution_count": 27,
   "id": "465499da-2d85-4902-8935-73abf183c0d0",
   "metadata": {
    "tags": []
   },
   "outputs": [
    {
     "data": {
      "image/png": "[encoded data removed]",
      "text/plain": [
       "<Figure size 432x288 with 1 Axes>"
      ]
     },
     "metadata": {
      "needs_background": "light"
     },
     "output_type": "display_data"
    }
   ],
   "source": [
    "plt.plot(lr01.temp_history.history[\"mean_squared_error\"])\n",
    "plt.plot(lr01.temp_history.history[\"val_mean_squared_error\"])\n",
    "\n",
    "plt.title(f'Model dengan LR=0.1 ({currency}/idr)')\n",
    "plt.ylabel('mse')\n",
    "plt.xlabel('epoch')\n",
    "plt.legend(['train', 'test'], loc='upper right')\n",
    "\n",
    "plt.savefig(f\"images/{currency}/lr01.png\")"
   ]
  },
  {
   "cell_type": "markdown",
   "id": "9a5ed1f2-9b3a-44f7-94f1-f84d955bccd6",
   "metadata": {},
   "source": [
    "## LR = 0.01"
   ]
  },
  {
   "cell_type": "code",
   "execution_count": 28,
   "id": "fc2bb4d9-c715-4516-8a23-d477dfba2a86",
   "metadata": {
    "tags": []
   },
   "outputs": [
    {
     "name": "stdout",
     "output_type": "stream",
     "text": [
      "Model: \"sequential_3\"\n",
      "_________________________________________________________________\n",
      "Layer (type)                 Output Shape              Param #   \n",
      "=================================================================\n",
      "lstm_3 (LSTM)                (None, 2)                 32        \n",
      "_________________________________________________________________\n",
      "dense_3 (Dense)              (None, 1)                 3         \n",
      "=================================================================\n",
      "Total params: 35\n",
      "Trainable params: 35\n",
      "Non-trainable params: 0\n",
      "_________________________________________________________________\n",
      "None\n"
     ]
    }
   ],
   "source": [
    "lr001 = Model()\n",
    "lr001.set_model(\n",
    "    name_opt='Adam', \n",
    "    input_shape=data.lr.X_train.shape[1],\n",
    "    neuron_shape=2,\n",
    "    lr=0.01\n",
    ")"
   ]
  },
  {
   "cell_type": "code",
   "execution_count": 29,
   "id": "6356a0fe-593f-4941-a300-4b3509c1969b",
   "metadata": {
    "collapsed": true,
    "jupyter": {
     "outputs_hidden": true
    },
    "tags": []
   },
   "outputs": [
    {
     "name": "stdout",
     "output_type": "stream",
     "text": [
      "Train on 1157 samples, validate on 289 samples\n",
      "Epoch 1/100\n",
      "1157/1157 [==============================] - 1s 444us/step - loss: 0.0586 - mean_squared_error: 0.0586 - val_loss: 0.1820 - val_mean_squared_error: 0.1820\n",
      "Epoch 2/100\n",
      "1157/1157 [==============================] - 0s 100us/step - loss: 0.0073 - mean_squared_error: 0.0073 - val_loss: 0.0752 - val_mean_squared_error: 0.0752\n",
      "Epoch 3/100\n",
      "1157/1157 [==============================] - 0s 98us/step - loss: 0.0025 - mean_squared_error: 0.0025 - val_loss: 0.0552 - val_mean_squared_error: 0.0552\n",
      "Epoch 4/100\n",
      "1157/1157 [==============================] - 0s 100us/step - loss: 0.0021 - mean_squared_error: 0.0021 - val_loss: 0.0417 - val_mean_squared_error: 0.0417\n",
      "Epoch 5/100\n",
      "1157/1157 [==============================] - 0s 105us/step - loss: 0.0019 - mean_squared_error: 0.0019 - val_loss: 0.0354 - val_mean_squared_error: 0.0354\n",
      "Epoch 6/100\n",
      "1157/1157 [==============================] - 0s 94us/step - loss: 0.0018 - mean_squared_error: 0.0018 - val_loss: 0.0312 - val_mean_squared_error: 0.0312\n",
      "Epoch 7/100\n",
      "1157/1157 [==============================] - 0s 97us/step - loss: 0.0017 - mean_squared_error: 0.0017 - val_loss: 0.0290 - val_mean_squared_error: 0.0290\n",
      "Epoch 8/100\n",
      "1157/1157 [==============================] - 0s 102us/step - loss: 0.0016 - mean_squared_error: 0.0016 - val_loss: 0.0271 - val_mean_squared_error: 0.0271\n",
      "Epoch 9/100\n",
      "1157/1157 [==============================] - 0s 116us/step - loss: 0.0015 - mean_squared_error: 0.0015 - val_loss: 0.0245 - val_mean_squared_error: 0.0245\n",
      "Epoch 10/100\n",
      "1157/1157 [==============================] - 0s 111us/step - loss: 0.0015 - mean_squared_error: 0.0015 - val_loss: 0.0241 - val_mean_squared_error: 0.0241\n",
      "Epoch 11/100\n",
      "1157/1157 [==============================] - 0s 96us/step - loss: 0.0014 - mean_squared_error: 0.0014 - val_loss: 0.0213 - val_mean_squared_error: 0.0213\n",
      "Epoch 12/100\n",
      "1157/1157 [==============================] - 0s 93us/step - loss: 0.0013 - mean_squared_error: 0.0013 - val_loss: 0.0208 - val_mean_squared_error: 0.0208\n",
      "Epoch 13/100\n",
      "1157/1157 [==============================] - 0s 96us/step - loss: 0.0012 - mean_squared_error: 0.0012 - val_loss: 0.0167 - val_mean_squared_error: 0.0167\n",
      "Epoch 14/100\n",
      "1157/1157 [==============================] - 0s 105us/step - loss: 0.0012 - mean_squared_error: 0.0012 - val_loss: 0.0190 - val_mean_squared_error: 0.0190\n",
      "Epoch 15/100\n",
      "1157/1157 [==============================] - 0s 96us/step - loss: 0.0012 - mean_squared_error: 0.0012 - val_loss: 0.0174 - val_mean_squared_error: 0.0174\n",
      "Epoch 16/100\n",
      "1157/1157 [==============================] - 0s 96us/step - loss: 0.0012 - mean_squared_error: 0.0012 - val_loss: 0.0165 - val_mean_squared_error: 0.0165\n",
      "Epoch 17/100\n",
      "1157/1157 [==============================] - 0s 97us/step - loss: 0.0012 - mean_squared_error: 0.0012 - val_loss: 0.0146 - val_mean_squared_error: 0.0146\n",
      "Epoch 18/100\n",
      "1157/1157 [==============================] - 0s 102us/step - loss: 0.0011 - mean_squared_error: 0.0011 - val_loss: 0.0127 - val_mean_squared_error: 0.0127\n",
      "Epoch 19/100\n",
      "1157/1157 [==============================] - 0s 116us/step - loss: 0.0010 - mean_squared_error: 0.0010 - val_loss: 0.0126 - val_mean_squared_error: 0.0126\n",
      "Epoch 20/100\n",
      "1157/1157 [==============================] - 0s 103us/step - loss: 0.0010 - mean_squared_error: 0.0010 - val_loss: 0.0115 - val_mean_squared_error: 0.0115\n",
      "Epoch 21/100\n",
      "1157/1157 [==============================] - 0s 103us/step - loss: 0.0010 - mean_squared_error: 0.0010 - val_loss: 0.0099 - val_mean_squared_error: 0.0099\n",
      "Epoch 22/100\n",
      "1157/1157 [==============================] - 0s 90us/step - loss: 9.7405e-04 - mean_squared_error: 9.7405e-04 - val_loss: 0.0097 - val_mean_squared_error: 0.0097\n",
      "Epoch 23/100\n",
      "1157/1157 [==============================] - 0s 94us/step - loss: 9.3822e-04 - mean_squared_error: 9.3822e-04 - val_loss: 0.0105 - val_mean_squared_error: 0.0105\n",
      "Epoch 24/100\n",
      "1157/1157 [==============================] - 0s 95us/step - loss: 9.7310e-04 - mean_squared_error: 9.7310e-04 - val_loss: 0.0092 - val_mean_squared_error: 0.0092\n",
      "Epoch 25/100\n",
      "1157/1157 [==============================] - 0s 92us/step - loss: 9.3028e-04 - mean_squared_error: 9.3028e-04 - val_loss: 0.0109 - val_mean_squared_error: 0.0109\n",
      "Epoch 26/100\n",
      "1157/1157 [==============================] - 0s 94us/step - loss: 9.5440e-04 - mean_squared_error: 9.5440e-04 - val_loss: 0.0097 - val_mean_squared_error: 0.0097\n",
      "Epoch 27/100\n",
      "1157/1157 [==============================] - 0s 103us/step - loss: 9.1731e-04 - mean_squared_error: 9.1731e-04 - val_loss: 0.0065 - val_mean_squared_error: 0.0065\n",
      "Epoch 28/100\n",
      "1157/1157 [==============================] - 0s 103us/step - loss: 9.1886e-04 - mean_squared_error: 9.1886e-04 - val_loss: 0.0084 - val_mean_squared_error: 0.0084\n",
      "Epoch 29/100\n",
      "1157/1157 [==============================] - 0s 96us/step - loss: 8.5345e-04 - mean_squared_error: 8.5345e-04 - val_loss: 0.0070 - val_mean_squared_error: 0.0070\n",
      "Epoch 30/100\n",
      "1157/1157 [==============================] - 0s 113us/step - loss: 8.6750e-04 - mean_squared_error: 8.6750e-04 - val_loss: 0.0094 - val_mean_squared_error: 0.0094\n",
      "Epoch 31/100\n",
      "1157/1157 [==============================] - 0s 107us/step - loss: 8.8963e-04 - mean_squared_error: 8.8963e-04 - val_loss: 0.0070 - val_mean_squared_error: 0.0070\n",
      "Epoch 32/100\n",
      "1157/1157 [==============================] - 0s 111us/step - loss: 8.4060e-04 - mean_squared_error: 8.4060e-04 - val_loss: 0.0068 - val_mean_squared_error: 0.0068\n",
      "Epoch 33/100\n",
      "1157/1157 [==============================] - 0s 99us/step - loss: 8.3822e-04 - mean_squared_error: 8.3822e-04 - val_loss: 0.0092 - val_mean_squared_error: 0.0092\n",
      "Epoch 34/100\n",
      "1157/1157 [==============================] - 0s 103us/step - loss: 8.4256e-04 - mean_squared_error: 8.4256e-04 - val_loss: 0.0068 - val_mean_squared_error: 0.0068\n",
      "Epoch 35/100\n",
      "1157/1157 [==============================] - 0s 129us/step - loss: 8.3303e-04 - mean_squared_error: 8.3303e-04 - val_loss: 0.0061 - val_mean_squared_error: 0.0061\n",
      "Epoch 36/100\n",
      "1157/1157 [==============================] - 0s 103us/step - loss: 8.0515e-04 - mean_squared_error: 8.0515e-04 - val_loss: 0.0075 - val_mean_squared_error: 0.0075\n",
      "Epoch 37/100\n",
      "1157/1157 [==============================] - 0s 90us/step - loss: 8.4205e-04 - mean_squared_error: 8.4205e-04 - val_loss: 0.0077 - val_mean_squared_error: 0.0077\n",
      "Epoch 38/100\n",
      "1157/1157 [==============================] - 0s 96us/step - loss: 9.0745e-04 - mean_squared_error: 9.0745e-04 - val_loss: 0.0067 - val_mean_squared_error: 0.0067\n",
      "Epoch 39/100\n",
      "1157/1157 [==============================] - 0s 92us/step - loss: 8.5811e-04 - mean_squared_error: 8.5811e-04 - val_loss: 0.0043 - val_mean_squared_error: 0.0043\n",
      "Epoch 40/100\n",
      "1157/1157 [==============================] - 0s 95us/step - loss: 8.5347e-04 - mean_squared_error: 8.5347e-04 - val_loss: 0.0060 - val_mean_squared_error: 0.0060\n",
      "Epoch 41/100\n",
      "1157/1157 [==============================] - 0s 91us/step - loss: 8.0000e-04 - mean_squared_error: 8.0000e-04 - val_loss: 0.0050 - val_mean_squared_error: 0.0050\n",
      "Epoch 42/100\n",
      "1157/1157 [==============================] - 0s 103us/step - loss: 8.0312e-04 - mean_squared_error: 8.0312e-04 - val_loss: 0.0045 - val_mean_squared_error: 0.0045\n",
      "Epoch 43/100\n",
      "1157/1157 [==============================] - 0s 103us/step - loss: 7.9095e-04 - mean_squared_error: 7.9095e-04 - val_loss: 0.0051 - val_mean_squared_error: 0.0051\n",
      "Epoch 44/100\n",
      "1157/1157 [==============================] - 0s 97us/step - loss: 7.7523e-04 - mean_squared_error: 7.7523e-04 - val_loss: 0.0071 - val_mean_squared_error: 0.0071\n",
      "Epoch 45/100\n",
      "1157/1157 [==============================] - 0s 105us/step - loss: 8.1119e-04 - mean_squared_error: 8.1119e-04 - val_loss: 0.0054 - val_mean_squared_error: 0.0054\n",
      "Epoch 46/100\n",
      "1157/1157 [==============================] - 0s 106us/step - loss: 7.5980e-04 - mean_squared_error: 7.5980e-04 - val_loss: 0.0055 - val_mean_squared_error: 0.0055\n",
      "Epoch 47/100\n",
      "1157/1157 [==============================] - 0s 104us/step - loss: 7.7099e-04 - mean_squared_error: 7.7099e-04 - val_loss: 0.0052 - val_mean_squared_error: 0.0052\n",
      "Epoch 48/100\n",
      "1157/1157 [==============================] - 0s 110us/step - loss: 8.1653e-04 - mean_squared_error: 8.1653e-04 - val_loss: 0.0044 - val_mean_squared_error: 0.0044\n",
      "Epoch 49/100\n",
      "1157/1157 [==============================] - 0s 104us/step - loss: 7.4410e-04 - mean_squared_error: 7.4410e-04 - val_loss: 0.0040 - val_mean_squared_error: 0.0040\n",
      "Epoch 50/100\n",
      "1157/1157 [==============================] - 0s 97us/step - loss: 7.6642e-04 - mean_squared_error: 7.6642e-04 - val_loss: 0.0043 - val_mean_squared_error: 0.0043\n",
      "Epoch 51/100\n",
      "1157/1157 [==============================] - 0s 92us/step - loss: 7.7917e-04 - mean_squared_error: 7.7917e-04 - val_loss: 0.0033 - val_mean_squared_error: 0.0033\n",
      "Epoch 52/100\n",
      "1157/1157 [==============================] - 0s 94us/step - loss: 7.8342e-04 - mean_squared_error: 7.8342e-04 - val_loss: 0.0034 - val_mean_squared_error: 0.0034\n",
      "Epoch 53/100\n",
      "1157/1157 [==============================] - 0s 94us/step - loss: 7.7486e-04 - mean_squared_error: 7.7486e-04 - val_loss: 0.0057 - val_mean_squared_error: 0.0057\n",
      "Epoch 54/100\n",
      "1157/1157 [==============================] - 0s 93us/step - loss: 9.2361e-04 - mean_squared_error: 9.2361e-04 - val_loss: 0.0069 - val_mean_squared_error: 0.0069\n",
      "Epoch 55/100\n",
      "1157/1157 [==============================] - 0s 96us/step - loss: 7.8551e-04 - mean_squared_error: 7.8551e-04 - val_loss: 0.0035 - val_mean_squared_error: 0.0035\n",
      "Epoch 56/100\n",
      "1157/1157 [==============================] - 0s 93us/step - loss: 7.4883e-04 - mean_squared_error: 7.4883e-04 - val_loss: 0.0043 - val_mean_squared_error: 0.0043\n",
      "Epoch 57/100\n",
      "1157/1157 [==============================] - 0s 96us/step - loss: 7.2900e-04 - mean_squared_error: 7.2900e-04 - val_loss: 0.0041 - val_mean_squared_error: 0.0041\n",
      "Epoch 58/100\n",
      "1157/1157 [==============================] - 0s 95us/step - loss: 8.7631e-04 - mean_squared_error: 8.7631e-04 - val_loss: 0.0050 - val_mean_squared_error: 0.0050\n",
      "Epoch 59/100\n",
      "1157/1157 [==============================] - 0s 98us/step - loss: 7.3403e-04 - mean_squared_error: 7.3403e-04 - val_loss: 0.0034 - val_mean_squared_error: 0.0034\n",
      "Epoch 60/100\n",
      "1157/1157 [==============================] - 0s 101us/step - loss: 7.5112e-04 - mean_squared_error: 7.5112e-04 - val_loss: 0.0040 - val_mean_squared_error: 0.0040\n",
      "Epoch 61/100\n",
      "1157/1157 [==============================] - 0s 102us/step - loss: 7.8324e-04 - mean_squared_error: 7.8324e-04 - val_loss: 0.0036 - val_mean_squared_error: 0.0036\n",
      "Epoch 62/100\n",
      "1157/1157 [==============================] - 0s 101us/step - loss: 8.0340e-04 - mean_squared_error: 8.0340e-04 - val_loss: 0.0037 - val_mean_squared_error: 0.0037\n",
      "Epoch 63/100\n",
      "1157/1157 [==============================] - 0s 95us/step - loss: 7.6494e-04 - mean_squared_error: 7.6494e-04 - val_loss: 0.0028 - val_mean_squared_error: 0.0028\n",
      "Epoch 64/100\n",
      "1157/1157 [==============================] - 0s 101us/step - loss: 7.4351e-04 - mean_squared_error: 7.4351e-04 - val_loss: 0.0027 - val_mean_squared_error: 0.0027\n",
      "Epoch 65/100\n",
      "1157/1157 [==============================] - 0s 113us/step - loss: 8.1169e-04 - mean_squared_error: 8.1169e-04 - val_loss: 0.0032 - val_mean_squared_error: 0.0032\n",
      "Epoch 66/100\n",
      "1157/1157 [==============================] - 0s 98us/step - loss: 7.8321e-04 - mean_squared_error: 7.8321e-04 - val_loss: 0.0036 - val_mean_squared_error: 0.0036\n",
      "Epoch 67/100\n",
      "1157/1157 [==============================] - 0s 96us/step - loss: 7.3195e-04 - mean_squared_error: 7.3195e-04 - val_loss: 0.0032 - val_mean_squared_error: 0.0032\n",
      "Epoch 68/100\n",
      "1157/1157 [==============================] - 0s 93us/step - loss: 7.1898e-04 - mean_squared_error: 7.1898e-04 - val_loss: 0.0031 - val_mean_squared_error: 0.0031\n",
      "Epoch 69/100\n",
      "1157/1157 [==============================] - 0s 94us/step - loss: 7.1445e-04 - mean_squared_error: 7.1445e-04 - val_loss: 0.0034 - val_mean_squared_error: 0.0034\n",
      "Epoch 70/100\n",
      "1157/1157 [==============================] - 0s 98us/step - loss: 8.9177e-04 - mean_squared_error: 8.9177e-04 - val_loss: 0.0033 - val_mean_squared_error: 0.0033\n",
      "Epoch 71/100\n",
      "1157/1157 [==============================] - 0s 93us/step - loss: 7.2640e-04 - mean_squared_error: 7.2640e-04 - val_loss: 0.0041 - val_mean_squared_error: 0.0041\n",
      "Epoch 72/100\n",
      "1157/1157 [==============================] - 0s 101us/step - loss: 7.1121e-04 - mean_squared_error: 7.1121e-04 - val_loss: 0.0034 - val_mean_squared_error: 0.0034\n",
      "Epoch 73/100\n",
      "1157/1157 [==============================] - 0s 99us/step - loss: 7.0346e-04 - mean_squared_error: 7.0346e-04 - val_loss: 0.0042 - val_mean_squared_error: 0.0042\n",
      "Epoch 74/100\n",
      "1157/1157 [==============================] - 0s 94us/step - loss: 8.1464e-04 - mean_squared_error: 8.1464e-04 - val_loss: 0.0021 - val_mean_squared_error: 0.0021\n",
      "Epoch 75/100\n",
      "1157/1157 [==============================] - 0s 95us/step - loss: 7.4436e-04 - mean_squared_error: 7.4436e-04 - val_loss: 0.0032 - val_mean_squared_error: 0.0032\n",
      "Epoch 76/100\n",
      "1157/1157 [==============================] - 0s 95us/step - loss: 7.2230e-04 - mean_squared_error: 7.2230e-04 - val_loss: 0.0030 - val_mean_squared_error: 0.0030\n",
      "Epoch 77/100\n",
      "1157/1157 [==============================] - 0s 102us/step - loss: 7.5527e-04 - mean_squared_error: 7.5527e-04 - val_loss: 0.0039 - val_mean_squared_error: 0.0039\n",
      "Epoch 78/100\n",
      "1157/1157 [==============================] - 0s 100us/step - loss: 7.4955e-04 - mean_squared_error: 7.4955e-04 - val_loss: 0.0039 - val_mean_squared_error: 0.0039\n",
      "Epoch 79/100\n",
      "1157/1157 [==============================] - 0s 97us/step - loss: 7.9414e-04 - mean_squared_error: 7.9414e-04 - val_loss: 0.0026 - val_mean_squared_error: 0.0026\n",
      "Epoch 80/100\n",
      "1157/1157 [==============================] - 0s 121us/step - loss: 7.2826e-04 - mean_squared_error: 7.2826e-04 - val_loss: 0.0022 - val_mean_squared_error: 0.0022\n",
      "Epoch 81/100\n",
      "1157/1157 [==============================] - 0s 98us/step - loss: 7.3893e-04 - mean_squared_error: 7.3893e-04 - val_loss: 0.0026 - val_mean_squared_error: 0.0026\n",
      "Epoch 82/100\n",
      "1157/1157 [==============================] - 0s 94us/step - loss: 7.5412e-04 - mean_squared_error: 7.5412e-04 - val_loss: 0.0030 - val_mean_squared_error: 0.0030\n",
      "Epoch 83/100\n",
      "1157/1157 [==============================] - 0s 102us/step - loss: 7.1992e-04 - mean_squared_error: 7.1992e-04 - val_loss: 0.0029 - val_mean_squared_error: 0.0029\n",
      "Epoch 84/100\n",
      "1157/1157 [==============================] - 0s 100us/step - loss: 7.2637e-04 - mean_squared_error: 7.2637e-04 - val_loss: 0.0035 - val_mean_squared_error: 0.0035\n",
      "Epoch 85/100\n",
      "1157/1157 [==============================] - 0s 92us/step - loss: 7.9809e-04 - mean_squared_error: 7.9809e-04 - val_loss: 0.0024 - val_mean_squared_error: 0.0024\n",
      "Epoch 86/100\n",
      "1157/1157 [==============================] - 0s 92us/step - loss: 7.5618e-04 - mean_squared_error: 7.5618e-04 - val_loss: 0.0020 - val_mean_squared_error: 0.0020\n",
      "Epoch 87/100\n",
      "1157/1157 [==============================] - 0s 99us/step - loss: 7.6355e-04 - mean_squared_error: 7.6355e-04 - val_loss: 0.0025 - val_mean_squared_error: 0.0025\n",
      "Epoch 88/100\n",
      "1157/1157 [==============================] - 0s 98us/step - loss: 7.2180e-04 - mean_squared_error: 7.2180e-04 - val_loss: 0.0030 - val_mean_squared_error: 0.0030\n",
      "Epoch 89/100\n",
      "1157/1157 [==============================] - 0s 101us/step - loss: 8.0935e-04 - mean_squared_error: 8.0935e-04 - val_loss: 0.0027 - val_mean_squared_error: 0.0027\n",
      "Epoch 90/100\n",
      "1157/1157 [==============================] - 0s 100us/step - loss: 7.1576e-04 - mean_squared_error: 7.1576e-04 - val_loss: 0.0017 - val_mean_squared_error: 0.0017\n",
      "Epoch 91/100\n",
      "1157/1157 [==============================] - 0s 99us/step - loss: 7.7006e-04 - mean_squared_error: 7.7006e-04 - val_loss: 0.0021 - val_mean_squared_error: 0.0021\n",
      "Epoch 92/100\n",
      "1157/1157 [==============================] - 0s 105us/step - loss: 7.6642e-04 - mean_squared_error: 7.6642e-04 - val_loss: 0.0023 - val_mean_squared_error: 0.0023\n",
      "Epoch 93/100\n",
      "1157/1157 [==============================] - 0s 101us/step - loss: 7.1729e-04 - mean_squared_error: 7.1729e-04 - val_loss: 0.0032 - val_mean_squared_error: 0.0032\n",
      "Epoch 94/100\n",
      "1157/1157 [==============================] - 0s 101us/step - loss: 7.7564e-04 - mean_squared_error: 7.7564e-04 - val_loss: 0.0019 - val_mean_squared_error: 0.0019\n",
      "Epoch 95/100\n",
      "1157/1157 [==============================] - 0s 99us/step - loss: 6.9566e-04 - mean_squared_error: 6.9566e-04 - val_loss: 0.0019 - val_mean_squared_error: 0.0019\n",
      "Epoch 96/100\n",
      "1157/1157 [==============================] - 0s 93us/step - loss: 7.0049e-04 - mean_squared_error: 7.0049e-04 - val_loss: 0.0031 - val_mean_squared_error: 0.0031\n",
      "Epoch 97/100\n",
      "1157/1157 [==============================] - 0s 95us/step - loss: 7.8822e-04 - mean_squared_error: 7.8822e-04 - val_loss: 0.0032 - val_mean_squared_error: 0.0032\n",
      "Epoch 98/100\n",
      "1157/1157 [==============================] - 0s 87us/step - loss: 7.5811e-04 - mean_squared_error: 7.5811e-04 - val_loss: 0.0022 - val_mean_squared_error: 0.0022\n",
      "Epoch 99/100\n",
      "1157/1157 [==============================] - 0s 94us/step - loss: 7.1897e-04 - mean_squared_error: 7.1897e-04 - val_loss: 0.0027 - val_mean_squared_error: 0.0027\n",
      "Epoch 100/100\n",
      "1157/1157 [==============================] - 0s 97us/step - loss: 6.8871e-04 - mean_squared_error: 6.8871e-04 - val_loss: 0.0046 - val_mean_squared_error: 0.0046\n",
      "fitting successfully.\n"
     ]
    }
   ],
   "source": [
    "lr001.fitting(\n",
    "    input_set=X_train,\n",
    "    target_set=y_train,\n",
    "    val_input=X_validation,\n",
    "    val_target=y_validation,\n",
    "    val_epoch=100\n",
    ")"
   ]
  },
  {
   "cell_type": "code",
   "execution_count": 30,
   "id": "15b55c8e-2dbb-4721-9b7b-be950a8ced8e",
   "metadata": {},
   "outputs": [
    {
     "name": "stdout",
     "output_type": "stream",
     "text": [
      "model saved!\n"
     ]
    }
   ],
   "source": [
    "model_json = lr001.regressor.to_json()\n",
    "with open(f\"models/{currency}/lr001.json\", \"w\") as json_file:\n",
    "    json_file.write(model_json)\n",
    "    \n",
    "lr001.regressor.save_weights(f\"models/{currency}/lr001.h5\")\n",
    "print(\"model saved!\")"
   ]
  },
  {
   "cell_type": "code",
   "execution_count": 31,
   "id": "02db6c56-c8dd-4077-b8f8-3e9e3c902ef4",
   "metadata": {
    "tags": []
   },
   "outputs": [
    {
     "data": {
      "image/png": "[encoded data removed]",
      "text/plain": [
       "<Figure size 432x288 with 1 Axes>"
      ]
     },
     "metadata": {
      "needs_background": "light"
     },
     "output_type": "display_data"
    }
   ],
   "source": [
    "plt.plot(lr001.temp_history.history[\"mean_squared_error\"])\n",
    "plt.plot(lr001.temp_history.history[\"val_mean_squared_error\"])\n",
    "\n",
    "plt.title(f'Model dengan LR=0.01 ({currency}/idr)')\n",
    "plt.ylabel('mse')\n",
    "plt.xlabel('epoch')\n",
    "plt.legend(['train', 'test'], loc='upper right')\n",
    "\n",
    "plt.savefig(f\"images/{currency}/lr001.png\")"
   ]
  },
  {
   "cell_type": "markdown",
   "id": "e73a99b6-b53c-4994-ae2e-bdc40d27d06b",
   "metadata": {},
   "source": [
    "## LR = 0.001"
   ]
  },
  {
   "cell_type": "code",
   "execution_count": 32,
   "id": "07913496-d08b-4e7d-bc74-9783111df253",
   "metadata": {
    "tags": []
   },
   "outputs": [
    {
     "name": "stdout",
     "output_type": "stream",
     "text": [
      "Model: \"sequential_4\"\n",
      "_________________________________________________________________\n",
      "Layer (type)                 Output Shape              Param #   \n",
      "=================================================================\n",
      "lstm_4 (LSTM)                (None, 2)                 32        \n",
      "_________________________________________________________________\n",
      "dense_4 (Dense)              (None, 1)                 3         \n",
      "=================================================================\n",
      "Total params: 35\n",
      "Trainable params: 35\n",
      "Non-trainable params: 0\n",
      "_________________________________________________________________\n",
      "None\n"
     ]
    }
   ],
   "source": [
    "lr0001 = Model()\n",
    "lr0001.set_model(\n",
    "    name_opt='Adam', \n",
    "    input_shape=data.lr.X_train.shape[1],\n",
    "    neuron_shape=2,\n",
    "    lr=0.001\n",
    ")"
   ]
  },
  {
   "cell_type": "code",
   "execution_count": 33,
   "id": "35bc8109-8463-4fb6-8b0e-d9f41cc1bfd3",
   "metadata": {
    "collapsed": true,
    "jupyter": {
     "outputs_hidden": true
    },
    "tags": []
   },
   "outputs": [
    {
     "name": "stdout",
     "output_type": "stream",
     "text": [
      "Train on 1157 samples, validate on 289 samples\n",
      "Epoch 1/100\n",
      "1157/1157 [==============================] - 1s 494us/step - loss: 0.1816 - mean_squared_error: 0.1816 - val_loss: 0.5501 - val_mean_squared_error: 0.5501\n",
      "Epoch 2/100\n",
      "1157/1157 [==============================] - 0s 93us/step - loss: 0.1712 - mean_squared_error: 0.1712 - val_loss: 0.5568 - val_mean_squared_error: 0.5568\n",
      "Epoch 3/100\n",
      "1157/1157 [==============================] - 0s 95us/step - loss: 0.1638 - mean_squared_error: 0.1638 - val_loss: 0.5624 - val_mean_squared_error: 0.5624\n",
      "Epoch 4/100\n",
      "1157/1157 [==============================] - 0s 97us/step - loss: 0.1581 - mean_squared_error: 0.1581 - val_loss: 0.5524 - val_mean_squared_error: 0.5524\n",
      "Epoch 5/100\n",
      "1157/1157 [==============================] - 0s 96us/step - loss: 0.1535 - mean_squared_error: 0.1535 - val_loss: 0.5464 - val_mean_squared_error: 0.5464\n",
      "Epoch 6/100\n",
      "1157/1157 [==============================] - 0s 95us/step - loss: 0.1495 - mean_squared_error: 0.1495 - val_loss: 0.5391 - val_mean_squared_error: 0.5391\n",
      "Epoch 7/100\n",
      "1157/1157 [==============================] - 0s 96us/step - loss: 0.1460 - mean_squared_error: 0.1460 - val_loss: 0.5297 - val_mean_squared_error: 0.5297\n",
      "Epoch 8/100\n",
      "1157/1157 [==============================] - 0s 101us/step - loss: 0.1428 - mean_squared_error: 0.1428 - val_loss: 0.5125 - val_mean_squared_error: 0.5125\n",
      "Epoch 9/100\n",
      "1157/1157 [==============================] - 0s 98us/step - loss: 0.1398 - mean_squared_error: 0.1398 - val_loss: 0.5028 - val_mean_squared_error: 0.5028\n",
      "Epoch 10/100\n",
      "1157/1157 [==============================] - 0s 100us/step - loss: 0.1370 - mean_squared_error: 0.1370 - val_loss: 0.4915 - val_mean_squared_error: 0.4915\n",
      "Epoch 11/100\n",
      "1157/1157 [==============================] - 0s 111us/step - loss: 0.1341 - mean_squared_error: 0.1341 - val_loss: 0.4757 - val_mean_squared_error: 0.4757\n",
      "Epoch 12/100\n",
      "1157/1157 [==============================] - 0s 96us/step - loss: 0.1309 - mean_squared_error: 0.1309 - val_loss: 0.4568 - val_mean_squared_error: 0.4568\n",
      "Epoch 13/100\n",
      "1157/1157 [==============================] - 0s 95us/step - loss: 0.1272 - mean_squared_error: 0.1272 - val_loss: 0.4447 - val_mean_squared_error: 0.4447\n",
      "Epoch 14/100\n",
      "1157/1157 [==============================] - 0s 97us/step - loss: 0.1227 - mean_squared_error: 0.1227 - val_loss: 0.4243 - val_mean_squared_error: 0.4243\n",
      "Epoch 15/100\n",
      "1157/1157 [==============================] - 0s 105us/step - loss: 0.1168 - mean_squared_error: 0.1168 - val_loss: 0.3990 - val_mean_squared_error: 0.3990\n",
      "Epoch 16/100\n",
      "1157/1157 [==============================] - 0s 107us/step - loss: 0.1093 - mean_squared_error: 0.1093 - val_loss: 0.3737 - val_mean_squared_error: 0.3737\n",
      "Epoch 17/100\n",
      "1157/1157 [==============================] - 0s 116us/step - loss: 0.1003 - mean_squared_error: 0.1003 - val_loss: 0.3332 - val_mean_squared_error: 0.3332\n",
      "Epoch 18/100\n",
      "1157/1157 [==============================] - 0s 111us/step - loss: 0.0896 - mean_squared_error: 0.0896 - val_loss: 0.2915 - val_mean_squared_error: 0.2915\n",
      "Epoch 19/100\n",
      "1157/1157 [==============================] - 0s 130us/step - loss: 0.0781 - mean_squared_error: 0.0781 - val_loss: 0.2538 - val_mean_squared_error: 0.2538\n",
      "Epoch 20/100\n",
      "1157/1157 [==============================] - 0s 127us/step - loss: 0.0662 - mean_squared_error: 0.0662 - val_loss: 0.2175 - val_mean_squared_error: 0.2175\n",
      "Epoch 21/100\n",
      "1157/1157 [==============================] - 0s 108us/step - loss: 0.0548 - mean_squared_error: 0.0548 - val_loss: 0.1742 - val_mean_squared_error: 0.1742\n",
      "Epoch 22/100\n",
      "1157/1157 [==============================] - 0s 112us/step - loss: 0.0443 - mean_squared_error: 0.0443 - val_loss: 0.1400 - val_mean_squared_error: 0.1400\n",
      "Epoch 23/100\n",
      "1157/1157 [==============================] - 0s 137us/step - loss: 0.0351 - mean_squared_error: 0.0351 - val_loss: 0.1115 - val_mean_squared_error: 0.1115\n",
      "Epoch 24/100\n",
      "1157/1157 [==============================] - 0s 97us/step - loss: 0.0273 - mean_squared_error: 0.0273 - val_loss: 0.0874 - val_mean_squared_error: 0.0874\n",
      "Epoch 25/100\n",
      "1157/1157 [==============================] - 0s 100us/step - loss: 0.0209 - mean_squared_error: 0.0209 - val_loss: 0.0677 - val_mean_squared_error: 0.0677\n",
      "Epoch 26/100\n",
      "1157/1157 [==============================] - 0s 102us/step - loss: 0.0156 - mean_squared_error: 0.0156 - val_loss: 0.0513 - val_mean_squared_error: 0.0513\n",
      "Epoch 27/100\n",
      "1157/1157 [==============================] - 0s 100us/step - loss: 0.0115 - mean_squared_error: 0.0115 - val_loss: 0.0409 - val_mean_squared_error: 0.0409\n",
      "Epoch 28/100\n",
      "1157/1157 [==============================] - 0s 107us/step - loss: 0.0084 - mean_squared_error: 0.0084 - val_loss: 0.0319 - val_mean_squared_error: 0.0319\n",
      "Epoch 29/100\n",
      "1157/1157 [==============================] - 0s 112us/step - loss: 0.0062 - mean_squared_error: 0.0062 - val_loss: 0.0251 - val_mean_squared_error: 0.0251\n",
      "Epoch 30/100\n",
      "1157/1157 [==============================] - 0s 100us/step - loss: 0.0046 - mean_squared_error: 0.0046 - val_loss: 0.0202 - val_mean_squared_error: 0.0202\n",
      "Epoch 31/100\n",
      "1157/1157 [==============================] - 0s 96us/step - loss: 0.0035 - mean_squared_error: 0.0035 - val_loss: 0.0171 - val_mean_squared_error: 0.0171\n",
      "Epoch 32/100\n",
      "1157/1157 [==============================] - 0s 101us/step - loss: 0.0027 - mean_squared_error: 0.0027 - val_loss: 0.0146 - val_mean_squared_error: 0.0146\n",
      "Epoch 33/100\n",
      "1157/1157 [==============================] - 0s 98us/step - loss: 0.0022 - mean_squared_error: 0.0022 - val_loss: 0.0129 - val_mean_squared_error: 0.0129\n",
      "Epoch 34/100\n",
      "1157/1157 [==============================] - 0s 94us/step - loss: 0.0019 - mean_squared_error: 0.0019 - val_loss: 0.0116 - val_mean_squared_error: 0.0116\n",
      "Epoch 35/100\n",
      "1157/1157 [==============================] - 0s 101us/step - loss: 0.0017 - mean_squared_error: 0.0017 - val_loss: 0.0110 - val_mean_squared_error: 0.0110\n",
      "Epoch 36/100\n",
      "1157/1157 [==============================] - 0s 104us/step - loss: 0.0016 - mean_squared_error: 0.0016 - val_loss: 0.0103 - val_mean_squared_error: 0.0103\n",
      "Epoch 37/100\n",
      "1157/1157 [==============================] - 0s 115us/step - loss: 0.0015 - mean_squared_error: 0.0015 - val_loss: 0.0101 - val_mean_squared_error: 0.0101\n",
      "Epoch 38/100\n",
      "1157/1157 [==============================] - 0s 100us/step - loss: 0.0015 - mean_squared_error: 0.0015 - val_loss: 0.0098 - val_mean_squared_error: 0.0098\n",
      "Epoch 39/100\n",
      "1157/1157 [==============================] - 0s 101us/step - loss: 0.0014 - mean_squared_error: 0.0014 - val_loss: 0.0098 - val_mean_squared_error: 0.0098\n",
      "Epoch 40/100\n",
      "1157/1157 [==============================] - 0s 100us/step - loss: 0.0014 - mean_squared_error: 0.0014 - val_loss: 0.0097 - val_mean_squared_error: 0.0097\n",
      "Epoch 41/100\n",
      "1157/1157 [==============================] - 0s 97us/step - loss: 0.0014 - mean_squared_error: 0.0014 - val_loss: 0.0099 - val_mean_squared_error: 0.0099\n",
      "Epoch 42/100\n",
      "1157/1157 [==============================] - 0s 93us/step - loss: 0.0014 - mean_squared_error: 0.0014 - val_loss: 0.0099 - val_mean_squared_error: 0.0099\n",
      "Epoch 43/100\n",
      "1157/1157 [==============================] - 0s 96us/step - loss: 0.0014 - mean_squared_error: 0.0014 - val_loss: 0.0102 - val_mean_squared_error: 0.0102\n",
      "Epoch 44/100\n",
      "1157/1157 [==============================] - 0s 113us/step - loss: 0.0014 - mean_squared_error: 0.0014 - val_loss: 0.0102 - val_mean_squared_error: 0.0102\n",
      "Epoch 45/100\n",
      "1157/1157 [==============================] - 0s 107us/step - loss: 0.0014 - mean_squared_error: 0.0014 - val_loss: 0.0104 - val_mean_squared_error: 0.0104\n",
      "Epoch 46/100\n",
      "1157/1157 [==============================] - 0s 101us/step - loss: 0.0013 - mean_squared_error: 0.0013 - val_loss: 0.0106 - val_mean_squared_error: 0.0106\n",
      "Epoch 47/100\n",
      "1157/1157 [==============================] - 0s 96us/step - loss: 0.0013 - mean_squared_error: 0.0013 - val_loss: 0.0107 - val_mean_squared_error: 0.0107\n",
      "Epoch 48/100\n",
      "1157/1157 [==============================] - 0s 93us/step - loss: 0.0013 - mean_squared_error: 0.0013 - val_loss: 0.0109 - val_mean_squared_error: 0.0109\n",
      "Epoch 49/100\n",
      "1157/1157 [==============================] - 0s 106us/step - loss: 0.0013 - mean_squared_error: 0.0013 - val_loss: 0.0111 - val_mean_squared_error: 0.0111\n",
      "Epoch 50/100\n",
      "1157/1157 [==============================] - 0s 107us/step - loss: 0.0013 - mean_squared_error: 0.0013 - val_loss: 0.0111 - val_mean_squared_error: 0.0111\n",
      "Epoch 51/100\n",
      "1157/1157 [==============================] - 0s 118us/step - loss: 0.0013 - mean_squared_error: 0.0013 - val_loss: 0.0114 - val_mean_squared_error: 0.0114\n",
      "Epoch 52/100\n",
      "1157/1157 [==============================] - 0s 95us/step - loss: 0.0013 - mean_squared_error: 0.0013 - val_loss: 0.0113 - val_mean_squared_error: 0.0113\n",
      "Epoch 53/100\n",
      "1157/1157 [==============================] - 0s 102us/step - loss: 0.0013 - mean_squared_error: 0.0013 - val_loss: 0.0116 - val_mean_squared_error: 0.0116\n",
      "Epoch 54/100\n",
      "1157/1157 [==============================] - 0s 123us/step - loss: 0.0013 - mean_squared_error: 0.0013 - val_loss: 0.0115 - val_mean_squared_error: 0.0115\n",
      "Epoch 55/100\n",
      "1157/1157 [==============================] - 0s 106us/step - loss: 0.0013 - mean_squared_error: 0.0013 - val_loss: 0.0118 - val_mean_squared_error: 0.0118\n",
      "Epoch 56/100\n",
      "1157/1157 [==============================] - 0s 97us/step - loss: 0.0013 - mean_squared_error: 0.0013 - val_loss: 0.0120 - val_mean_squared_error: 0.0120\n",
      "Epoch 57/100\n",
      "1157/1157 [==============================] - 0s 100us/step - loss: 0.0013 - mean_squared_error: 0.0013 - val_loss: 0.0122 - val_mean_squared_error: 0.0122\n",
      "Epoch 58/100\n",
      "1157/1157 [==============================] - 0s 98us/step - loss: 0.0013 - mean_squared_error: 0.0013 - val_loss: 0.0122 - val_mean_squared_error: 0.0122\n",
      "Epoch 59/100\n",
      "1157/1157 [==============================] - 0s 91us/step - loss: 0.0013 - mean_squared_error: 0.0013 - val_loss: 0.0125 - val_mean_squared_error: 0.0125\n",
      "Epoch 60/100\n",
      "1157/1157 [==============================] - 0s 106us/step - loss: 0.0013 - mean_squared_error: 0.0013 - val_loss: 0.0124 - val_mean_squared_error: 0.0124\n",
      "Epoch 61/100\n",
      "1157/1157 [==============================] - 0s 101us/step - loss: 0.0012 - mean_squared_error: 0.0012 - val_loss: 0.0125 - val_mean_squared_error: 0.0125\n",
      "Epoch 62/100\n",
      "1157/1157 [==============================] - 0s 105us/step - loss: 0.0012 - mean_squared_error: 0.0012 - val_loss: 0.0130 - val_mean_squared_error: 0.0130\n",
      "Epoch 63/100\n",
      "1157/1157 [==============================] - 0s 123us/step - loss: 0.0012 - mean_squared_error: 0.0012 - val_loss: 0.0127 - val_mean_squared_error: 0.0127\n",
      "Epoch 64/100\n",
      "1157/1157 [==============================] - 0s 100us/step - loss: 0.0012 - mean_squared_error: 0.0012 - val_loss: 0.0125 - val_mean_squared_error: 0.0125\n",
      "Epoch 65/100\n",
      "1157/1157 [==============================] - 0s 104us/step - loss: 0.0012 - mean_squared_error: 0.0012 - val_loss: 0.0128 - val_mean_squared_error: 0.0128\n",
      "Epoch 66/100\n",
      "1157/1157 [==============================] - 0s 102us/step - loss: 0.0012 - mean_squared_error: 0.0012 - val_loss: 0.0132 - val_mean_squared_error: 0.0132\n",
      "Epoch 67/100\n",
      "1157/1157 [==============================] - 0s 107us/step - loss: 0.0012 - mean_squared_error: 0.0012 - val_loss: 0.0129 - val_mean_squared_error: 0.0129\n",
      "Epoch 68/100\n",
      "1157/1157 [==============================] - 0s 97us/step - loss: 0.0012 - mean_squared_error: 0.0012 - val_loss: 0.0131 - val_mean_squared_error: 0.0131\n",
      "Epoch 69/100\n",
      "1157/1157 [==============================] - 0s 99us/step - loss: 0.0012 - mean_squared_error: 0.0012 - val_loss: 0.0130 - val_mean_squared_error: 0.0130\n",
      "Epoch 70/100\n",
      "1157/1157 [==============================] - 0s 106us/step - loss: 0.0012 - mean_squared_error: 0.0012 - val_loss: 0.0131 - val_mean_squared_error: 0.0131\n",
      "Epoch 71/100\n",
      "1157/1157 [==============================] - 0s 107us/step - loss: 0.0012 - mean_squared_error: 0.0012 - val_loss: 0.0130 - val_mean_squared_error: 0.0130\n",
      "Epoch 72/100\n",
      "1157/1157 [==============================] - 0s 103us/step - loss: 0.0012 - mean_squared_error: 0.0012 - val_loss: 0.0134 - val_mean_squared_error: 0.0134\n",
      "Epoch 73/100\n",
      "1157/1157 [==============================] - 0s 98us/step - loss: 0.0012 - mean_squared_error: 0.0012 - val_loss: 0.0133 - val_mean_squared_error: 0.0133\n",
      "Epoch 74/100\n",
      "1157/1157 [==============================] - 0s 102us/step - loss: 0.0012 - mean_squared_error: 0.0012 - val_loss: 0.0134 - val_mean_squared_error: 0.0134\n",
      "Epoch 75/100\n",
      "1157/1157 [==============================] - 0s 100us/step - loss: 0.0012 - mean_squared_error: 0.0012 - val_loss: 0.0134 - val_mean_squared_error: 0.0134\n",
      "Epoch 76/100\n",
      "1157/1157 [==============================] - 0s 98us/step - loss: 0.0012 - mean_squared_error: 0.0012 - val_loss: 0.0135 - val_mean_squared_error: 0.0135\n",
      "Epoch 77/100\n",
      "1157/1157 [==============================] - 0s 100us/step - loss: 0.0012 - mean_squared_error: 0.0012 - val_loss: 0.0134 - val_mean_squared_error: 0.0134\n",
      "Epoch 78/100\n",
      "1157/1157 [==============================] - 0s 112us/step - loss: 0.0012 - mean_squared_error: 0.0012 - val_loss: 0.0132 - val_mean_squared_error: 0.0132\n",
      "Epoch 79/100\n",
      "1157/1157 [==============================] - 0s 111us/step - loss: 0.0012 - mean_squared_error: 0.0012 - val_loss: 0.0131 - val_mean_squared_error: 0.0131\n",
      "Epoch 80/100\n",
      "1157/1157 [==============================] - 0s 97us/step - loss: 0.0012 - mean_squared_error: 0.0012 - val_loss: 0.0134 - val_mean_squared_error: 0.0134\n",
      "Epoch 81/100\n",
      "1157/1157 [==============================] - 0s 92us/step - loss: 0.0012 - mean_squared_error: 0.0012 - val_loss: 0.0128 - val_mean_squared_error: 0.0128\n",
      "Epoch 82/100\n",
      "1157/1157 [==============================] - 0s 103us/step - loss: 0.0012 - mean_squared_error: 0.0012 - val_loss: 0.0134 - val_mean_squared_error: 0.0134\n",
      "Epoch 83/100\n",
      "1157/1157 [==============================] - 0s 112us/step - loss: 0.0012 - mean_squared_error: 0.0012 - val_loss: 0.0126 - val_mean_squared_error: 0.0126\n",
      "Epoch 84/100\n",
      "1157/1157 [==============================] - 0s 103us/step - loss: 0.0012 - mean_squared_error: 0.0012 - val_loss: 0.0131 - val_mean_squared_error: 0.0131\n",
      "Epoch 85/100\n",
      "1157/1157 [==============================] - 0s 109us/step - loss: 0.0011 - mean_squared_error: 0.0011 - val_loss: 0.0129 - val_mean_squared_error: 0.0129\n",
      "Epoch 86/100\n",
      "1157/1157 [==============================] - 0s 113us/step - loss: 0.0011 - mean_squared_error: 0.0011 - val_loss: 0.0134 - val_mean_squared_error: 0.0134\n",
      "Epoch 87/100\n",
      "1157/1157 [==============================] - 0s 103us/step - loss: 0.0011 - mean_squared_error: 0.0011 - val_loss: 0.0130 - val_mean_squared_error: 0.0130\n",
      "Epoch 88/100\n",
      "1157/1157 [==============================] - 0s 102us/step - loss: 0.0011 - mean_squared_error: 0.0011 - val_loss: 0.0133 - val_mean_squared_error: 0.0133\n",
      "Epoch 89/100\n",
      "1157/1157 [==============================] - 0s 106us/step - loss: 0.0011 - mean_squared_error: 0.0011 - val_loss: 0.0129 - val_mean_squared_error: 0.0129\n",
      "Epoch 90/100\n",
      "1157/1157 [==============================] - 0s 102us/step - loss: 0.0011 - mean_squared_error: 0.0011 - val_loss: 0.0131 - val_mean_squared_error: 0.0131\n",
      "Epoch 91/100\n",
      "1157/1157 [==============================] - 0s 102us/step - loss: 0.0011 - mean_squared_error: 0.0011 - val_loss: 0.0126 - val_mean_squared_error: 0.0126\n",
      "Epoch 92/100\n",
      "1157/1157 [==============================] - 0s 98us/step - loss: 0.0011 - mean_squared_error: 0.0011 - val_loss: 0.0127 - val_mean_squared_error: 0.0127\n",
      "Epoch 93/100\n",
      "1157/1157 [==============================] - 0s 104us/step - loss: 0.0011 - mean_squared_error: 0.0011 - val_loss: 0.0126 - val_mean_squared_error: 0.0126\n",
      "Epoch 94/100\n",
      "1157/1157 [==============================] - 0s 98us/step - loss: 0.0011 - mean_squared_error: 0.0011 - val_loss: 0.0124 - val_mean_squared_error: 0.0124\n",
      "Epoch 95/100\n",
      "1157/1157 [==============================] - 0s 99us/step - loss: 0.0011 - mean_squared_error: 0.0011 - val_loss: 0.0130 - val_mean_squared_error: 0.0130\n",
      "Epoch 96/100\n",
      "1157/1157 [==============================] - 0s 98us/step - loss: 0.0011 - mean_squared_error: 0.0011 - val_loss: 0.0127 - val_mean_squared_error: 0.0127\n",
      "Epoch 97/100\n",
      "1157/1157 [==============================] - 0s 98us/step - loss: 0.0011 - mean_squared_error: 0.0011 - val_loss: 0.0125 - val_mean_squared_error: 0.0125\n",
      "Epoch 98/100\n",
      "1157/1157 [==============================] - 0s 93us/step - loss: 0.0011 - mean_squared_error: 0.0011 - val_loss: 0.0127 - val_mean_squared_error: 0.0127\n",
      "Epoch 99/100\n",
      "1157/1157 [==============================] - 0s 101us/step - loss: 0.0011 - mean_squared_error: 0.0011 - val_loss: 0.0127 - val_mean_squared_error: 0.0127\n",
      "Epoch 100/100\n",
      "1157/1157 [==============================] - 0s 102us/step - loss: 0.0011 - mean_squared_error: 0.0011 - val_loss: 0.0125 - val_mean_squared_error: 0.0125\n",
      "fitting successfully.\n"
     ]
    }
   ],
   "source": [
    "lr0001.fitting(\n",
    "    input_set=X_train,\n",
    "    target_set=y_train,\n",
    "    val_input=X_validation,\n",
    "    val_target=y_validation,\n",
    "    val_epoch=100\n",
    ")"
   ]
  },
  {
   "cell_type": "code",
   "execution_count": 34,
   "id": "8cc304ca-b7e2-41a7-b104-a547ce7aca1e",
   "metadata": {},
   "outputs": [
    {
     "name": "stdout",
     "output_type": "stream",
     "text": [
      "model saved!\n"
     ]
    }
   ],
   "source": [
    "model_json = lr0001.regressor.to_json()\n",
    "with open(f\"models/{currency}/lr0001.json\", \"w\") as json_file:\n",
    "    json_file.write(model_json)\n",
    "    \n",
    "lr0001.regressor.save_weights(f\"models/{currency}/lr0001.h5\")\n",
    "print(\"model saved!\")"
   ]
  },
  {
   "cell_type": "code",
   "execution_count": 35,
   "id": "4cbbb8a0-a114-4682-b521-4357b3d0758d",
   "metadata": {
    "tags": []
   },
   "outputs": [
    {
     "data": {
      "image/png": "[encoded data removed]",
      "text/plain": [
       "<Figure size 432x288 with 1 Axes>"
      ]
     },
     "metadata": {
      "needs_background": "light"
     },
     "output_type": "display_data"
    }
   ],
   "source": [
    "plt.plot(lr0001.temp_history.history[\"mean_squared_error\"])\n",
    "plt.plot(lr0001.temp_history.history[\"val_mean_squared_error\"])\n",
    "\n",
    "plt.title(f'Model dengan LR=0.001 ({currency}/idr)')\n",
    "plt.ylabel('mse')\n",
    "plt.xlabel('epoch')\n",
    "plt.legend(['train', 'test'], loc='upper right')\n",
    "\n",
    "plt.savefig(f\"images/{currency}/lr0001.png\")"
   ]
  }
 ],
 "metadata": {
  "kernelspec": {
   "display_name": "Django Shell-Plus",
   "language": "python",
   "name": "django_extensions"
  },
  "language_info": {
   "codemirror_mode": {
    "name": "ipython",
    "version": 3
   },
   "file_extension": ".py",
   "mimetype": "text/x-python",
   "name": "python",
   "nbconvert_exporter": "python",
   "pygments_lexer": "ipython3",
   "version": "3.6.15"
  },
  "toc-autonumbering": true,
  "toc-showcode": false,
  "toc-showmarkdowntxt": false,
  "toc-showtags": false
 },
 "nbformat": 4,
 "nbformat_minor": 5
}
