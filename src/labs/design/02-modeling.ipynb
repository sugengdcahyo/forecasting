{
 "cells": [
  {
   "cell_type": "markdown",
   "id": "c693ad73-b661-48d6-85b2-18e80619ffc4",
   "metadata": {},
   "source": [
    "```markdown\n",
    "+-- _config.yml\n",
    "+-- _drafts\n",
    "|   +-- begin-with-the-crazy-ideas.textile\n",
    "|   +-- on-simplicity-in-technology.markdown\n",
    "+-- _includes\n",
    "|   +-- footer.html\n",
    "|   +-- header.html\n",
    "+-- _layouts\n",
    "|   +-- default.html\n",
    "|   +-- post.html\n",
    "+-- _posts\n",
    "|   +-- 2007-10-29-why-every-programmer-should-play-nethack.textile\n",
    "|   +-- 2009-04-26-barcamp-boston-4-roundup.textile\n",
    "+-- _data\n",
    "|   +-- members.yml\n",
    "+-- _site\n",
    "+-- index.html\n",
    "```"
   ]
  }
 ],
 "metadata": {
  "kernelspec": {
   "display_name": "Django Shell-Plus",
   "language": "python",
   "name": "django_extensions"
  },
  "language_info": {
   "codemirror_mode": {
    "name": "ipython",
    "version": 3
   },
   "file_extension": ".py",
   "mimetype": "text/x-python",
   "name": "python",
   "nbconvert_exporter": "python",
   "pygments_lexer": "ipython3",
   "version": "3.6.12"
  }
 },
 "nbformat": 4,
 "nbformat_minor": 5
}
