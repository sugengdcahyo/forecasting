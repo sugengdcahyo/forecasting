{
 "cells": [
  {
   "cell_type": "code",
   "execution_count": 1,
   "id": "bf89a67a-84b1-42c8-8e35-eaad2af102b6",
   "metadata": {},
   "outputs": [
    {
     "name": "stderr",
     "output_type": "stream",
     "text": [
      "Using TensorFlow backend.\n"
     ]
    }
   ],
   "source": [
    "import math\n",
    "import matplotlib.pyplot as plt\n",
    "import keras\n",
    "import pandas as pd\n",
    "import numpy as np\n",
    "from keras.models import Sequential\n",
    "from keras.layers import Dense\n",
    "from keras.layers import LSTM\n",
    "from keras.layers import Dropout\n",
    "from keras.layers import *\n",
    "\n",
    "from sklearn.preprocessing import MinMaxScaler\n",
    "from sklearn.metrics import mean_squared_error\n",
    "from sklearn.metrics import mean_absolute_error\n",
    "from sklearn.model_selection import train_test_split\n",
    "from keras.callbacks import EarlyStopping"
   ]
  },
  {
   "cell_type": "code",
   "execution_count": 17,
   "id": "e0c60f63-46bb-4406-82bd-39b08989f9f5",
   "metadata": {},
   "outputs": [
    {
     "name": "stdout",
     "output_type": "stream",
     "text": [
      "Number of rows and colums: (1828, 4)\n"
     ]
    },
    {
     "data": {
      "text/html": [
       "<div>\n",
       "<style scoped>\n",
       "    .dataframe tbody tr th:only-of-type {\n",
       "        vertical-align: middle;\n",
       "    }\n",
       "\n",
       "    .dataframe tbody tr th {\n",
       "        vertical-align: top;\n",
       "    }\n",
       "\n",
       "    .dataframe thead th {\n",
       "        text-align: right;\n",
       "    }\n",
       "</style>\n",
       "<table border=\"1\" class=\"dataframe\">\n",
       "  <thead>\n",
       "    <tr style=\"text-align: right;\">\n",
       "      <th></th>\n",
       "      <th>Price</th>\n",
       "      <th>Open</th>\n",
       "      <th>High</th>\n",
       "      <th>Low</th>\n",
       "    </tr>\n",
       "    <tr>\n",
       "      <th>Date</th>\n",
       "      <th></th>\n",
       "      <th></th>\n",
       "      <th></th>\n",
       "      <th></th>\n",
       "    </tr>\n",
       "  </thead>\n",
       "  <tbody>\n",
       "    <tr>\n",
       "      <th>2014-01-01</th>\n",
       "      <td>115.64</td>\n",
       "      <td>115.48</td>\n",
       "      <td>115.71</td>\n",
       "      <td>115.33</td>\n",
       "    </tr>\n",
       "    <tr>\n",
       "      <th>2014-01-02</th>\n",
       "      <td>116.07</td>\n",
       "      <td>115.52</td>\n",
       "      <td>116.45</td>\n",
       "      <td>115.19</td>\n",
       "    </tr>\n",
       "    <tr>\n",
       "      <th>2014-01-03</th>\n",
       "      <td>116.07</td>\n",
       "      <td>115.90</td>\n",
       "      <td>117.58</td>\n",
       "      <td>115.84</td>\n",
       "    </tr>\n",
       "    <tr>\n",
       "      <th>2014-01-06</th>\n",
       "      <td>116.87</td>\n",
       "      <td>115.91</td>\n",
       "      <td>117.48</td>\n",
       "      <td>115.84</td>\n",
       "    </tr>\n",
       "    <tr>\n",
       "      <th>2014-01-07</th>\n",
       "      <td>116.97</td>\n",
       "      <td>116.75</td>\n",
       "      <td>117.64</td>\n",
       "      <td>116.43</td>\n",
       "    </tr>\n",
       "  </tbody>\n",
       "</table>\n",
       "</div>"
      ],
      "text/plain": [
       "             Price    Open    High     Low\n",
       "Date                                      \n",
       "2014-01-01  115.64  115.48  115.71  115.33\n",
       "2014-01-02  116.07  115.52  116.45  115.19\n",
       "2014-01-03  116.07  115.90  117.58  115.84\n",
       "2014-01-06  116.87  115.91  117.48  115.84\n",
       "2014-01-07  116.97  116.75  117.64  116.43"
      ]
     },
     "execution_count": 17,
     "metadata": {},
     "output_type": "execute_result"
    }
   ],
   "source": [
    "jpy = pd.read_csv('jpy-datasets.csv', index_col='Date')\n",
    "print(f'Number of rows and colums: {jpy.shape}')\n",
    "jpy.head()"
   ]
  },
  {
   "cell_type": "code",
   "execution_count": 18,
   "id": "c85dfad3-9b4c-492e-8e7b-efb920a72efd",
   "metadata": {},
   "outputs": [
    {
     "name": "stdout",
     "output_type": "stream",
     "text": [
      "Number of rows and colums: (1809, 4)\n"
     ]
    },
    {
     "data": {
      "text/html": [
       "<div>\n",
       "<style scoped>\n",
       "    .dataframe tbody tr th:only-of-type {\n",
       "        vertical-align: middle;\n",
       "    }\n",
       "\n",
       "    .dataframe tbody tr th {\n",
       "        vertical-align: top;\n",
       "    }\n",
       "\n",
       "    .dataframe thead th {\n",
       "        text-align: right;\n",
       "    }\n",
       "</style>\n",
       "<table border=\"1\" class=\"dataframe\">\n",
       "  <thead>\n",
       "    <tr style=\"text-align: right;\">\n",
       "      <th></th>\n",
       "      <th>Price</th>\n",
       "      <th>Open</th>\n",
       "      <th>High</th>\n",
       "      <th>Low</th>\n",
       "    </tr>\n",
       "    <tr>\n",
       "      <th>Date</th>\n",
       "      <th></th>\n",
       "      <th></th>\n",
       "      <th></th>\n",
       "      <th></th>\n",
       "    </tr>\n",
       "  </thead>\n",
       "  <tbody>\n",
       "    <tr>\n",
       "      <th>2014-01-01</th>\n",
       "      <td>12170.0</td>\n",
       "      <td>12170.0</td>\n",
       "      <td>12170.0</td>\n",
       "      <td>12170.0</td>\n",
       "    </tr>\n",
       "    <tr>\n",
       "      <th>2014-01-02</th>\n",
       "      <td>12160.0</td>\n",
       "      <td>12195.0</td>\n",
       "      <td>12260.0</td>\n",
       "      <td>12150.0</td>\n",
       "    </tr>\n",
       "    <tr>\n",
       "      <th>2014-01-03</th>\n",
       "      <td>12170.0</td>\n",
       "      <td>12160.0</td>\n",
       "      <td>12245.0</td>\n",
       "      <td>12160.0</td>\n",
       "    </tr>\n",
       "    <tr>\n",
       "      <th>2014-01-06</th>\n",
       "      <td>12180.0</td>\n",
       "      <td>12195.0</td>\n",
       "      <td>12245.0</td>\n",
       "      <td>12180.0</td>\n",
       "    </tr>\n",
       "    <tr>\n",
       "      <th>2014-01-07</th>\n",
       "      <td>12237.5</td>\n",
       "      <td>12197.5</td>\n",
       "      <td>12277.5</td>\n",
       "      <td>12197.5</td>\n",
       "    </tr>\n",
       "  </tbody>\n",
       "</table>\n",
       "</div>"
      ],
      "text/plain": [
       "              Price     Open     High      Low\n",
       "Date                                          \n",
       "2014-01-01  12170.0  12170.0  12170.0  12170.0\n",
       "2014-01-02  12160.0  12195.0  12260.0  12150.0\n",
       "2014-01-03  12170.0  12160.0  12245.0  12160.0\n",
       "2014-01-06  12180.0  12195.0  12245.0  12180.0\n",
       "2014-01-07  12237.5  12197.5  12277.5  12197.5"
      ]
     },
     "execution_count": 18,
     "metadata": {},
     "output_type": "execute_result"
    }
   ],
   "source": [
    "usd = pd.read_csv('usd-datasets.csv', index_col='Date')\n",
    "print(f'Number of rows and colums: {usd.shape}')\n",
    "usd.head()"
   ]
  },
  {
   "cell_type": "code",
   "execution_count": 4,
   "id": "684617a4-75de-4616-b922-c37e524d5a43",
   "metadata": {},
   "outputs": [],
   "source": [
    "## training config"
   ]
  },
  {
   "cell_type": "code",
   "execution_count": 19,
   "id": "17863f18-a3b4-4d76-9aec-fec915a659bb",
   "metadata": {},
   "outputs": [],
   "source": [
    "jpy_training_set = jpy.iloc[:round(0.8*len(jpy))].values\n",
    "jpy_test_set = jpy.iloc[round(0.8*len(jpy)):].values"
   ]
  },
  {
   "cell_type": "code",
   "execution_count": 20,
   "id": "5fba5045-a546-4b64-9db9-0f60a7e0f398",
   "metadata": {},
   "outputs": [
    {
     "data": {
      "text/plain": [
       "array([[115.64, 115.48, 115.71, 115.33],\n",
       "       [116.07, 115.52, 116.45, 115.19],\n",
       "       [116.07, 115.9 , 117.58, 115.84],\n",
       "       ...,\n",
       "       [133.97, 134.54, 135.41, 133.35],\n",
       "       [133.83, 134.01, 134.93, 133.64],\n",
       "       [133.94, 133.78, 134.34, 133.63]])"
      ]
     },
     "execution_count": 20,
     "metadata": {},
     "output_type": "execute_result"
    }
   ],
   "source": [
    "jpy_training_set"
   ]
  },
  {
   "cell_type": "code",
   "execution_count": 21,
   "id": "ebb3f827-e581-49d7-a44f-1eb6d7e85821",
   "metadata": {},
   "outputs": [
    {
     "data": {
      "text/plain": [
       "array([[134.28, 133.97, 134.82, 133.73],\n",
       "       [135.29, 134.4 , 135.63, 134.22],\n",
       "       [134.13, 135.29, 136.3 , 133.84],\n",
       "       ...,\n",
       "       [136.05, 136.41, 136.76, 135.92],\n",
       "       [136.13, 136.24, 136.41, 135.99],\n",
       "       [137.19, 137.06, 137.7 , 137.06]])"
      ]
     },
     "execution_count": 21,
     "metadata": {},
     "output_type": "execute_result"
    }
   ],
   "source": [
    "jpy_test_set"
   ]
  },
  {
   "cell_type": "code",
   "execution_count": 13,
   "id": "8af1df72-ee45-4bbe-afc9-5a1709468095",
   "metadata": {},
   "outputs": [],
   "source": [
    "## Feature Scaling"
   ]
  },
  {
   "cell_type": "code",
   "execution_count": 24,
   "id": "234c8299-a5b7-490b-a091-194cd93c4b60",
   "metadata": {},
   "outputs": [],
   "source": [
    "sc = MinMaxScaler(feature_range=(-1,1))\n",
    "jpy_training_set_scaled = sc.fit_transform(jpy_training_set)\n",
    "jpy_test_set_scaled = sc.fit_transform(jpy_test_set)"
   ]
  },
  {
   "cell_type": "code",
   "execution_count": 25,
   "id": "d26af028-1fd2-41a5-985f-8e6342f33992",
   "metadata": {},
   "outputs": [
    {
     "data": {
      "text/plain": [
       "array([[-0.17380063, -0.17978173, -0.25730659, -0.16498122],\n",
       "       [-0.14909509, -0.1774842 , -0.21489971, -0.17307137],\n",
       "       [-0.14909509, -0.15565767, -0.15014327, -0.13550997],\n",
       "       ...,\n",
       "       [ 0.87934502,  0.91499138,  0.87163324,  0.87633632],\n",
       "       [ 0.87130135,  0.88454911,  0.84412607,  0.89309448],\n",
       "       [ 0.87762137,  0.87133831,  0.81031519,  0.89251661]])"
      ]
     },
     "execution_count": 25,
     "metadata": {},
     "output_type": "execute_result"
    }
   ],
   "source": [
    "jpy_training_set_scaled"
   ]
  },
  {
   "cell_type": "code",
   "execution_count": 26,
   "id": "f29f88c6-2d69-49a3-adb2-18bec15c4877",
   "metadata": {},
   "outputs": [
    {
     "data": {
      "text/plain": [
       "array([[-0.22983355, -0.24928   , -0.26980039, -0.23397224],\n",
       "       [-0.16517286, -0.22176   , -0.21764327, -0.20158625],\n",
       "       [-0.23943662, -0.1648    , -0.17450097, -0.22670192],\n",
       "       ...,\n",
       "       [-0.11651729, -0.09312   , -0.14488088, -0.0892267 ],\n",
       "       [-0.11139565, -0.104     , -0.1674179 , -0.08460013],\n",
       "       [-0.04353393, -0.05152   , -0.08435287, -0.01387971]])"
      ]
     },
     "execution_count": 26,
     "metadata": {},
     "output_type": "execute_result"
    }
   ],
   "source": [
    "jpy_test_set_scaled"
   ]
  },
  {
   "cell_type": "code",
   "execution_count": 42,
   "id": "e14d7956-6cf0-4906-a02e-04eefdb19ef3",
   "metadata": {},
   "outputs": [],
   "source": [
    "# Creating a data structure with 60 time-steps and 1 output\n",
    "jpy_X_train = []\n",
    "jpy_y_train = []\n",
    "for i in range(60, len(jpy_training_set)):\n",
    "    jpy_X_train.append(jpy_training_set_scaled[i-60:i, 0])\n",
    "    jpy_y_train.append(jpy_training_set_scaled[i, 0])\n",
    "jpy_X_train, jpy_y_train = np.array(jpy_X_train), np.array(jpy_y_train)\n",
    "jpy_X_train = np.reshape(jpy_X_train, (jpy_X_train.shape[0], jpy_X_train.shape[1], 1))\n",
    "#(740, 60, 1)\n"
   ]
  },
  {
   "cell_type": "code",
   "execution_count": 47,
   "id": "b419c921-b017-4be8-9f2b-8777b35b8382",
   "metadata": {},
   "outputs": [],
   "source": [
    "# Generate model lstm"
   ]
  },
  {
   "cell_type": "code",
   "execution_count": 60,
   "id": "8fa82595-dff5-4826-8965-47a7cc796d63",
   "metadata": {},
   "outputs": [],
   "source": [
    "model = Sequential()"
   ]
  },
  {
   "cell_type": "code",
   "execution_count": 61,
   "id": "21364a6a-e3bc-4132-93f3-7d6ca9d3cdf8",
   "metadata": {},
   "outputs": [],
   "source": [
    "#Adding the first LSTM layer and some Dropout regularisation\n",
    "model.add(LSTM(units = 50, return_sequences = True, input_shape = (jpy_X_train.shape[1], 1)))\n",
    "model.add(Dropout(0.2))\n",
    "# Adding a second LSTM layer and some Dropout regularisation\n",
    "model.add(LSTM(units = 50, return_sequences = True))\n",
    "model.add(Dropout(0.2))\n",
    "# Adding a third LSTM layer and some Dropout regularisation\n",
    "model.add(LSTM(units = 50, return_sequences = True))\n",
    "model.add(Dropout(0.2))\n",
    "# Adding a fourth LSTM layer and some Dropout regularisation\n",
    "model.add(LSTM(units = 50))\n",
    "model.add(Dropout(0.2))\n",
    "# Adding the output layer\n",
    "model.add(Dense(units = 1))"
   ]
  },
  {
   "cell_type": "code",
   "execution_count": 62,
   "id": "f4fe4fcd-5bbe-4f0e-b23a-32338f93a1d0",
   "metadata": {},
   "outputs": [
    {
     "name": "stdout",
     "output_type": "stream",
     "text": [
      "WARNING:tensorflow:From /home/scahyo/thesis/forecasting/env/lib/python3.6/site-packages/keras/backend/tensorflow_backend.py:422: The name tf.global_variables is deprecated. Please use tf.compat.v1.global_variables instead.\n",
      "\n",
      "Epoch 1/100\n",
      "1402/1402 [==============================] - 7s 5ms/step - loss: 0.0387\n",
      "Epoch 2/100\n",
      "1402/1402 [==============================] - 6s 4ms/step - loss: 0.0189\n",
      "Epoch 3/100\n",
      "1402/1402 [==============================] - 6s 4ms/step - loss: 0.0169\n",
      "Epoch 4/100\n",
      "1402/1402 [==============================] - 6s 4ms/step - loss: 0.0155\n",
      "Epoch 5/100\n",
      "1402/1402 [==============================] - 6s 4ms/step - loss: 0.0142\n",
      "Epoch 6/100\n",
      "1402/1402 [==============================] - 6s 4ms/step - loss: 0.0145\n",
      "Epoch 7/100\n",
      "1402/1402 [==============================] - 6s 4ms/step - loss: 0.0123\n",
      "Epoch 8/100\n",
      "1402/1402 [==============================] - 6s 4ms/step - loss: 0.0117\n",
      "Epoch 9/100\n",
      "1402/1402 [==============================] - 6s 4ms/step - loss: 0.0109\n",
      "Epoch 10/100\n",
      "1402/1402 [==============================] - 6s 4ms/step - loss: 0.0106\n",
      "Epoch 11/100\n",
      "1402/1402 [==============================] - 6s 4ms/step - loss: 0.0108\n",
      "Epoch 12/100\n",
      "1402/1402 [==============================] - 6s 4ms/step - loss: 0.0101\n",
      "Epoch 13/100\n",
      "1402/1402 [==============================] - 6s 4ms/step - loss: 0.0096\n",
      "Epoch 14/100\n",
      "1402/1402 [==============================] - 6s 4ms/step - loss: 0.0088\n",
      "Epoch 15/100\n",
      "1402/1402 [==============================] - 6s 4ms/step - loss: 0.0089\n",
      "Epoch 16/100\n",
      "1402/1402 [==============================] - 6s 4ms/step - loss: 0.0092\n",
      "Epoch 17/100\n",
      "1402/1402 [==============================] - 6s 4ms/step - loss: 0.0078\n",
      "Epoch 18/100\n",
      "1402/1402 [==============================] - 6s 4ms/step - loss: 0.0079\n",
      "Epoch 19/100\n",
      "1402/1402 [==============================] - 6s 4ms/step - loss: 0.0075\n",
      "Epoch 20/100\n",
      "1402/1402 [==============================] - 6s 4ms/step - loss: 0.0076\n",
      "Epoch 21/100\n",
      "1402/1402 [==============================] - 6s 4ms/step - loss: 0.0078\n",
      "Epoch 22/100\n",
      "1402/1402 [==============================] - 6s 4ms/step - loss: 0.0072\n",
      "Epoch 23/100\n",
      "1402/1402 [==============================] - 6s 4ms/step - loss: 0.0068\n",
      "Epoch 24/100\n",
      "1402/1402 [==============================] - 6s 4ms/step - loss: 0.0064\n",
      "Epoch 25/100\n",
      "1402/1402 [==============================] - 6s 4ms/step - loss: 0.0068\n",
      "Epoch 26/100\n",
      "1402/1402 [==============================] - 6s 4ms/step - loss: 0.0073\n",
      "Epoch 27/100\n",
      "1402/1402 [==============================] - 6s 4ms/step - loss: 0.0064\n",
      "Epoch 28/100\n",
      "1402/1402 [==============================] - 6s 4ms/step - loss: 0.0060\n",
      "Epoch 29/100\n",
      "1402/1402 [==============================] - 6s 4ms/step - loss: 0.0059\n",
      "Epoch 30/100\n",
      "1402/1402 [==============================] - 6s 4ms/step - loss: 0.0061\n",
      "Epoch 31/100\n",
      "1402/1402 [==============================] - 6s 4ms/step - loss: 0.0061\n",
      "Epoch 32/100\n",
      "1402/1402 [==============================] - 6s 4ms/step - loss: 0.0065\n",
      "Epoch 33/100\n",
      "1402/1402 [==============================] - 6s 4ms/step - loss: 0.0059\n",
      "Epoch 34/100\n",
      "1402/1402 [==============================] - 6s 4ms/step - loss: 0.0056\n",
      "Epoch 35/100\n",
      "1402/1402 [==============================] - 6s 4ms/step - loss: 0.0056\n",
      "Epoch 36/100\n",
      "1402/1402 [==============================] - 6s 4ms/step - loss: 0.0060\n",
      "Epoch 37/100\n",
      "1402/1402 [==============================] - 6s 4ms/step - loss: 0.0057\n",
      "Epoch 38/100\n",
      "1402/1402 [==============================] - 6s 4ms/step - loss: 0.0054\n",
      "Epoch 39/100\n",
      "1402/1402 [==============================] - 6s 4ms/step - loss: 0.0055\n",
      "Epoch 40/100\n",
      "1402/1402 [==============================] - 6s 4ms/step - loss: 0.0054\n",
      "Epoch 41/100\n",
      "1402/1402 [==============================] - 6s 4ms/step - loss: 0.0057\n",
      "Epoch 42/100\n",
      "1402/1402 [==============================] - 6s 4ms/step - loss: 0.0054\n",
      "Epoch 43/100\n",
      "1402/1402 [==============================] - 6s 4ms/step - loss: 0.0051\n",
      "Epoch 44/100\n",
      "1402/1402 [==============================] - 6s 4ms/step - loss: 0.0050\n",
      "Epoch 45/100\n",
      "1402/1402 [==============================] - 6s 4ms/step - loss: 0.0052\n",
      "Epoch 46/100\n",
      "1402/1402 [==============================] - 6s 4ms/step - loss: 0.0052\n",
      "Epoch 47/100\n",
      "1402/1402 [==============================] - 6s 4ms/step - loss: 0.0048\n",
      "Epoch 48/100\n",
      "1402/1402 [==============================] - 6s 4ms/step - loss: 0.0047\n",
      "Epoch 49/100\n",
      "1402/1402 [==============================] - 6s 4ms/step - loss: 0.0053\n",
      "Epoch 50/100\n",
      "1402/1402 [==============================] - 6s 4ms/step - loss: 0.0052\n",
      "Epoch 51/100\n",
      "1402/1402 [==============================] - 6s 4ms/step - loss: 0.0054\n",
      "Epoch 52/100\n",
      "1402/1402 [==============================] - 6s 4ms/step - loss: 0.0052\n",
      "Epoch 53/100\n",
      "1402/1402 [==============================] - 6s 4ms/step - loss: 0.0050\n",
      "Epoch 54/100\n",
      "1402/1402 [==============================] - 6s 4ms/step - loss: 0.0046\n",
      "Epoch 55/100\n",
      "1402/1402 [==============================] - 6s 4ms/step - loss: 0.0046\n",
      "Epoch 56/100\n",
      "1402/1402 [==============================] - 6s 4ms/step - loss: 0.0045\n",
      "Epoch 57/100\n",
      "1402/1402 [==============================] - 6s 4ms/step - loss: 0.0047\n",
      "Epoch 58/100\n",
      "1402/1402 [==============================] - 6s 4ms/step - loss: 0.0051\n",
      "Epoch 59/100\n",
      "1402/1402 [==============================] - 6s 4ms/step - loss: 0.0049\n",
      "Epoch 60/100\n",
      "1402/1402 [==============================] - 6s 4ms/step - loss: 0.0049\n",
      "Epoch 61/100\n",
      "1402/1402 [==============================] - 6s 4ms/step - loss: 0.0048\n",
      "Epoch 62/100\n",
      "1402/1402 [==============================] - 6s 4ms/step - loss: 0.0047\n",
      "Epoch 63/100\n",
      "1402/1402 [==============================] - 6s 4ms/step - loss: 0.0047\n",
      "Epoch 64/100\n",
      "1402/1402 [==============================] - 6s 4ms/step - loss: 0.0051\n",
      "Epoch 65/100\n",
      "1402/1402 [==============================] - 6s 4ms/step - loss: 0.0048\n",
      "Epoch 66/100\n",
      "1402/1402 [==============================] - 6s 4ms/step - loss: 0.0045\n",
      "Epoch 67/100\n",
      "1402/1402 [==============================] - 6s 4ms/step - loss: 0.0045\n",
      "Epoch 68/100\n",
      "1402/1402 [==============================] - 6s 4ms/step - loss: 0.0047\n",
      "Epoch 69/100\n",
      "1402/1402 [==============================] - 6s 4ms/step - loss: 0.0046\n",
      "Epoch 70/100\n",
      "1402/1402 [==============================] - 6s 4ms/step - loss: 0.0050\n",
      "Epoch 71/100\n",
      "1402/1402 [==============================] - 6s 4ms/step - loss: 0.0045\n",
      "Epoch 72/100\n",
      "1402/1402 [==============================] - 6s 4ms/step - loss: 0.0053\n",
      "Epoch 73/100\n",
      "1402/1402 [==============================] - 6s 4ms/step - loss: 0.0045\n",
      "Epoch 74/100\n",
      "1402/1402 [==============================] - 6s 4ms/step - loss: 0.0043\n",
      "Epoch 75/100\n",
      "1402/1402 [==============================] - 6s 4ms/step - loss: 0.0044\n",
      "Epoch 76/100\n",
      "1402/1402 [==============================] - 6s 4ms/step - loss: 0.0044\n",
      "Epoch 77/100\n",
      "1402/1402 [==============================] - 6s 4ms/step - loss: 0.0041\n",
      "Epoch 78/100\n",
      "1402/1402 [==============================] - 6s 4ms/step - loss: 0.0043\n",
      "Epoch 79/100\n",
      "1402/1402 [==============================] - 6s 4ms/step - loss: 0.0045\n",
      "Epoch 80/100\n",
      "1402/1402 [==============================] - 6s 4ms/step - loss: 0.0044\n",
      "Epoch 81/100\n",
      "1402/1402 [==============================] - 6s 4ms/step - loss: 0.0045\n",
      "Epoch 82/100\n",
      "1402/1402 [==============================] - 6s 4ms/step - loss: 0.0043\n",
      "Epoch 83/100\n",
      "1402/1402 [==============================] - 6s 4ms/step - loss: 0.0049\n",
      "Epoch 84/100\n",
      "1402/1402 [==============================] - 6s 4ms/step - loss: 0.0050\n",
      "Epoch 85/100\n",
      "1402/1402 [==============================] - 6s 4ms/step - loss: 0.0045\n",
      "Epoch 86/100\n",
      "1402/1402 [==============================] - 6s 4ms/step - loss: 0.0045\n",
      "Epoch 87/100\n",
      "1402/1402 [==============================] - 6s 4ms/step - loss: 0.0039\n",
      "Epoch 88/100\n",
      "1402/1402 [==============================] - 6s 4ms/step - loss: 0.0048\n",
      "Epoch 89/100\n",
      "1402/1402 [==============================] - 6s 4ms/step - loss: 0.0044\n",
      "Epoch 90/100\n",
      "1402/1402 [==============================] - 6s 5ms/step - loss: 0.0045\n",
      "Epoch 91/100\n",
      "1402/1402 [==============================] - 6s 5ms/step - loss: 0.0039\n",
      "Epoch 92/100\n",
      "1402/1402 [==============================] - 6s 4ms/step - loss: 0.0044\n",
      "Epoch 93/100\n",
      "1402/1402 [==============================] - 6s 4ms/step - loss: 0.0041\n",
      "Epoch 94/100\n",
      "1402/1402 [==============================] - 6s 4ms/step - loss: 0.0043\n",
      "Epoch 95/100\n",
      "1402/1402 [==============================] - 6s 4ms/step - loss: 0.0044\n",
      "Epoch 96/100\n",
      "1402/1402 [==============================] - 6s 4ms/step - loss: 0.0043\n",
      "Epoch 97/100\n",
      "1402/1402 [==============================] - 6s 4ms/step - loss: 0.0044\n",
      "Epoch 98/100\n",
      "1402/1402 [==============================] - 6s 4ms/step - loss: 0.0047\n",
      "Epoch 99/100\n",
      "1402/1402 [==============================] - 6s 4ms/step - loss: 0.0046\n",
      "Epoch 100/100\n",
      "1402/1402 [==============================] - 6s 4ms/step - loss: 0.0048\n"
     ]
    },
    {
     "data": {
      "text/plain": [
       "<keras.callbacks.callbacks.History at 0x7f5439d5db70>"
      ]
     },
     "execution_count": 62,
     "metadata": {},
     "output_type": "execute_result"
    }
   ],
   "source": [
    "# Compiling the RNN\n",
    "model.compile(optimizer = 'adam', loss = 'mean_squared_error')\n",
    "\n",
    "# Fitting the RNN to the Training set\n",
    "model.fit(jpy_X_train, jpy_y_train, epochs = 100, batch_size = 32)"
   ]
  },
  {
   "cell_type": "code",
   "execution_count": 65,
   "id": "53b8dcb2-b8bc-48f4-aa6a-5ab160631cf5",
   "metadata": {},
   "outputs": [],
   "source": [
    "model_json=model.to_json()\n",
    "with open(\"blueprint_model.json\", \"w\") as json_file:\n",
    "    json_file.write(model_json)\n",
    "model.save_weights('blueprint_model.h5')"
   ]
  },
  {
   "cell_type": "code",
   "execution_count": 67,
   "id": "d50904c3-d26b-4d8a-97af-0014166ab406",
   "metadata": {},
   "outputs": [],
   "source": [
    "model.save('model.h5')"
   ]
  },
  {
   "cell_type": "code",
   "execution_count": 71,
   "id": "36c32a71-1d63-432b-9880-741c0b7edf85",
   "metadata": {},
   "outputs": [],
   "source": [
    "model.save('model.h5py')"
   ]
  },
  {
   "cell_type": "code",
   "execution_count": null,
   "id": "53b67289-8c86-4502-91f5-afbb39a985e6",
   "metadata": {},
   "outputs": [],
   "source": []
  },
  {
   "cell_type": "code",
   "execution_count": null,
   "id": "58725212-eeab-4d93-af39-12fbae1d1831",
   "metadata": {},
   "outputs": [],
   "source": []
  },
  {
   "cell_type": "code",
   "execution_count": 73,
   "id": "1e7f18b3-8001-400d-b437-2163520a6e14",
   "metadata": {},
   "outputs": [],
   "source": [
    "# Creating a data structure with 60 time-steps and 1 output\n",
    "jpy_X_test = []\n",
    "jpy_y_test = []\n",
    "for i in range(60, len(jpy_test_set)):\n",
    "    jpy_X_test.append(jpy_test_set_scaled[i-60:i, 0])\n",
    "    jpy_y_test.append(jpy_test_set_scaled[i, 0])\n",
    "jpy_X_test, jpy_y_test = np.array(jpy_X_test), np.array(jpy_y_test)\n",
    "jpy_X_test = np.reshape(jpy_X_test, (jpy_X_test.shape[0], jpy_X_test.shape[1], 1))\n",
    "#(740, 60, 1)\n"
   ]
  },
  {
   "cell_type": "code",
   "execution_count": 74,
   "id": "e15f93a8-2368-43db-8467-3f281ee3dc21",
   "metadata": {},
   "outputs": [],
   "source": [
    "scores = model.evaluate(jpy_X_test, jpy_y_test, verbose=0)"
   ]
  },
  {
   "cell_type": "code",
   "execution_count": 77,
   "id": "bd973030-73d1-4967-b976-0351ec4ed1ac",
   "metadata": {},
   "outputs": [
    {
     "data": {
      "text/plain": [
       "(['loss'], 0.5305555023274269)"
      ]
     },
     "execution_count": 77,
     "metadata": {},
     "output_type": "execute_result"
    }
   ],
   "source": [
    "model.metrics_names, scores*100"
   ]
  },
  {
   "cell_type": "code",
   "execution_count": 78,
   "id": "195c8f34-54c2-41ac-adc8-43bb132ea71d",
   "metadata": {},
   "outputs": [],
   "source": [
    "scores = model.evaluate(jpy_X_train, jpy_y_train, verbose=0)"
   ]
  },
  {
   "cell_type": "code",
   "execution_count": 80,
   "id": "43ac71d6-c301-4ba4-9b89-2f36feae40d4",
   "metadata": {},
   "outputs": [
    {
     "data": {
      "text/plain": [
       "0.21895256322594664"
      ]
     },
     "execution_count": 80,
     "metadata": {},
     "output_type": "execute_result"
    }
   ],
   "source": [
    "scores*100"
   ]
  }
 ],
 "metadata": {
  "kernelspec": {
   "display_name": "Django Shell-Plus",
   "language": "python",
   "name": "django_extensions"
  },
  "language_info": {
   "codemirror_mode": {
    "name": "ipython",
    "version": 3
   },
   "file_extension": ".py",
   "mimetype": "text/x-python",
   "name": "python",
   "nbconvert_exporter": "python",
   "pygments_lexer": "ipython3",
   "version": "3.6.12"
  }
 },
 "nbformat": 4,
 "nbformat_minor": 5
}
