{
 "cells": [
  {
   "cell_type": "markdown",
   "id": "60e61fdb-258c-4f55-9647-f84d4d2c6f49",
   "metadata": {},
   "source": [
    "Modeling LSTM Architechture\n",
    "\n",
    "# Import libraries"
   ]
  },
  {
   "cell_type": "code",
   "execution_count": 11,
   "id": "f45943a0-8c21-4ea9-ae4b-c50caafe9a09",
   "metadata": {
    "tags": []
   },
   "outputs": [
    {
     "name": "stdout",
     "output_type": "stream",
     "text": [
      "import several libraries that are used as modeling deep lstm, including hard, pandas, numpy, and sklearn processing. \n",
      "** if this text appears, it means the library has been successfully installed\n"
     ]
    }
   ],
   "source": [
    "import math\n",
    "import matplotlib.pyplot as plt\n",
    "import keras\n",
    "import pandas as pd\n",
    "import numpy as np\n",
    "from keras.models import Sequential\n",
    "from keras.layers import Dense\n",
    "from keras.layers import LSTM\n",
    "from keras.layers import Dropout\n",
    "from keras.layers import *\n",
    "\n",
    "from sklearn.preprocessing import MinMaxScaler\n",
    "from sklearn.metrics import mean_squared_error as mse\n",
    "from sklearn.metrics import mean_absolute_error as mae\n",
    "from sklearn.model_selection import train_test_split\n",
    "from keras.callbacks import EarlyStopping\n",
    "\n",
    "from bunch import bunchify\n",
    "\n",
    "print(\"import several libraries that are used as modeling deep lstm, including hard, pandas, numpy, and sklearn processing. \\n** if this text appears, it means the library has been successfully installed\")"
   ]
  },
  {
   "cell_type": "markdown",
   "id": "e73d3615-52b2-43b8-8692-846b23ddfbfb",
   "metadata": {},
   "source": [
    "# Read Datasets\n",
    "> **Notes**\n",
    ">\n",
    "> read the dataset of USD and JPY exchange rates against the rupiah, from 01-01-2014 to 01-01-2021\n",
    "\n",
    "## USD-IDR\n"
   ]
  },
  {
   "cell_type": "code",
   "execution_count": 12,
   "id": "f08ac99f-ab06-479f-800c-27303e7a9455",
   "metadata": {
    "tags": []
   },
   "outputs": [
    {
     "name": "stdout",
     "output_type": "stream",
     "text": [
      "Number of row and columns: (1809, 4)\n"
     ]
    },
    {
     "data": {
      "text/html": [
       "<div>\n",
       "<style scoped>\n",
       "    .dataframe tbody tr th:only-of-type {\n",
       "        vertical-align: middle;\n",
       "    }\n",
       "\n",
       "    .dataframe tbody tr th {\n",
       "        vertical-align: top;\n",
       "    }\n",
       "\n",
       "    .dataframe thead th {\n",
       "        text-align: right;\n",
       "    }\n",
       "</style>\n",
       "<table border=\"1\" class=\"dataframe\">\n",
       "  <thead>\n",
       "    <tr style=\"text-align: right;\">\n",
       "      <th></th>\n",
       "      <th>Price</th>\n",
       "      <th>Open</th>\n",
       "      <th>High</th>\n",
       "      <th>Low</th>\n",
       "    </tr>\n",
       "    <tr>\n",
       "      <th>Date</th>\n",
       "      <th></th>\n",
       "      <th></th>\n",
       "      <th></th>\n",
       "      <th></th>\n",
       "    </tr>\n",
       "  </thead>\n",
       "  <tbody>\n",
       "    <tr>\n",
       "      <th>2014-01-01</th>\n",
       "      <td>12170.0</td>\n",
       "      <td>12170.0</td>\n",
       "      <td>12170.0</td>\n",
       "      <td>12170.0</td>\n",
       "    </tr>\n",
       "    <tr>\n",
       "      <th>2014-01-02</th>\n",
       "      <td>12160.0</td>\n",
       "      <td>12195.0</td>\n",
       "      <td>12260.0</td>\n",
       "      <td>12150.0</td>\n",
       "    </tr>\n",
       "    <tr>\n",
       "      <th>2014-01-03</th>\n",
       "      <td>12170.0</td>\n",
       "      <td>12160.0</td>\n",
       "      <td>12245.0</td>\n",
       "      <td>12160.0</td>\n",
       "    </tr>\n",
       "    <tr>\n",
       "      <th>2014-01-06</th>\n",
       "      <td>12180.0</td>\n",
       "      <td>12195.0</td>\n",
       "      <td>12245.0</td>\n",
       "      <td>12180.0</td>\n",
       "    </tr>\n",
       "    <tr>\n",
       "      <th>2014-01-07</th>\n",
       "      <td>12237.5</td>\n",
       "      <td>12197.5</td>\n",
       "      <td>12277.5</td>\n",
       "      <td>12197.5</td>\n",
       "    </tr>\n",
       "  </tbody>\n",
       "</table>\n",
       "</div>"
      ],
      "text/plain": [
       "              Price     Open     High      Low\n",
       "Date                                          \n",
       "2014-01-01  12170.0  12170.0  12170.0  12170.0\n",
       "2014-01-02  12160.0  12195.0  12260.0  12150.0\n",
       "2014-01-03  12170.0  12160.0  12245.0  12160.0\n",
       "2014-01-06  12180.0  12195.0  12245.0  12180.0\n",
       "2014-01-07  12237.5  12197.5  12277.5  12197.5"
      ]
     },
     "execution_count": 12,
     "metadata": {},
     "output_type": "execute_result"
    }
   ],
   "source": [
    "usd = pd.read_csv('datasets-usd.csv', index_col='Date')\n",
    "print(f\"Number of row and columns: {usd.shape}\")\n",
    "usd.head()"
   ]
  },
  {
   "cell_type": "code",
   "execution_count": null,
   "id": "90285057-db6e-477f-ac51-b8bc373c8310",
   "metadata": {},
   "outputs": [],
   "source": []
  },
  {
   "cell_type": "markdown",
   "id": "905bc65c-21ae-4377-bbc3-58b722d9e073",
   "metadata": {},
   "source": [
    "## JPY-IDR"
   ]
  },
  {
   "cell_type": "code",
   "execution_count": 13,
   "id": "677bb15f-ff8d-43b2-bfba-3fa252af1d66",
   "metadata": {},
   "outputs": [
    {
     "name": "stdout",
     "output_type": "stream",
     "text": [
      "Number of row and column: (1828, 4)\n"
     ]
    },
    {
     "data": {
      "text/html": [
       "<div>\n",
       "<style scoped>\n",
       "    .dataframe tbody tr th:only-of-type {\n",
       "        vertical-align: middle;\n",
       "    }\n",
       "\n",
       "    .dataframe tbody tr th {\n",
       "        vertical-align: top;\n",
       "    }\n",
       "\n",
       "    .dataframe thead th {\n",
       "        text-align: right;\n",
       "    }\n",
       "</style>\n",
       "<table border=\"1\" class=\"dataframe\">\n",
       "  <thead>\n",
       "    <tr style=\"text-align: right;\">\n",
       "      <th></th>\n",
       "      <th>Price</th>\n",
       "      <th>Open</th>\n",
       "      <th>High</th>\n",
       "      <th>Low</th>\n",
       "    </tr>\n",
       "    <tr>\n",
       "      <th>Date</th>\n",
       "      <th></th>\n",
       "      <th></th>\n",
       "      <th></th>\n",
       "      <th></th>\n",
       "    </tr>\n",
       "  </thead>\n",
       "  <tbody>\n",
       "    <tr>\n",
       "      <th>2014-01-01</th>\n",
       "      <td>115.64</td>\n",
       "      <td>115.48</td>\n",
       "      <td>115.71</td>\n",
       "      <td>115.33</td>\n",
       "    </tr>\n",
       "    <tr>\n",
       "      <th>2014-01-02</th>\n",
       "      <td>116.07</td>\n",
       "      <td>115.52</td>\n",
       "      <td>116.45</td>\n",
       "      <td>115.19</td>\n",
       "    </tr>\n",
       "    <tr>\n",
       "      <th>2014-01-03</th>\n",
       "      <td>116.07</td>\n",
       "      <td>115.90</td>\n",
       "      <td>117.58</td>\n",
       "      <td>115.84</td>\n",
       "    </tr>\n",
       "    <tr>\n",
       "      <th>2014-01-06</th>\n",
       "      <td>116.87</td>\n",
       "      <td>115.91</td>\n",
       "      <td>117.48</td>\n",
       "      <td>115.84</td>\n",
       "    </tr>\n",
       "    <tr>\n",
       "      <th>2014-01-07</th>\n",
       "      <td>116.97</td>\n",
       "      <td>116.75</td>\n",
       "      <td>117.64</td>\n",
       "      <td>116.43</td>\n",
       "    </tr>\n",
       "  </tbody>\n",
       "</table>\n",
       "</div>"
      ],
      "text/plain": [
       "             Price    Open    High     Low\n",
       "Date                                      \n",
       "2014-01-01  115.64  115.48  115.71  115.33\n",
       "2014-01-02  116.07  115.52  116.45  115.19\n",
       "2014-01-03  116.07  115.90  117.58  115.84\n",
       "2014-01-06  116.87  115.91  117.48  115.84\n",
       "2014-01-07  116.97  116.75  117.64  116.43"
      ]
     },
     "execution_count": 13,
     "metadata": {},
     "output_type": "execute_result"
    }
   ],
   "source": [
    "jpy = pd.read_csv('dataset-jpy.csv', index_col='Date')\n",
    "print(f\"Number of row and column: {jpy.shape}\")\n",
    "jpy.head()"
   ]
  },
  {
   "cell_type": "markdown",
   "id": "26e4ce7e-87b5-4d57-9620-912039d5e1c0",
   "metadata": {},
   "source": [
    "# Data Single Fitur Configuration\n",
    "\n",
    "Pada tahap ini data yang diproses hanya fitur data ***Price*** saja. fitur  ***Open***, ***High***, dan ***Low*** diabaikan.\n",
    "\n",
    "> **Notes**\n",
    ">\n",
    "> perform the process of sharing training and test data, then the data will be normalized in standard form. "
   ]
  },
  {
   "cell_type": "markdown",
   "id": "146933f6-2c4d-4453-8c42-438d931a5459",
   "metadata": {},
   "source": [
    "## Data spliting (training & testing)\n",
    "\n",
    "> **Notes**\n",
    "> Pembagian data training dan testing menggunakan rasio 80% awal untuk training dan 20% terakhir sebagai testing"
   ]
  },
  {
   "cell_type": "code",
   "execution_count": 14,
   "id": "164a8694-a031-4d8d-960b-fd6b8f8d2691",
   "metadata": {},
   "outputs": [],
   "source": [
    "# split function\n",
    "\n",
    "def split(data, n_train=0.8, n_test=0.2):\n",
    "    train_set = data.Price.iloc[:round(n_train*len(data))].values\n",
    "    test_set = data.Price.iloc[round( n_train*len(data) ):].values\n",
    "    return train_set, test_set"
   ]
  },
  {
   "cell_type": "code",
   "execution_count": 15,
   "id": "d2f54477-ecc9-4737-932f-8ad96ba49c48",
   "metadata": {},
   "outputs": [],
   "source": [
    "datasets={\n",
    "    \"usd\": {},\n",
    "    \"jpy\": {}\n",
    "}\n",
    "datasets[\"usd\"][\"train_set\"], datasets[\"usd\"][\"test_set\"] = split(usd)\n",
    "datasets[\"jpy\"][\"train_set\"], datasets[\"jpy\"][\"test_set\"] = split(jpy)"
   ]
  },
  {
   "cell_type": "markdown",
   "id": "c8a8a3fe-1453-4b50-9e6e-3f3ee38dd44c",
   "metadata": {},
   "source": [
    "## Scaling data with MinMaxFunction [-1, 1]\n",
    "\n",
    "\\begin{equation}\n",
    "X\\_std = \\frac{({X} - {X.min(axis=0)})} {(X.max(axis=0) - X.min(axis=0))}\\\\\n",
    "\\\\\n",
    "X\\_scaled = X\\_std * (max - min) + min\\\\\n",
    "\\end{equation}\n"
   ]
  },
  {
   "cell_type": "code",
   "execution_count": 16,
   "id": "58bbf91d-4129-4871-9133-2fe7a7b3235d",
   "metadata": {},
   "outputs": [],
   "source": [
    "# scaling data with MinMaxFunction\n",
    "scaler = MinMaxScaler(feature_range=(-1,1))\n",
    "\n",
    "# transform dataset to (len(data), 1)\n",
    "datasets[\"usd\"][\"train_set\"] = datasets[\"usd\"][\"train_set\"].reshape(\n",
    "    len(datasets[\"usd\"][\"train_set\"]), 1\n",
    ")\n",
    "datasets[\"jpy\"][\"train_set\"] = datasets[\"jpy\"][\"train_set\"].reshape(\n",
    "    len(datasets[\"jpy\"][\"train_set\"]), 1\n",
    ")\n",
    "\n",
    "datasets[\"usd\"][\"test_set\"] = datasets[\"usd\"][\"test_set\"].reshape(\n",
    "    len(datasets[\"usd\"][\"test_set\"]), 1\n",
    ")\n",
    "datasets[\"jpy\"][\"test_set\"] = datasets[\"jpy\"][\"test_set\"].reshape(\n",
    "    len(datasets[\"jpy\"][\"test_set\"]), 1\n",
    ")"
   ]
  },
  {
   "cell_type": "code",
   "execution_count": 17,
   "id": "dd3528ad-46ae-4a28-be48-dbc23a3cddef",
   "metadata": {},
   "outputs": [
    {
     "data": {
      "text/plain": [
       "(1447, 1)"
      ]
     },
     "execution_count": 17,
     "metadata": {},
     "output_type": "execute_result"
    }
   ],
   "source": [
    "datasets[\"usd\"][\"train_set\"].shape"
   ]
  },
  {
   "cell_type": "code",
   "execution_count": 18,
   "id": "7545d993-b00b-43cd-a0a1-80a1a46eefa4",
   "metadata": {},
   "outputs": [],
   "source": [
    "# scaling traning datasets\n",
    "datasets[\"usd\"][\"train_set_scaled\"] = scaler.fit_transform(datasets[\"usd\"][\"train_set\"])\n",
    "datasets[\"jpy\"][\"train_set_scaled\"] = scaler.fit_transform(datasets[\"jpy\"][\"train_set\"])\n",
    "\n",
    "# scaling testing datasets\n",
    "datasets[\"usd\"][\"test_set_scaled\"] = scaler.fit_transform(datasets[\"usd\"][\"test_set\"])\n",
    "datasets[\"jpy\"][\"test_set_scaled\"] = scaler.fit_transform(datasets[\"jpy\"][\"test_set\"])"
   ]
  },
  {
   "cell_type": "code",
   "execution_count": null,
   "id": "fa8b34a8-59b2-4548-9a9d-544d360e4011",
   "metadata": {},
   "outputs": [],
   "source": []
  },
  {
   "cell_type": "code",
   "execution_count": 68,
   "id": "528f3410-8bb7-40bb-8bd4-5b68689a70a3",
   "metadata": {},
   "outputs": [],
   "source": [
    "# convert nested dictionaty to objects\n",
    "\n",
    "class obj(object):\n",
    "    def __init__(self, d):\n",
    "        for a, b in d.items():\n",
    "            if isinstance(b, (list, tuple)):\n",
    "               setattr(self, a, [obj(x) if isinstance(x, dict) else x for x in b])\n",
    "            else:\n",
    "               setattr(self, a, obj(b) if isinstance(b, dict) else b)"
   ]
  },
  {
   "cell_type": "code",
   "execution_count": 69,
   "id": "0a6ce743-7267-4b1d-aac6-fab76c5014e6",
   "metadata": {},
   "outputs": [],
   "source": [
    "data = obj(datasets)"
   ]
  },
  {
   "cell_type": "code",
   "execution_count": 74,
   "id": "7d2b9785-8475-42d8-a24b-08799a259fc2",
   "metadata": {},
   "outputs": [
    {
     "data": {
      "text/plain": [
       "(1462, 1)"
      ]
     },
     "execution_count": 74,
     "metadata": {},
     "output_type": "execute_result"
    }
   ],
   "source": [
    "data.jpy.train_set.shape"
   ]
  }
 ],
 "metadata": {
  "kernelspec": {
   "display_name": "Django Shell-Plus",
   "language": "python",
   "name": "django_extensions"
  },
  "language_info": {
   "codemirror_mode": {
    "name": "ipython",
    "version": 3
   },
   "file_extension": ".py",
   "mimetype": "text/x-python",
   "name": "python",
   "nbconvert_exporter": "python",
   "pygments_lexer": "ipython3",
   "version": "3.6.12"
  },
  "toc-autonumbering": true,
  "toc-showcode": false,
  "toc-showmarkdowntxt": false,
  "toc-showtags": false
 },
 "nbformat": 4,
 "nbformat_minor": 5
}
