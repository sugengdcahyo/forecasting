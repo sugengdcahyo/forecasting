{
 "cells": [
  {
   "cell_type": "code",
   "execution_count": 1,
   "id": "16693dd2-f0fa-4ba4-8bc7-5f70482a3012",
   "metadata": {
    "tags": []
   },
   "outputs": [
    {
     "name": "stderr",
     "output_type": "stream",
     "text": [
      "Using TensorFlow backend.\n"
     ]
    },
    {
     "name": "stdout",
     "output_type": "stream",
     "text": [
      "import several libraries that are used as modeling deep lstm, including hard, pandas, numpy, and sklearn processing. \n",
      "** if this text appears, it means the library has been successfully installed\n"
     ]
    }
   ],
   "source": [
    "import math\n",
    "import matplotlib.pyplot as plt\n",
    "import keras\n",
    "import pandas as pd\n",
    "import numpy as np\n",
    "import os\n",
    "from keras.models import Sequential\n",
    "from keras.layers import Dense\n",
    "from keras.layers import LSTM\n",
    "from keras.layers import Dropout\n",
    "from keras.layers import *\n",
    "from keras.optimizers import Adam, SGD\n",
    "from sklearn.preprocessing import MinMaxScaler\n",
    "from sklearn.metrics import mean_squared_error as mse\n",
    "from sklearn.metrics import mean_absolute_error as mae\n",
    "from sklearn.model_selection import train_test_split\n",
    "from keras.callbacks import EarlyStopping\n",
    "import tabulate\n",
    "\n",
    "from bunch import bunchify\n",
    "\n",
    "# apps\n",
    "from helpers.model_adam import Model\n",
    "from helpers.evaluations import Evaluation\n",
    "print(\"import several libraries that are used as modeling deep lstm, including hard, pandas, numpy, and sklearn processing. \\n** if this text appears, it means the library has been successfully installed\")"
   ]
  },
  {
   "cell_type": "markdown",
   "id": "0ad69015-13d7-42ae-b05f-c0ed7e4c4976",
   "metadata": {},
   "source": [
    "# Read Datasets\n",
    "> **Notes**\n",
    ">\n",
    "> read the dataset of USD and JPY exchange rates against the rupiah, from 01-01-2014 to 01-01-2021\n",
    "\n",
    "## USD-IDR\n"
   ]
  },
  {
   "cell_type": "code",
   "execution_count": 2,
   "id": "0f6b3807-65de-4e19-8392-7ee8d5c9ca9a",
   "metadata": {
    "tags": []
   },
   "outputs": [
    {
     "name": "stdout",
     "output_type": "stream",
     "text": [
      "Number of row and columns: (1809, 4)\n"
     ]
    },
    {
     "data": {
      "text/html": [
       "<div>\n",
       "<style scoped>\n",
       "    .dataframe tbody tr th:only-of-type {\n",
       "        vertical-align: middle;\n",
       "    }\n",
       "\n",
       "    .dataframe tbody tr th {\n",
       "        vertical-align: top;\n",
       "    }\n",
       "\n",
       "    .dataframe thead th {\n",
       "        text-align: right;\n",
       "    }\n",
       "</style>\n",
       "<table border=\"1\" class=\"dataframe\">\n",
       "  <thead>\n",
       "    <tr style=\"text-align: right;\">\n",
       "      <th></th>\n",
       "      <th>Price</th>\n",
       "      <th>Open</th>\n",
       "      <th>High</th>\n",
       "      <th>Low</th>\n",
       "    </tr>\n",
       "    <tr>\n",
       "      <th>Date</th>\n",
       "      <th></th>\n",
       "      <th></th>\n",
       "      <th></th>\n",
       "      <th></th>\n",
       "    </tr>\n",
       "  </thead>\n",
       "  <tbody>\n",
       "    <tr>\n",
       "      <th>2014-01-01</th>\n",
       "      <td>12170.0</td>\n",
       "      <td>12170.0</td>\n",
       "      <td>12170.0</td>\n",
       "      <td>12170.0</td>\n",
       "    </tr>\n",
       "    <tr>\n",
       "      <th>2014-01-02</th>\n",
       "      <td>12160.0</td>\n",
       "      <td>12195.0</td>\n",
       "      <td>12260.0</td>\n",
       "      <td>12150.0</td>\n",
       "    </tr>\n",
       "    <tr>\n",
       "      <th>2014-01-03</th>\n",
       "      <td>12170.0</td>\n",
       "      <td>12160.0</td>\n",
       "      <td>12245.0</td>\n",
       "      <td>12160.0</td>\n",
       "    </tr>\n",
       "    <tr>\n",
       "      <th>2014-01-06</th>\n",
       "      <td>12180.0</td>\n",
       "      <td>12195.0</td>\n",
       "      <td>12245.0</td>\n",
       "      <td>12180.0</td>\n",
       "    </tr>\n",
       "    <tr>\n",
       "      <th>2014-01-07</th>\n",
       "      <td>12237.5</td>\n",
       "      <td>12197.5</td>\n",
       "      <td>12277.5</td>\n",
       "      <td>12197.5</td>\n",
       "    </tr>\n",
       "  </tbody>\n",
       "</table>\n",
       "</div>"
      ],
      "text/plain": [
       "              Price     Open     High      Low\n",
       "Date                                          \n",
       "2014-01-01  12170.0  12170.0  12170.0  12170.0\n",
       "2014-01-02  12160.0  12195.0  12260.0  12150.0\n",
       "2014-01-03  12170.0  12160.0  12245.0  12160.0\n",
       "2014-01-06  12180.0  12195.0  12245.0  12180.0\n",
       "2014-01-07  12237.5  12197.5  12277.5  12197.5"
      ]
     },
     "execution_count": 2,
     "metadata": {},
     "output_type": "execute_result"
    }
   ],
   "source": [
    "usd = pd.read_csv('datasets-usd.csv', index_col='Date')\n",
    "print(f\"Number of row and columns: {usd.shape}\")\n",
    "usd.head()"
   ]
  },
  {
   "cell_type": "markdown",
   "id": "43df6675-080c-4b3f-89d0-b1f1b05e91fb",
   "metadata": {},
   "source": [
    "## JPY-IDR"
   ]
  },
  {
   "cell_type": "code",
   "execution_count": 3,
   "id": "f052c70f-afe3-443e-9dbc-85a6eaeae15d",
   "metadata": {},
   "outputs": [
    {
     "name": "stdout",
     "output_type": "stream",
     "text": [
      "Number of row and column: (1828, 4)\n"
     ]
    },
    {
     "data": {
      "text/html": [
       "<div>\n",
       "<style scoped>\n",
       "    .dataframe tbody tr th:only-of-type {\n",
       "        vertical-align: middle;\n",
       "    }\n",
       "\n",
       "    .dataframe tbody tr th {\n",
       "        vertical-align: top;\n",
       "    }\n",
       "\n",
       "    .dataframe thead th {\n",
       "        text-align: right;\n",
       "    }\n",
       "</style>\n",
       "<table border=\"1\" class=\"dataframe\">\n",
       "  <thead>\n",
       "    <tr style=\"text-align: right;\">\n",
       "      <th></th>\n",
       "      <th>Price</th>\n",
       "      <th>Open</th>\n",
       "      <th>High</th>\n",
       "      <th>Low</th>\n",
       "    </tr>\n",
       "    <tr>\n",
       "      <th>Date</th>\n",
       "      <th></th>\n",
       "      <th></th>\n",
       "      <th></th>\n",
       "      <th></th>\n",
       "    </tr>\n",
       "  </thead>\n",
       "  <tbody>\n",
       "    <tr>\n",
       "      <th>2014-01-01</th>\n",
       "      <td>115.64</td>\n",
       "      <td>115.48</td>\n",
       "      <td>115.71</td>\n",
       "      <td>115.33</td>\n",
       "    </tr>\n",
       "    <tr>\n",
       "      <th>2014-01-02</th>\n",
       "      <td>116.07</td>\n",
       "      <td>115.52</td>\n",
       "      <td>116.45</td>\n",
       "      <td>115.19</td>\n",
       "    </tr>\n",
       "    <tr>\n",
       "      <th>2014-01-03</th>\n",
       "      <td>116.07</td>\n",
       "      <td>115.90</td>\n",
       "      <td>117.58</td>\n",
       "      <td>115.84</td>\n",
       "    </tr>\n",
       "    <tr>\n",
       "      <th>2014-01-06</th>\n",
       "      <td>116.87</td>\n",
       "      <td>115.91</td>\n",
       "      <td>117.48</td>\n",
       "      <td>115.84</td>\n",
       "    </tr>\n",
       "    <tr>\n",
       "      <th>2014-01-07</th>\n",
       "      <td>116.97</td>\n",
       "      <td>116.75</td>\n",
       "      <td>117.64</td>\n",
       "      <td>116.43</td>\n",
       "    </tr>\n",
       "  </tbody>\n",
       "</table>\n",
       "</div>"
      ],
      "text/plain": [
       "             Price    Open    High     Low\n",
       "Date                                      \n",
       "2014-01-01  115.64  115.48  115.71  115.33\n",
       "2014-01-02  116.07  115.52  116.45  115.19\n",
       "2014-01-03  116.07  115.90  117.58  115.84\n",
       "2014-01-06  116.87  115.91  117.48  115.84\n",
       "2014-01-07  116.97  116.75  117.64  116.43"
      ]
     },
     "execution_count": 3,
     "metadata": {},
     "output_type": "execute_result"
    }
   ],
   "source": [
    "jpy = pd.read_csv('dataset-jpy.csv', index_col='Date')\n",
    "print(f\"Number of row and column: {jpy.shape}\")\n",
    "jpy.head()"
   ]
  },
  {
   "cell_type": "markdown",
   "id": "5d1f8251-3459-4c0c-b10f-2c0929392d87",
   "metadata": {},
   "source": [
    "# Data Single Fitur Configuration\n",
    "\n",
    "Pada tahap ini data yang diproses hanya fitur data ***Price*** saja. fitur  ***Open***, ***High***, dan ***Low*** diabaikan.\n",
    "\n",
    "> **Notes**\n",
    ">\n",
    "> perform the process of sharing training and test data, then the data will be normalized in standard form. "
   ]
  },
  {
   "cell_type": "markdown",
   "id": "5debe39c-0545-4aea-9382-4032744c4264",
   "metadata": {},
   "source": [
    "## Data spliting (training & testing)\n",
    "\n",
    "> **Notes**\n",
    "> Pembagian data training dan testing menggunakan rasio 80% awal untuk training dan 20% terakhir sebagai testing"
   ]
  },
  {
   "cell_type": "code",
   "execution_count": 4,
   "id": "3b72a1e0-282c-4a91-97bc-4c89f2a2dcb2",
   "metadata": {},
   "outputs": [],
   "source": [
    "# split function\n",
    "\n",
    "def split(data, n_train=0.8, n_test=0.2):\n",
    "    train_set = data.Price.iloc[:round(n_train*len(data))].values\n",
    "    test_set = data.Price.iloc[round( n_train*len(data) ):].values\n",
    "    return train_set, test_set"
   ]
  },
  {
   "cell_type": "code",
   "execution_count": 5,
   "id": "63a97dea-0cde-4edb-9002-6b1224f12c06",
   "metadata": {},
   "outputs": [],
   "source": [
    "datasets={\n",
    "    \"usd\": {},\n",
    "    \"jpy\": {}\n",
    "}\n",
    "datasets[\"usd\"][\"train_set\"], datasets[\"usd\"][\"test_set\"] = split(usd)\n",
    "datasets[\"jpy\"][\"train_set\"], datasets[\"jpy\"][\"test_set\"] = split(jpy)"
   ]
  },
  {
   "cell_type": "markdown",
   "id": "a057af49-eff6-4729-8f2b-90aeefed88fa",
   "metadata": {},
   "source": [
    "## Scaling data with MinMaxFunction [-1, 1]\n",
    "\n",
    "\\begin{equation}\n",
    "X\\_std = \\frac{({X} - {X.min(axis=0)})} {(X.max(axis=0) - X.min(axis=0))}\\\\\n",
    "\\\\\n",
    "X\\_scaled = X\\_std * (max - min) + min\\\\\n",
    "\\end{equation}\n"
   ]
  },
  {
   "cell_type": "code",
   "execution_count": 6,
   "id": "502d2806-6f96-4778-8a97-30dee2f038ac",
   "metadata": {},
   "outputs": [
    {
     "data": {
      "text/plain": [
       "(1447, 1)"
      ]
     },
     "execution_count": 6,
     "metadata": {},
     "output_type": "execute_result"
    }
   ],
   "source": [
    "# scaling data with MinMaxFunction\n",
    "scaler_usd = MinMaxScaler(feature_range=(-1,1))\n",
    "scaler_jpy = MinMaxScaler(feature_range=(-1,1))\n",
    "# transform dataset to (len(data), 1)\n",
    "datasets[\"usd\"][\"train_set\"] = datasets[\"usd\"][\"train_set\"].reshape(\n",
    "    len(datasets[\"usd\"][\"train_set\"]), 1\n",
    ")\n",
    "datasets[\"jpy\"][\"train_set\"] = datasets[\"jpy\"][\"train_set\"].reshape(\n",
    "    len(datasets[\"jpy\"][\"train_set\"]), 1\n",
    ")\n",
    "\n",
    "datasets[\"usd\"][\"test_set\"] = datasets[\"usd\"][\"test_set\"].reshape(\n",
    "    len(datasets[\"usd\"][\"test_set\"]), 1\n",
    ")\n",
    "datasets[\"jpy\"][\"test_set\"] = datasets[\"jpy\"][\"test_set\"].reshape(\n",
    "    len(datasets[\"jpy\"][\"test_set\"]), 1\n",
    ")\n",
    "\n",
    "datasets[\"usd\"][\"train_set\"].shape"
   ]
  },
  {
   "cell_type": "code",
   "execution_count": 7,
   "id": "9e605da8-f719-4bf6-b90f-46cd9132a84b",
   "metadata": {},
   "outputs": [],
   "source": [
    "# scaling traning datasets\n",
    "datasets[\"usd\"][\"train_set_scaled\"] = scaler_usd.fit_transform(datasets[\"usd\"][\"train_set\"])\n",
    "datasets[\"jpy\"][\"train_set_scaled\"] = scaler_jpy.fit_transform(datasets[\"jpy\"][\"train_set\"])\n",
    "\n",
    "# scaling testing datasets\n",
    "datasets[\"usd\"][\"test_set_scaled\"] = scaler_usd.fit_transform(datasets[\"usd\"][\"test_set\"])\n",
    "datasets[\"jpy\"][\"test_set_scaled\"] = scaler_jpy.fit_transform(datasets[\"jpy\"][\"test_set\"])"
   ]
  },
  {
   "cell_type": "markdown",
   "id": "d1477218-710e-4d75-925c-8a589b430978",
   "metadata": {},
   "source": [
    "### Method of convert dictionary to object sets"
   ]
  },
  {
   "cell_type": "code",
   "execution_count": 8,
   "id": "563532da-c134-421b-a526-8e547714d5ea",
   "metadata": {},
   "outputs": [],
   "source": [
    "# convert nested dictionaty to objects\n",
    "\n",
    "class obj(object):\n",
    "    def __init__(self, d):\n",
    "        for a, b in d.items():\n",
    "            if isinstance(b, (list, tuple)):\n",
    "               setattr(self, a, [obj(x) if isinstance(x, dict) else x for x in b])\n",
    "            else:\n",
    "               setattr(self, a, obj(b) if isinstance(b, dict) else b)"
   ]
  },
  {
   "cell_type": "code",
   "execution_count": 9,
   "id": "b51c7944-6659-41ee-9880-26bee1b2523a",
   "metadata": {},
   "outputs": [],
   "source": [
    "data = obj(datasets)"
   ]
  },
  {
   "cell_type": "code",
   "execution_count": 10,
   "id": "4fa05d48-0276-4dcf-b03a-dc4dbeb91bc9",
   "metadata": {},
   "outputs": [
    {
     "data": {
      "text/plain": [
       "array([[115.64],\n",
       "       [116.07],\n",
       "       [116.07],\n",
       "       ...,\n",
       "       [133.97],\n",
       "       [133.83],\n",
       "       [133.94]])"
      ]
     },
     "execution_count": 10,
     "metadata": {},
     "output_type": "execute_result"
    }
   ],
   "source": [
    "data.jpy.train_set"
   ]
  },
  {
   "cell_type": "markdown",
   "id": "930e60cf-fdaa-4b10-a0bb-48056b43a07f",
   "metadata": {},
   "source": [
    "### Method of sliding window generator"
   ]
  },
  {
   "cell_type": "code",
   "execution_count": 11,
   "id": "04160e57-f5f3-4097-9b93-29ba0f2bd146",
   "metadata": {},
   "outputs": [],
   "source": [
    "def sliding_window(data, window, step_size=1):\n",
    "        X_train = []\n",
    "        y_train = []\n",
    "        for i in range(window, data.shape[0]):\n",
    "            X_train.append(data[i-window:i])\n",
    "            y_train.append(data[i])\n",
    "        X_train, y_train = np.array(X_train), np.array(y_train)\n",
    "        return X_train, y_train\n",
    "    "
   ]
  },
  {
   "cell_type": "code",
   "execution_count": 12,
   "id": "9e94931c-71d2-4c6a-99a1-30d15c094a65",
   "metadata": {},
   "outputs": [],
   "source": [
    "data.usd.windows = {}\n",
    "data.jpy.windows = {}"
   ]
  },
  {
   "cell_type": "code",
   "execution_count": 13,
   "id": "4b874fcb-c402-41b9-99fb-5b863d47a502",
   "metadata": {},
   "outputs": [],
   "source": [
    "inputs = [7,8,9,10]\n",
    "\n",
    "for window in inputs:\n",
    "    # usd training sliding window\n",
    "    data.usd.windows[f'X_train{window}'], data.usd.windows[f'y_train{window}'] = sliding_window(\n",
    "        data=data.usd.train_set_scaled,\n",
    "        window=window\n",
    "    )\n",
    "    # usd testing sliding window\n",
    "    data.usd.windows[f'X_test{window}'], data.usd.windows[f'y_test{window}'] = sliding_window(\n",
    "        data=data.usd.test_set_scaled,\n",
    "        window=window\n",
    "    )\n",
    "    # jpy training sliding window\n",
    "    data.jpy.windows[f'X_train{window}'], data.jpy.windows[f'y_train{window}'] = sliding_window(\n",
    "        data=data.jpy.train_set_scaled,\n",
    "        window=window\n",
    "    )\n",
    "    # jpy testing sliding window\n",
    "    data.jpy.windows[f'X_test{window}'], data.jpy.windows[f'y_test{window}'] = sliding_window(\n",
    "        data=data.jpy.test_set_scaled,\n",
    "        window=window\n",
    "    )"
   ]
  },
  {
   "cell_type": "code",
   "execution_count": 14,
   "id": "dde2e5b1-5d98-4557-a69e-96404047285e",
   "metadata": {},
   "outputs": [],
   "source": [
    "data.usd.windows=obj(data.usd.windows)\n",
    "data.jpy.windows=obj(data.jpy.windows)"
   ]
  },
  {
   "cell_type": "markdown",
   "id": "14ac9d39-3cf5-4341-b5f0-f09811973ae9",
   "metadata": {},
   "source": [
    "# USDIDR Model Evaluation\n",
    "---"
   ]
  },
  {
   "cell_type": "code",
   "execution_count": 15,
   "id": "c39a98c6-dd86-4e03-a060-d9f6e5bbeae5",
   "metadata": {},
   "outputs": [],
   "source": [
    "neurons = [1,2,3,4]\n",
    "inputs = [7,8,9,10]\n",
    "n_layer = 3"
   ]
  },
  {
   "cell_type": "markdown",
   "id": "2584107e-2a26-4a2c-88ae-5642bb41bb77",
   "metadata": {},
   "source": [
    "## Single Layer\n",
    "### Load model "
   ]
  },
  {
   "cell_type": "code",
   "execution_count": 16,
   "id": "75c4966c-f863-4ab7-9395-13e20ad49d04",
   "metadata": {},
   "outputs": [
    {
     "data": {
      "text/plain": [
       "(355, 7, 1)"
      ]
     },
     "execution_count": 16,
     "metadata": {},
     "output_type": "execute_result"
    }
   ],
   "source": [
    "data.usd.windows.__dict__[\"X_test7\"].shape"
   ]
  },
  {
   "cell_type": "code",
   "execution_count": 17,
   "id": "a405e2c3-d7a1-46dc-905a-09f5b4e51c86",
   "metadata": {
    "tags": []
   },
   "outputs": [
    {
     "name": "stdout",
     "output_type": "stream",
     "text": [
      "WARNING:tensorflow:From /home/scahyo/thesis/forecasting/env/lib/python3.6/site-packages/tensorflow_core/python/ops/resource_variable_ops.py:1630: calling BaseResourceVariable.__init__ (from tensorflow.python.ops.resource_variable_ops) with constraint is deprecated and will be removed in a future version.\n",
      "Instructions for updating:\n",
      "If using Keras pass *_constraint arguments to layers.\n",
      "WARNING:tensorflow:From /home/scahyo/thesis/forecasting/env/lib/python3.6/site-packages/keras/backend/tensorflow_backend.py:422: The name tf.global_variables is deprecated. Please use tf.compat.v1.global_variables instead.\n",
      "\n",
      "Loaded model 7_1 from storage...\n",
      "Predicted model 7_1\n",
      "Loaded model 7_2 from storage...\n",
      "Predicted model 7_2\n",
      "Loaded model 7_3 from storage...\n",
      "Predicted model 7_3\n",
      "Loaded model 7_4 from storage...\n",
      "Predicted model 7_4\n",
      "Loaded model 8_1 from storage...\n",
      "Predicted model 8_1\n",
      "Loaded model 8_2 from storage...\n",
      "Predicted model 8_2\n",
      "Loaded model 8_3 from storage...\n",
      "Predicted model 8_3\n",
      "Loaded model 8_4 from storage...\n",
      "Predicted model 8_4\n",
      "Loaded model 9_1 from storage...\n",
      "Predicted model 9_1\n",
      "Loaded model 9_2 from storage...\n",
      "Predicted model 9_2\n",
      "Loaded model 9_3 from storage...\n",
      "Predicted model 9_3\n",
      "Loaded model 9_4 from storage...\n",
      "Predicted model 9_4\n",
      "Loaded model 10_1 from storage...\n",
      "Predicted model 10_1\n",
      "Loaded model 10_2 from storage...\n",
      "Predicted model 10_2\n",
      "Loaded model 10_3 from storage...\n",
      "Predicted model 10_3\n",
      "Loaded model 10_4 from storage...\n",
      "Predicted model 10_4\n"
     ]
    }
   ],
   "source": [
    "predicted = {}\n",
    "for slide in inputs:\n",
    "    for neuron in neurons:\n",
    "        model_file = f'./models/usd/model_{slide}_{neuron}.h5'\n",
    "        if os.path.exists(model_file):\n",
    "            model = keras.models.load_model(model_file)\n",
    "            print(f\"Loaded model {slide}_{neuron} from storage...\")\n",
    "            predicted[f\"{slide}_{neuron}\"] = model.predict(data.usd.windows.__dict__[f\"X_test{slide}\"])\n",
    "            print(f\"Predicted model {slide}_{neuron}\")\n",
    "#         break\n",
    "#     break"
   ]
  },
  {
   "cell_type": "markdown",
   "id": "aa4784ee-627e-4ea9-a611-90686432b8eb",
   "metadata": {},
   "source": [
    "### Plotting predicted x actual"
   ]
  },
  {
   "cell_type": "code",
   "execution_count": 72,
   "id": "7c4cc6e0-496b-4d40-89f2-cf48f87865f6",
   "metadata": {},
   "outputs": [
    {
     "data": {
      "image/png": "[encoded data removed]",
      "text/plain": [
       "<Figure size 432x288 with 1 Axes>"
      ]
     },
     "metadata": {
      "needs_background": "light"
     },
     "output_type": "display_data"
    }
   ],
   "source": [
    "plt.plot(scaler_usd.inverse_transform(predicted['9_4'][1:40]))\n",
    "plt.plot(scaler_usd.inverse_transform(data.usd.windows.y_test9[:40]))\n",
    "plt.title('Comparation real x predicted USD-IDR')\n",
    "plt.xlabel(\"time\")\n",
    "plt.ylabel(\"USD-IDR\")\n",
    "plt.legend(['predicted', 'real'], loc='upper right')\n",
    "# plt.savefig()\n",
    "plt.show()\n",
    "# testpred = scaler.inverse_transform(testpred)\n",
    "# Y_test = scaler.inverse_transform([Y_test])\n",
    "\n",
    "# predictions = testpred"
   ]
  },
  {
   "cell_type": "markdown",
   "id": "fef0aa99-fc84-4bb0-9af0-ac5ebd7d88a2",
   "metadata": {},
   "source": [
    "### Measurement"
   ]
  },
  {
   "cell_type": "code",
   "execution_count": 48,
   "id": "0328d64b-4297-4755-86c1-21a516f2ac7b",
   "metadata": {},
   "outputs": [],
   "source": [
    "evaluations = []\n",
    "for key, value in predicted.items():\n",
    "    do_eval = Evaluation(\n",
    "        x=scaler_usd.inverse_transform(\n",
    "            data.usd.windows.__dict__[f\"y_test{key.split('_')[0]}\"]\n",
    "        ),\n",
    "        y=scaler_usd.inverse_transform(\n",
    "            value\n",
    "        )\n",
    "    )\n",
    "    evaluations.append({\n",
    "            \"key\": key,\n",
    "            \"rmse\": do_eval.rmse(),\n",
    "            \"mae\": do_eval.mae(),\n",
    "            \"mda\": do_eval.mda(),\n",
    "        }\n",
    "    )"
   ]
  },
  {
   "cell_type": "code",
   "execution_count": 49,
   "id": "8a611c58-b91e-451b-8354-dda452ca671b",
   "metadata": {
    "tags": []
   },
   "outputs": [
    {
     "data": {
      "text/html": [
       "<div>\n",
       "<style scoped>\n",
       "    .dataframe tbody tr th:only-of-type {\n",
       "        vertical-align: middle;\n",
       "    }\n",
       "\n",
       "    .dataframe tbody tr th {\n",
       "        vertical-align: top;\n",
       "    }\n",
       "\n",
       "    .dataframe thead th {\n",
       "        text-align: right;\n",
       "    }\n",
       "</style>\n",
       "<table border=\"1\" class=\"dataframe\">\n",
       "  <thead>\n",
       "    <tr style=\"text-align: right;\">\n",
       "      <th></th>\n",
       "      <th>key</th>\n",
       "      <th>rmse</th>\n",
       "      <th>mae</th>\n",
       "      <th>mda</th>\n",
       "    </tr>\n",
       "  </thead>\n",
       "  <tbody>\n",
       "    <tr>\n",
       "      <th>9</th>\n",
       "      <td>9_2</td>\n",
       "      <td>105.764</td>\n",
       "      <td>57.256</td>\n",
       "      <td>0.500</td>\n",
       "    </tr>\n",
       "    <tr>\n",
       "      <th>5</th>\n",
       "      <td>8_2</td>\n",
       "      <td>108.016</td>\n",
       "      <td>59.415</td>\n",
       "      <td>0.499</td>\n",
       "    </tr>\n",
       "    <tr>\n",
       "      <th>7</th>\n",
       "      <td>8_4</td>\n",
       "      <td>116.342</td>\n",
       "      <td>63.252</td>\n",
       "      <td>0.501</td>\n",
       "    </tr>\n",
       "    <tr>\n",
       "      <th>2</th>\n",
       "      <td>7_3</td>\n",
       "      <td>116.328</td>\n",
       "      <td>63.568</td>\n",
       "      <td>0.497</td>\n",
       "    </tr>\n",
       "    <tr>\n",
       "      <th>11</th>\n",
       "      <td>9_4</td>\n",
       "      <td>113.230</td>\n",
       "      <td>64.477</td>\n",
       "      <td>0.489</td>\n",
       "    </tr>\n",
       "    <tr>\n",
       "      <th>6</th>\n",
       "      <td>8_3</td>\n",
       "      <td>112.715</td>\n",
       "      <td>65.582</td>\n",
       "      <td>0.501</td>\n",
       "    </tr>\n",
       "    <tr>\n",
       "      <th>8</th>\n",
       "      <td>9_1</td>\n",
       "      <td>130.743</td>\n",
       "      <td>71.835</td>\n",
       "      <td>0.500</td>\n",
       "    </tr>\n",
       "    <tr>\n",
       "      <th>15</th>\n",
       "      <td>10_4</td>\n",
       "      <td>132.672</td>\n",
       "      <td>74.295</td>\n",
       "      <td>0.499</td>\n",
       "    </tr>\n",
       "    <tr>\n",
       "      <th>3</th>\n",
       "      <td>7_4</td>\n",
       "      <td>131.810</td>\n",
       "      <td>74.675</td>\n",
       "      <td>0.497</td>\n",
       "    </tr>\n",
       "    <tr>\n",
       "      <th>12</th>\n",
       "      <td>10_1</td>\n",
       "      <td>131.816</td>\n",
       "      <td>74.753</td>\n",
       "      <td>0.521</td>\n",
       "    </tr>\n",
       "    <tr>\n",
       "      <th>10</th>\n",
       "      <td>9_3</td>\n",
       "      <td>133.506</td>\n",
       "      <td>74.991</td>\n",
       "      <td>0.494</td>\n",
       "    </tr>\n",
       "    <tr>\n",
       "      <th>13</th>\n",
       "      <td>10_2</td>\n",
       "      <td>137.475</td>\n",
       "      <td>75.407</td>\n",
       "      <td>0.504</td>\n",
       "    </tr>\n",
       "    <tr>\n",
       "      <th>14</th>\n",
       "      <td>10_3</td>\n",
       "      <td>151.004</td>\n",
       "      <td>82.664</td>\n",
       "      <td>0.501</td>\n",
       "    </tr>\n",
       "    <tr>\n",
       "      <th>1</th>\n",
       "      <td>7_2</td>\n",
       "      <td>153.879</td>\n",
       "      <td>86.024</td>\n",
       "      <td>0.500</td>\n",
       "    </tr>\n",
       "    <tr>\n",
       "      <th>4</th>\n",
       "      <td>8_1</td>\n",
       "      <td>149.409</td>\n",
       "      <td>101.212</td>\n",
       "      <td>0.501</td>\n",
       "    </tr>\n",
       "    <tr>\n",
       "      <th>0</th>\n",
       "      <td>7_1</td>\n",
       "      <td>172.209</td>\n",
       "      <td>108.256</td>\n",
       "      <td>0.514</td>\n",
       "    </tr>\n",
       "  </tbody>\n",
       "</table>\n",
       "</div>"
      ],
      "text/plain": [
       "     key     rmse      mae    mda\n",
       "9    9_2  105.764   57.256  0.500\n",
       "5    8_2  108.016   59.415  0.499\n",
       "7    8_4  116.342   63.252  0.501\n",
       "2    7_3  116.328   63.568  0.497\n",
       "11   9_4  113.230   64.477  0.489\n",
       "6    8_3  112.715   65.582  0.501\n",
       "8    9_1  130.743   71.835  0.500\n",
       "15  10_4  132.672   74.295  0.499\n",
       "3    7_4  131.810   74.675  0.497\n",
       "12  10_1  131.816   74.753  0.521\n",
       "10   9_3  133.506   74.991  0.494\n",
       "13  10_2  137.475   75.407  0.504\n",
       "14  10_3  151.004   82.664  0.501\n",
       "1    7_2  153.879   86.024  0.500\n",
       "4    8_1  149.409  101.212  0.501\n",
       "0    7_1  172.209  108.256  0.514"
      ]
     },
     "execution_count": 49,
     "metadata": {},
     "output_type": "execute_result"
    }
   ],
   "source": [
    "pd.DataFrame(evaluations).sort_values('mae')"
   ]
  },
  {
   "cell_type": "markdown",
   "id": "9ee3773e-f70a-4f41-8d1b-de019a345c90",
   "metadata": {},
   "source": [
    "### Results\n",
    "Model dengan arsitektur 9-2-1 memiliki error paling kecil\n",
    "- mae  : 57.256\n",
    "- rmse : 105.764\n",
    "- mda  : 50%"
   ]
  },
  {
   "cell_type": "markdown",
   "id": "44ffb016-11da-486b-aac8-301af601c18a",
   "metadata": {},
   "source": [
    "## 2 Hidden Layers\n",
    "### Load models"
   ]
  },
  {
   "cell_type": "code",
   "execution_count": 67,
   "id": "68207f56-0f77-4b1d-8775-876df1de0c9c",
   "metadata": {
    "tags": []
   },
   "outputs": [
    {
     "name": "stdout",
     "output_type": "stream",
     "text": [
      "Loaded model ./models/usd/model_9_2_1.h5...\n",
      "Predicted model ./models/usd/model_9_2_1.h5\n",
      "Loaded model ./models/usd/model_9_2_2.h5...\n",
      "Predicted model ./models/usd/model_9_2_2.h5\n",
      "Loaded model ./models/usd/model_9_2_3.h5...\n",
      "Predicted model ./models/usd/model_9_2_3.h5\n",
      "Loaded model ./models/usd/model_9_2_4.h5...\n",
      "Predicted model ./models/usd/model_9_2_4.h5\n"
     ]
    }
   ],
   "source": [
    "predicted = {}\n",
    "for neuron in neurons:\n",
    "    model_file = f'./models/usd/model_9_2_{neuron}.h5'\n",
    "    if os.path.exists(model_file):\n",
    "        model = keras.models.load_model(model_file)\n",
    "        print(f\"Loaded model {model_file}...\")\n",
    "        predicted[f\"9_2_{neuron}\"] = model.predict(\n",
    "            data.usd.windows.__dict__[f\"X_test9\"]\n",
    "        )\n",
    "        print(f\"Predicted model {model_file}\")"
   ]
  },
  {
   "cell_type": "markdown",
   "id": "664e5e5f-9a4c-421f-8cd0-111ae1abd80b",
   "metadata": {},
   "source": [
    "### Plotting predicted x actual"
   ]
  },
  {
   "cell_type": "code",
   "execution_count": 76,
   "id": "7fe18975-3bd0-4f10-9cee-9879d4aa747c",
   "metadata": {},
   "outputs": [
    {
     "data": {
      "image/png": "[encoded data removed]",
      "text/plain": [
       "<Figure size 432x288 with 1 Axes>"
      ]
     },
     "metadata": {
      "needs_background": "light"
     },
     "output_type": "display_data"
    }
   ],
   "source": [
    "plt.plot(scaler_usd.inverse_transform(predicted['9_2_1'][301:]))\n",
    "plt.plot(scaler_usd.inverse_transform(data.usd.windows.y_test9[300:]))\n",
    "plt.title('Comparation real x predicted USD-IDR')\n",
    "plt.xlabel(\"time\")\n",
    "plt.ylabel(\"USD-IDR\")\n",
    "plt.legend(['predicted', 'real'], loc='upper right')\n",
    "# plt.savefig()\n",
    "plt.show()"
   ]
  },
  {
   "cell_type": "markdown",
   "id": "34303042-db2a-4fa5-8d75-c44c659adfff",
   "metadata": {},
   "source": [
    "### Measurement"
   ]
  },
  {
   "cell_type": "code",
   "execution_count": 69,
   "id": "824280a5-39d0-48f7-995c-c803525812a7",
   "metadata": {},
   "outputs": [],
   "source": [
    "evaluations = []\n",
    "for key, value in predicted.items():\n",
    "    do_eval = Evaluation(\n",
    "        x=scaler_usd.inverse_transform(\n",
    "            data.usd.windows.__dict__[f\"y_test{key.split('_')[0]}\"]\n",
    "        ),\n",
    "        y=scaler_usd.inverse_transform(\n",
    "            value\n",
    "        )\n",
    "    )\n",
    "    evaluations.append({\n",
    "            \"key\": key,\n",
    "            \"rmse\": do_eval.rmse(),\n",
    "            \"mae\": do_eval.mae(),\n",
    "            \"mda\": do_eval.mda(),\n",
    "        }\n",
    "    )"
   ]
  },
  {
   "cell_type": "code",
   "execution_count": 70,
   "id": "561cbb5b-a70b-4afe-a38b-8cee82f3bb8e",
   "metadata": {
    "tags": []
   },
   "outputs": [
    {
     "data": {
      "text/html": [
       "<div>\n",
       "<style scoped>\n",
       "    .dataframe tbody tr th:only-of-type {\n",
       "        vertical-align: middle;\n",
       "    }\n",
       "\n",
       "    .dataframe tbody tr th {\n",
       "        vertical-align: top;\n",
       "    }\n",
       "\n",
       "    .dataframe thead th {\n",
       "        text-align: right;\n",
       "    }\n",
       "</style>\n",
       "<table border=\"1\" class=\"dataframe\">\n",
       "  <thead>\n",
       "    <tr style=\"text-align: right;\">\n",
       "      <th></th>\n",
       "      <th>key</th>\n",
       "      <th>rmse</th>\n",
       "      <th>mae</th>\n",
       "      <th>mda</th>\n",
       "    </tr>\n",
       "  </thead>\n",
       "  <tbody>\n",
       "    <tr>\n",
       "      <th>0</th>\n",
       "      <td>9_2_1</td>\n",
       "      <td>144.030</td>\n",
       "      <td>82.177</td>\n",
       "      <td>0.506</td>\n",
       "    </tr>\n",
       "    <tr>\n",
       "      <th>2</th>\n",
       "      <td>9_2_3</td>\n",
       "      <td>146.361</td>\n",
       "      <td>82.742</td>\n",
       "      <td>0.500</td>\n",
       "    </tr>\n",
       "    <tr>\n",
       "      <th>3</th>\n",
       "      <td>9_2_4</td>\n",
       "      <td>164.874</td>\n",
       "      <td>91.717</td>\n",
       "      <td>0.503</td>\n",
       "    </tr>\n",
       "    <tr>\n",
       "      <th>1</th>\n",
       "      <td>9_2_2</td>\n",
       "      <td>203.684</td>\n",
       "      <td>116.428</td>\n",
       "      <td>0.517</td>\n",
       "    </tr>\n",
       "  </tbody>\n",
       "</table>\n",
       "</div>"
      ],
      "text/plain": [
       "     key     rmse      mae    mda\n",
       "0  9_2_1  144.030   82.177  0.506\n",
       "2  9_2_3  146.361   82.742  0.500\n",
       "3  9_2_4  164.874   91.717  0.503\n",
       "1  9_2_2  203.684  116.428  0.517"
      ]
     },
     "execution_count": 70,
     "metadata": {},
     "output_type": "execute_result"
    }
   ],
   "source": [
    "pd.DataFrame(evaluations).sort_values('mae')"
   ]
  },
  {
   "cell_type": "markdown",
   "id": "550a177a-85ab-47f3-a235-dd2ff01ce9f2",
   "metadata": {},
   "source": [
    "### Results\n",
    "Model dengan arsitektur 9-2-1-(1) memiliki error paling kecil\n",
    "- mae  : 55.061\n",
    "- rmse : 94.232\n",
    "- mda  : 50%"
   ]
  },
  {
   "cell_type": "code",
   "execution_count": 79,
   "id": "4e14c0df-f1f6-4261-8603-15bb3b67e2ed",
   "metadata": {},
   "outputs": [
    {
     "data": {
      "text/plain": [
       "(353, 9, 1)"
      ]
     },
     "execution_count": 79,
     "metadata": {},
     "output_type": "execute_result"
    }
   ],
   "source": [
    "data.usd.windows.X_test9.shape"
   ]
  },
  {
   "cell_type": "markdown",
   "id": "bff76eb9-0736-4888-b86d-29e367ea3d1a",
   "metadata": {},
   "source": [
    "## 3 Hidden Layers\n",
    "### Load models"
   ]
  },
  {
   "cell_type": "code",
   "execution_count": 80,
   "id": "4ca4ba56-34e0-4d49-90ea-6e1217795b30",
   "metadata": {
    "tags": []
   },
   "outputs": [
    {
     "name": "stdout",
     "output_type": "stream",
     "text": [
      "Loaded model ./models/usd/model_9_2_1_1.h5...\n",
      "Predicted model ./models/usd/model_9_2_1_1.h5\n",
      "Loaded model ./models/usd/model_9_2_1_2.h5...\n",
      "Predicted model ./models/usd/model_9_2_1_2.h5\n",
      "Loaded model ./models/usd/model_9_2_1_3.h5...\n",
      "Predicted model ./models/usd/model_9_2_1_3.h5\n",
      "Loaded model ./models/usd/model_9_2_1_4.h5...\n",
      "Predicted model ./models/usd/model_9_2_1_4.h5\n"
     ]
    }
   ],
   "source": [
    "predicted = {}\n",
    "for neuron in neurons:\n",
    "    model_file = f'./models/usd/model_9_2_1_{neuron}.h5'\n",
    "    if os.path.exists(model_file):\n",
    "        model = keras.models.load_model(model_file)\n",
    "        print(f\"Loaded model {model_file}...\")\n",
    "        predicted[f\"9_2_1_{neuron}\"] = model.predict(\n",
    "            data.usd.windows.__dict__[f\"X_test9\"])\n",
    "        print(f\"Predicted model {model_file}\")\n",
    "    else:\n",
    "        print(f\"model {model_file} not exists.\")"
   ]
  },
  {
   "cell_type": "markdown",
   "id": "d22e7716-7482-4284-91e4-c24638602be2",
   "metadata": {},
   "source": [
    "### Plotting predicted x actual"
   ]
  },
  {
   "cell_type": "code",
   "execution_count": 91,
   "id": "98383677-4382-431b-b6be-2e14edb1b395",
   "metadata": {},
   "outputs": [
    {
     "data": {
      "image/png": "[encoded data removed]",
      "text/plain": [
       "<Figure size 432x288 with 1 Axes>"
      ]
     },
     "metadata": {
      "needs_background": "light"
     },
     "output_type": "display_data"
    }
   ],
   "source": [
    "plt.plot(scaler_usd.inverse_transform(predicted['9_2_1_3']))\n",
    "plt.plot(scaler_usd.inverse_transform(data.usd.windows.y_test9))\n",
    "plt.title('Comparation real x predicted USD-IDR')\n",
    "plt.xlabel(\"time\")\n",
    "plt.ylabel(\"USD-IDR\")\n",
    "plt.legend(['predicted', 'real'], loc='upper right')\n",
    "# plt.savefig()\n",
    "plt.show()"
   ]
  },
  {
   "cell_type": "markdown",
   "id": "9b8786a5-2306-4f75-bb12-03330d17c637",
   "metadata": {},
   "source": [
    "### Measurement"
   ]
  },
  {
   "cell_type": "code",
   "execution_count": 52,
   "id": "8f95fa3e-237a-49ec-80c2-9d12ce19a4b9",
   "metadata": {},
   "outputs": [],
   "source": [
    "evaluations = []\n",
    "for key, value in predicted.items():\n",
    "    do_eval = Evaluation(\n",
    "        x=scaler_usd.inverse_transform(\n",
    "            data.usd.windows.__dict__[f\"y_test{key.split('_')[0]}\"]\n",
    "        ),\n",
    "        y=scaler_usd.inverse_transform(\n",
    "            value\n",
    "        )\n",
    "    )\n",
    "    evaluations.append({\n",
    "            \"key\": key,\n",
    "            \"rmse\": do_eval.rmse(),\n",
    "            \"mae\": do_eval.mae(),\n",
    "            \"mda\": do_eval.mda(),\n",
    "        }\n",
    "    )"
   ]
  },
  {
   "cell_type": "code",
   "execution_count": 35,
   "id": "17cb4758-980d-4199-97eb-3e17298bd158",
   "metadata": {
    "tags": []
   },
   "outputs": [
    {
     "data": {
      "text/html": [
       "<div>\n",
       "<style scoped>\n",
       "    .dataframe tbody tr th:only-of-type {\n",
       "        vertical-align: middle;\n",
       "    }\n",
       "\n",
       "    .dataframe tbody tr th {\n",
       "        vertical-align: top;\n",
       "    }\n",
       "\n",
       "    .dataframe thead th {\n",
       "        text-align: right;\n",
       "    }\n",
       "</style>\n",
       "<table border=\"1\" class=\"dataframe\">\n",
       "  <thead>\n",
       "    <tr style=\"text-align: right;\">\n",
       "      <th></th>\n",
       "      <th>key</th>\n",
       "      <th>rmse</th>\n",
       "      <th>mae</th>\n",
       "      <th>mda</th>\n",
       "    </tr>\n",
       "  </thead>\n",
       "  <tbody>\n",
       "    <tr>\n",
       "      <th>0</th>\n",
       "      <td>9_2_1</td>\n",
       "      <td>94.232</td>\n",
       "      <td>55.061</td>\n",
       "      <td>0.500</td>\n",
       "    </tr>\n",
       "    <tr>\n",
       "      <th>1</th>\n",
       "      <td>9_2_2</td>\n",
       "      <td>107.210</td>\n",
       "      <td>60.982</td>\n",
       "      <td>0.494</td>\n",
       "    </tr>\n",
       "    <tr>\n",
       "      <th>2</th>\n",
       "      <td>9_2_3</td>\n",
       "      <td>145.911</td>\n",
       "      <td>80.811</td>\n",
       "      <td>0.486</td>\n",
       "    </tr>\n",
       "    <tr>\n",
       "      <th>3</th>\n",
       "      <td>9_2_4</td>\n",
       "      <td>208.396</td>\n",
       "      <td>117.967</td>\n",
       "      <td>0.523</td>\n",
       "    </tr>\n",
       "  </tbody>\n",
       "</table>\n",
       "</div>"
      ],
      "text/plain": [
       "     key     rmse      mae    mda\n",
       "0  9_2_1   94.232   55.061  0.500\n",
       "1  9_2_2  107.210   60.982  0.494\n",
       "2  9_2_3  145.911   80.811  0.486\n",
       "3  9_2_4  208.396  117.967  0.523"
      ]
     },
     "execution_count": 35,
     "metadata": {},
     "output_type": "execute_result"
    }
   ],
   "source": [
    "pd.DataFrame(evaluations).sort_values('mae')"
   ]
  },
  {
   "cell_type": "markdown",
   "id": "7dc0c6e5-b01a-4766-9917-f536da816bd5",
   "metadata": {},
   "source": [
    "### Results\n",
    "Model dengan arsitektur 9-2-1-(1) memiliki error paling kecil\n",
    "- mae  : 55.061\n",
    "- rmse : 94.232\n",
    "- mda  : 50%"
   ]
  },
  {
   "cell_type": "markdown",
   "id": "ab6adb3c-4421-4efa-ab3f-d14427dea834",
   "metadata": {},
   "source": [
    "# JPYIDR Model evaluation\n",
    "---"
   ]
  },
  {
   "cell_type": "code",
   "execution_count": 50,
   "id": "86378b84-2761-4fa9-b57c-3a0b0d3816d7",
   "metadata": {},
   "outputs": [],
   "source": [
    "neurons = [1,2,3,4]\n",
    "inputs = [7,8,9,10]\n",
    "n_layer = 3"
   ]
  },
  {
   "cell_type": "markdown",
   "id": "a8b9dbe3-472f-4404-91e8-4a4a9c725fb0",
   "metadata": {},
   "source": [
    "## First Layer\n",
    "- Load model "
   ]
  },
  {
   "cell_type": "code",
   "execution_count": 51,
   "id": "0971058f-8559-4295-bd5c-d28cb061265e",
   "metadata": {},
   "outputs": [
    {
     "data": {
      "text/plain": [
       "(359, 7, 1)"
      ]
     },
     "execution_count": 51,
     "metadata": {},
     "output_type": "execute_result"
    }
   ],
   "source": [
    "data.jpy.windows.__dict__[\"X_test7\"].shape"
   ]
  },
  {
   "cell_type": "code",
   "execution_count": 52,
   "id": "66caf18d-3a48-4744-9461-2a205bfbaaee",
   "metadata": {
    "tags": []
   },
   "outputs": [],
   "source": [
    "# predicted = {}\n",
    "# for slide in inputs:\n",
    "#     for neuron in neurons:\n",
    "#         model_file = f'./models/jpy/model_{slide}_{neuron}.h5'\n",
    "#         if os.path.exists(model_file):\n",
    "#             model = keras.models.load_model(model_file)\n",
    "#             print(f\"Loaded model {slide}_{neuron} from storage...\")\n",
    "#             predicted[f\"{slide}_{neuron}\"] = model.predict(\n",
    "#                 data.jpy.windows.__dict__[f\"X_test{slide}\"]\n",
    "#             )\n",
    "#             print(f\"Predicted model {slide}_{neuron}\")\n",
    "#         break\n",
    "#     break"
   ]
  }
 ],
 "metadata": {
  "kernelspec": {
   "display_name": "Python 3",
   "language": "python",
   "name": "python3"
  },
  "language_info": {
   "codemirror_mode": {
    "name": "ipython",
    "version": 3
   },
   "file_extension": ".py",
   "mimetype": "text/x-python",
   "name": "python",
   "nbconvert_exporter": "python",
   "pygments_lexer": "ipython3",
   "version": "3.6.15"
  },
  "toc-showtags": false
 },
 "nbformat": 4,
 "nbformat_minor": 5
}
